{
 "cells": [
  {
   "cell_type": "markdown",
   "id": "threaded-excellence",
   "metadata": {},
   "source": [
    "# Timeseries classification with a Transformer model"
   ]
  },
  {
   "cell_type": "markdown",
   "id": "irish-popularity",
   "metadata": {},
   "source": [
    "## Import packages"
   ]
  },
  {
   "cell_type": "code",
   "execution_count": 1,
   "id": "bottom-chase",
   "metadata": {
    "ExecuteTime": {
     "end_time": "2021-08-15T15:49:09.853797Z",
     "start_time": "2021-08-15T15:49:09.103993Z"
    }
   },
   "outputs": [],
   "source": [
    "import numpy as np\n",
    "import torch\n",
    "import torch.nn as nn\n",
    "import torch.nn.functional as F\n",
    "import torch.optim as optim\n",
    "from torch.utils.data import Dataset\n",
    "from torch.utils.data import DataLoader\n",
    "from torchinfo import summary\n",
    "import sys\n",
    "from matplotlib import pyplot as plt"
   ]
  },
  {
   "cell_type": "markdown",
   "id": "monthly-northeast",
   "metadata": {},
   "source": [
    "## Load the dataset"
   ]
  },
  {
   "cell_type": "markdown",
   "id": "forced-implementation",
   "metadata": {},
   "source": [
    "자동차 하위 시스템에 특정 증상이 있는지 여부를 진단하는 것.\n",
    "\n",
    "500개의 엔진 소음 측정 및 class로 구성"
   ]
  },
  {
   "cell_type": "code",
   "execution_count": 2,
   "id": "stable-punishment",
   "metadata": {
    "ExecuteTime": {
     "end_time": "2021-08-15T15:49:13.472122Z",
     "start_time": "2021-08-15T15:49:11.539831Z"
    }
   },
   "outputs": [],
   "source": [
    "def readucr(filename):\n",
    "    data = np.loadtxt(filename, delimiter=\"\\t\")\n",
    "    y = data[:, 0]\n",
    "    x = data[:, 1:]\n",
    "    return x, y.astype(int)\n",
    "\n",
    "\n",
    "root_url = \"https://raw.githubusercontent.com/hfawaz/cd-diagram/master/FordA/\"\n",
    "\n",
    "x_train, y_train = readucr(root_url + \"FordA_TRAIN.tsv\")\n",
    "x_test, y_test = readucr(root_url + \"FordA_TEST.tsv\")\n",
    "\n",
    "x_train = x_train.reshape((x_train.shape[0], 1, x_train.shape[1]))\n",
    "x_test = x_test.reshape((x_test.shape[0], 1, x_test.shape[1]))\n",
    "\n",
    "n_classes = len(np.unique(y_train))\n",
    "\n",
    "idx = np.random.permutation(len(x_train))\n",
    "x_train = x_train[idx]\n",
    "y_train = y_train[idx]\n",
    "\n",
    "y_train[y_train == -1] = 0\n",
    "y_test[y_test == -1] = 0"
   ]
  },
  {
   "cell_type": "code",
   "execution_count": 3,
   "id": "photographic-movement",
   "metadata": {
    "ExecuteTime": {
     "end_time": "2021-08-15T15:49:17.136433Z",
     "start_time": "2021-08-15T15:49:17.131202Z"
    }
   },
   "outputs": [
    {
     "data": {
      "text/plain": [
       "array([[[-0.55886975, -0.53809641, -0.4723142 , ..., -0.72274825,\n",
       "         -0.43076753, -0.08442993]],\n",
       "\n",
       "       [[ 0.59877848,  0.35105249,  0.16529298, ...,  0.89801912,\n",
       "          1.2737284 ,  1.446546  ]],\n",
       "\n",
       "       [[-0.33121335, -0.49904946, -0.71180593, ..., -0.50921764,\n",
       "         -0.71925329, -0.88824043]],\n",
       "\n",
       "       ...,\n",
       "\n",
       "       [[ 0.13503653, -0.25052377, -0.59185988, ..., -1.1524484 ,\n",
       "         -0.95935677, -0.70397757]],\n",
       "\n",
       "       [[ 0.30846193,  0.31761688,  0.28230493, ...,  1.2945808 ,\n",
       "          1.7510204 ,  2.0910614 ]],\n",
       "\n",
       "       [[ 0.28637012,  0.39110407,  0.54482649, ..., -0.28544349,\n",
       "         -0.24490132, -0.11820702]]])"
      ]
     },
     "execution_count": 3,
     "metadata": {},
     "output_type": "execute_result"
    }
   ],
   "source": [
    "x_train"
   ]
  },
  {
   "cell_type": "code",
   "execution_count": 4,
   "id": "personalized-album",
   "metadata": {
    "ExecuteTime": {
     "end_time": "2021-08-15T15:49:17.892553Z",
     "start_time": "2021-08-15T15:49:17.881007Z"
    }
   },
   "outputs": [
    {
     "data": {
      "text/plain": [
       "(3601, 1, 500)"
      ]
     },
     "execution_count": 4,
     "metadata": {},
     "output_type": "execute_result"
    }
   ],
   "source": [
    "x_train.shape"
   ]
  },
  {
   "cell_type": "code",
   "execution_count": 5,
   "id": "loving-cycle",
   "metadata": {
    "ExecuteTime": {
     "end_time": "2021-08-15T15:49:18.455194Z",
     "start_time": "2021-08-15T15:49:18.450903Z"
    }
   },
   "outputs": [
    {
     "data": {
      "text/plain": [
       "array([0, 1, 1, ..., 0, 0, 0])"
      ]
     },
     "execution_count": 5,
     "metadata": {},
     "output_type": "execute_result"
    }
   ],
   "source": [
    "y_train"
   ]
  },
  {
   "cell_type": "code",
   "execution_count": 6,
   "id": "excessive-likelihood",
   "metadata": {
    "ExecuteTime": {
     "end_time": "2021-08-15T15:49:18.889763Z",
     "start_time": "2021-08-15T15:49:18.886491Z"
    }
   },
   "outputs": [
    {
     "data": {
      "text/plain": [
       "(3601,)"
      ]
     },
     "execution_count": 6,
     "metadata": {},
     "output_type": "execute_result"
    }
   ],
   "source": [
    "y_train.shape"
   ]
  },
  {
   "cell_type": "code",
   "execution_count": 7,
   "id": "attached-projection",
   "metadata": {
    "ExecuteTime": {
     "end_time": "2021-08-15T15:49:20.574998Z",
     "start_time": "2021-08-15T15:49:20.570844Z"
    }
   },
   "outputs": [],
   "source": [
    "class CustomDataset(Dataset): \n",
    "    def __init__(self, x_tensor, y_tensor):\n",
    "        self.x = x_tensor\n",
    "        self.y = y_tensor\n",
    "\n",
    "    def __len__(self): \n",
    "        return len(self.y)\n",
    "\n",
    "    def __getitem__(self, index): \n",
    "        return self.x[index], self.y[index]"
   ]
  },
  {
   "cell_type": "code",
   "execution_count": 8,
   "id": "faced-vintage",
   "metadata": {
    "ExecuteTime": {
     "end_time": "2021-08-15T15:49:21.389318Z",
     "start_time": "2021-08-15T15:49:21.379373Z"
    }
   },
   "outputs": [],
   "source": [
    "params = {'batch_size': 64,\n",
    "          'shuffle': True,\n",
    "          'num_workers': 8,\n",
    "          'pin_memory' : True}\n",
    "\n",
    "val_rate = 0.2\n",
    "\n",
    "x_train = x_train[:int(len(x_train)*(1-val_rate))]\n",
    "y_train = y_train[:int(len(y_train)*(1-val_rate))]\n",
    "x_val = x_train[int(len(x_train)*(1-val_rate)):]\n",
    "y_val = y_train[int(len(x_train)*(1-val_rate)):]\n",
    "\n",
    "\n",
    "x_train = torch.FloatTensor(x_train)\n",
    "y_train = torch.tensor(y_train)\n",
    "x_val = torch.FloatTensor(x_val)\n",
    "y_val = torch.tensor(y_val)\n",
    "tr_dataset = CustomDataset(x_train, y_train)\n",
    "dataloader = DataLoader(dataset=tr_dataset, **params)"
   ]
  },
  {
   "cell_type": "code",
   "execution_count": 9,
   "id": "roman-sculpture",
   "metadata": {
    "ExecuteTime": {
     "end_time": "2021-08-15T15:49:22.331176Z",
     "start_time": "2021-08-15T15:49:22.328199Z"
    }
   },
   "outputs": [
    {
     "name": "stdout",
     "output_type": "stream",
     "text": [
      "Train : 2880, Validation : 576, Test : 1320\n"
     ]
    }
   ],
   "source": [
    "print(f'Train : {len(x_train)}, Validation : {len(x_val)}, Test : {len(x_test)}')"
   ]
  },
  {
   "cell_type": "markdown",
   "id": "quiet-pregnancy",
   "metadata": {},
   "source": [
    "## Build the model"
   ]
  },
  {
   "cell_type": "markdown",
   "id": "fiscal-switch",
   "metadata": {},
   "source": [
    "Our model processes a tensor of shape ```(batch size, features, sequence length)```, where sequence length is the number of time steps and features is each input timeseries.\n",
    "\n",
    "You can replace your classification RNN layers with this one: the inputs are fully compatible!"
   ]
  },
  {
   "cell_type": "code",
   "execution_count": 11,
   "id": "portuguese-treasury",
   "metadata": {
    "ExecuteTime": {
     "end_time": "2021-08-15T15:49:30.026006Z",
     "start_time": "2021-08-15T15:49:30.020936Z"
    }
   },
   "outputs": [],
   "source": [
    "device = torch.device(\"cuda\" if torch.cuda.is_available() else \"cpu\")\n",
    "torch.backends.cudnn.benchmark = True"
   ]
  },
  {
   "cell_type": "code",
   "execution_count": 12,
   "id": "hollow-olympus",
   "metadata": {
    "ExecuteTime": {
     "end_time": "2021-08-15T15:49:30.912563Z",
     "start_time": "2021-08-15T15:49:30.903068Z"
    }
   },
   "outputs": [],
   "source": [
    "class transformer_encoder(nn.Module):\n",
    "    def __init__(self, input_shape, num_heads, ff_dim, dropout=0):\n",
    "        super().__init__()\n",
    "        hidden_size = input_shape[0]\n",
    "        self.ln = nn.LayerNorm(input_shape[1], eps=1e-6)\n",
    "        self.Attn = nn.MultiheadAttention(embed_dim=input_shape[1], num_heads=num_heads, dropout=dropout)\n",
    "        self.dropout = nn.Dropout(dropout)\n",
    "        self.ff_layer = nn.Sequential(\n",
    "            nn.LayerNorm(input_shape, eps=1e-6),\n",
    "            nn.Conv1d(hidden_size, ff_dim, kernel_size=1),\n",
    "            nn.Dropout(dropout),\n",
    "            nn.Conv1d(ff_dim, hidden_size, kernel_size=1)\n",
    "        )\n",
    "       \n",
    "    def forward(self, inputs):\n",
    "        x = self.ln(inputs)\n",
    "        x, x_weights = self.Attn(x, x, x)\n",
    "        x = self.dropout(x)\n",
    "        res = x+inputs\n",
    "        x = self.ff_layer(res)\n",
    "        return x+res"
   ]
  },
  {
   "cell_type": "code",
   "execution_count": 13,
   "id": "animal-newman",
   "metadata": {
    "ExecuteTime": {
     "end_time": "2021-08-15T15:49:32.675526Z",
     "start_time": "2021-08-15T15:49:32.668558Z"
    }
   },
   "outputs": [],
   "source": [
    "class MLP(nn.Module):\n",
    "    def __init__(self, mlp_units, dropout, activation=nn.ReLU, output_activation=nn.LogSoftmax):\n",
    "        super().__init__()\n",
    "        self.mlp_layers = []\n",
    "        for i in range(len(mlp_units)-1):\n",
    "            act = activation if i < len(mlp_units)-2 else output_activation\n",
    "            if i!=len(mlp_units)-1:\n",
    "                self.mlp_layers += [nn.Linear(mlp_units[i], mlp_units[i+1]), nn.Dropout(dropout), act()]\n",
    "            else:\n",
    "                self.mlp_layers += [nn.Linear(mlp_units[i], mlp_units[i+1]), act()]\n",
    "        self.mlp_layers = nn.Sequential(*self.mlp_layers)\n",
    "    def forward(self, inputs):\n",
    "        return self.mlp_layers(inputs)"
   ]
  },
  {
   "cell_type": "code",
   "execution_count": 14,
   "id": "appointed-group",
   "metadata": {
    "ExecuteTime": {
     "end_time": "2021-08-15T15:49:33.066581Z",
     "start_time": "2021-08-15T15:49:33.043417Z"
    }
   },
   "outputs": [],
   "source": [
    "class build_model(nn.Module):\n",
    "    def __init__(\n",
    "        self, \n",
    "        hidden_size,\n",
    "        num_heads,\n",
    "        ff_dim,\n",
    "        num_transformer_blocks,\n",
    "        mlp_units,\n",
    "        dropout=0,\n",
    "        mlp_dropout=0\n",
    "    ):\n",
    "        super().__init__()\n",
    "        self.num_transformer_blocks = num_transformer_blocks\n",
    "        self.encoder = transformer_encoder(hidden_size, num_heads, ff_dim, dropout)\n",
    "        self.mlp = MLP(mlp_units, mlp_dropout)\n",
    "        \n",
    "    def forward(self, inputs):\n",
    "        x = inputs\n",
    "        for _ in range(self.num_transformer_blocks):\n",
    "            x = self.encoder(x)\n",
    "        x = x.mean(dim=(1))\n",
    "        output = self.mlp(x)\n",
    "        return output"
   ]
  },
  {
   "cell_type": "markdown",
   "id": "detected-strap",
   "metadata": {},
   "source": [
    "### Train and evaluate"
   ]
  },
  {
   "cell_type": "markdown",
   "id": "bigger-wheat",
   "metadata": {
    "ExecuteTime": {
     "end_time": "2021-08-11T20:34:21.548705Z",
     "start_time": "2021-08-11T20:34:21.543778Z"
    }
   },
   "source": [
    "head_size issue"
   ]
  },
  {
   "cell_type": "code",
   "execution_count": 27,
   "id": "informative-andrew",
   "metadata": {
    "ExecuteTime": {
     "end_time": "2021-08-15T15:59:29.599677Z",
     "start_time": "2021-08-15T15:59:28.387075Z"
    }
   },
   "outputs": [
    {
     "data": {
      "text/plain": [
       "==========================================================================================\n",
       "Layer (type:depth-idx)                   Output Shape              Param #\n",
       "==========================================================================================\n",
       "build_model                              --                        --\n",
       "├─transformer_encoder: 1-1               [3601, 1, 500]            --\n",
       "│    └─LayerNorm: 2-1                    [3601, 1, 500]            1,000\n",
       "│    └─MultiheadAttention: 2-2           [3601, 1, 500]            --\n",
       "│    └─Dropout: 2-3                      [3601, 1, 500]            --\n",
       "│    └─Sequential: 2-4                   [3601, 1, 500]            --\n",
       "│    │    └─LayerNorm: 3-1               [3601, 1, 500]            1,000\n",
       "│    │    └─Conv1d: 3-2                  [3601, 4, 500]            8\n",
       "│    │    └─Dropout: 3-3                 [3601, 4, 500]            --\n",
       "│    │    └─Conv1d: 3-4                  [3601, 1, 500]            5\n",
       "├─transformer_encoder: 1-2               [3601, 1, 500]            (recursive)\n",
       "│    └─LayerNorm: 2-5                    [3601, 1, 500]            (recursive)\n",
       "│    └─MultiheadAttention: 2-6           [3601, 1, 500]            (recursive)\n",
       "│    └─Dropout: 2-7                      [3601, 1, 500]            --\n",
       "│    └─Sequential: 2-8                   [3601, 1, 500]            (recursive)\n",
       "│    │    └─LayerNorm: 3-5               [3601, 1, 500]            (recursive)\n",
       "│    │    └─Conv1d: 3-6                  [3601, 4, 500]            (recursive)\n",
       "│    │    └─Dropout: 3-7                 [3601, 4, 500]            --\n",
       "│    │    └─Conv1d: 3-8                  [3601, 1, 500]            (recursive)\n",
       "├─transformer_encoder: 1-3               [3601, 1, 500]            (recursive)\n",
       "│    └─LayerNorm: 2-9                    [3601, 1, 500]            (recursive)\n",
       "│    └─MultiheadAttention: 2-10          [3601, 1, 500]            (recursive)\n",
       "│    └─Dropout: 2-11                     [3601, 1, 500]            --\n",
       "│    └─Sequential: 2-12                  [3601, 1, 500]            (recursive)\n",
       "│    │    └─LayerNorm: 3-9               [3601, 1, 500]            (recursive)\n",
       "│    │    └─Conv1d: 3-10                 [3601, 4, 500]            (recursive)\n",
       "│    │    └─Dropout: 3-11                [3601, 4, 500]            --\n",
       "│    │    └─Conv1d: 3-12                 [3601, 1, 500]            (recursive)\n",
       "├─transformer_encoder: 1-4               [3601, 1, 500]            (recursive)\n",
       "│    └─LayerNorm: 2-13                   [3601, 1, 500]            (recursive)\n",
       "│    └─MultiheadAttention: 2-14          [3601, 1, 500]            (recursive)\n",
       "│    └─Dropout: 2-15                     [3601, 1, 500]            --\n",
       "│    └─Sequential: 2-16                  [3601, 1, 500]            (recursive)\n",
       "│    │    └─LayerNorm: 3-13              [3601, 1, 500]            (recursive)\n",
       "│    │    └─Conv1d: 3-14                 [3601, 4, 500]            (recursive)\n",
       "│    │    └─Dropout: 3-15                [3601, 4, 500]            --\n",
       "│    │    └─Conv1d: 3-16                 [3601, 1, 500]            (recursive)\n",
       "├─MLP: 1-5                               [3601, 2]                 --\n",
       "│    └─Sequential: 2-17                  [3601, 2]                 --\n",
       "│    │    └─Linear: 3-17                 [3601, 128]               64,128\n",
       "│    │    └─Dropout: 3-18                [3601, 128]               --\n",
       "│    │    └─ReLU: 3-19                   [3601, 128]               --\n",
       "│    │    └─Linear: 3-20                 [3601, 2]                 258\n",
       "│    │    └─Dropout: 3-21                [3601, 2]                 --\n",
       "│    │    └─LogSoftmax: 3-22             [3601, 2]                 --\n",
       "==========================================================================================\n",
       "Total params: 66,399\n",
       "Trainable params: 66,399\n",
       "Non-trainable params: 0\n",
       "Total mult-adds (M): 354.29\n",
       "==========================================================================================\n",
       "Input size (MB): 7.20\n",
       "Forward/backward pass size (MB): 104.57\n",
       "Params size (MB): 0.27\n",
       "Estimated Total Size (MB): 112.04\n",
       "=========================================================================================="
      ]
     },
     "execution_count": 27,
     "metadata": {},
     "output_type": "execute_result"
    }
   ],
   "source": [
    "input_shape = x_train.shape[1:]\n",
    "model = build_model(\n",
    "    input_shape,\n",
    "    num_heads=4,\n",
    "    ff_dim=4,\n",
    "    num_transformer_blocks=4,\n",
    "    mlp_units=[input_shape[1], 128, n_classes],\n",
    "    mlp_dropout=0.4,\n",
    "    dropout=0.25,\n",
    ").to(device)\n",
    "\n",
    "summary(model, input_size = (3601, 1, 500))"
   ]
  },
  {
   "cell_type": "code",
   "execution_count": 28,
   "id": "incomplete-witness",
   "metadata": {
    "ExecuteTime": {
     "end_time": "2021-08-15T15:59:30.199060Z",
     "start_time": "2021-08-15T15:59:30.193251Z"
    }
   },
   "outputs": [],
   "source": [
    "optimizer = optim.Adam(model.parameters(), lr=1e-4)\n",
    "loss_fn = nn.NLLLoss()"
   ]
  },
  {
   "cell_type": "code",
   "execution_count": 18,
   "id": "liked-details",
   "metadata": {
    "ExecuteTime": {
     "end_time": "2021-08-15T15:49:48.546945Z",
     "start_time": "2021-08-15T15:49:48.541512Z"
    }
   },
   "outputs": [],
   "source": [
    "class EarlyStopping():\n",
    "    def __init__(self, patience=0, verbose=0):\n",
    "        self._step = 0\n",
    "        self._loss = float('inf')\n",
    "        self.patience = patience\n",
    "        self.verbose = verbose\n",
    "\n",
    "    def validate(self, loss):\n",
    "        if self._loss < loss:\n",
    "            self._step += 1\n",
    "            if self._step > self.patience:\n",
    "                if self.verbose:\n",
    "                    print(f'Training process is stopped early....')\n",
    "                return True\n",
    "        else:\n",
    "            self._step = 0\n",
    "            self._loss = loss\n",
    "\n",
    "        return False"
   ]
  },
  {
   "cell_type": "code",
   "execution_count": 19,
   "id": "novel-therapist",
   "metadata": {
    "ExecuteTime": {
     "end_time": "2021-08-15T15:49:49.172125Z",
     "start_time": "2021-08-15T15:49:49.163841Z"
    }
   },
   "outputs": [],
   "source": [
    "def train(model, train_data, optimizer, loss_fn, use_fp16=True, max_norm=None):\n",
    "    \n",
    "    epoch_loss = 0\n",
    "    correct = 0\n",
    "    \n",
    "    model.train() \n",
    "\n",
    "    for idx, [x, y] in enumerate(train_data):\n",
    "        \n",
    "        optimizer.zero_grad(set_to_none=True)\n",
    "        scaler = torch.cuda.amp.GradScaler()\n",
    "                        \n",
    "        x = x.to(device)\n",
    "        \n",
    "        with torch.cuda.amp.autocast(enabled=use_fp16):\n",
    "            predictions = model.forward(x)\n",
    "            train_loss = loss_fn(predictions, y)\n",
    "        if use_fp16:\n",
    "            scaler.scale(train_loss).backward()\n",
    "            if max_norm is not None:\n",
    "                scaler.unscale_(optimizer)\n",
    "                torch.nn.utils.clip_grad_norm_(model.parameters(), max_norm)\n",
    "            scaler.step(optimizer)\n",
    "            scaler.update()\n",
    "        else:\n",
    "            train_loss.backward()\n",
    "            optimizer.step()\n",
    "        _, predicted = torch.max(predictions.data, 1)\n",
    "        epoch_loss += train_loss.item()\n",
    "        correct += (predicted == y).sum().item()\n",
    "        \n",
    "    return epoch_loss/len(train_data), correct"
   ]
  },
  {
   "cell_type": "code",
   "execution_count": 20,
   "id": "arctic-ranking",
   "metadata": {
    "ExecuteTime": {
     "end_time": "2021-08-15T15:49:49.959913Z",
     "start_time": "2021-08-15T15:49:49.953947Z"
    }
   },
   "outputs": [],
   "source": [
    "def validation(model, val_data, loss_fn):\n",
    "    model.eval()\n",
    "    \n",
    "    with torch.no_grad():\n",
    "        predictions = model.forward(val_data[0])\n",
    "        val_loss = loss_fn(predictions, val_data[1])\n",
    "        _, predicted = torch.max(predictions.data, 1)\n",
    "        correct = (predicted == val_data[1]).sum().item()\n",
    "        \n",
    "    return val_loss.item()/len(val_data), correct/len(val_data[0])"
   ]
  },
  {
   "cell_type": "code",
   "execution_count": 29,
   "id": "embedded-english",
   "metadata": {
    "ExecuteTime": {
     "end_time": "2021-08-15T16:04:05.057572Z",
     "start_time": "2021-08-15T15:59:34.519525Z"
    }
   },
   "outputs": [
    {
     "name": "stdout",
     "output_type": "stream",
     "text": [
      "[Train] Epoch : 157  Train Loss: 0.1928  Train Accuracy: 0.8931  Validation Loss: 0.02066  Validation Accuracy: 0.9878Training process is stopped early....\n"
     ]
    }
   ],
   "source": [
    "# %%time\n",
    "epochs = 200\n",
    "history = dict()\n",
    "early_stopping = EarlyStopping(patience=10, verbose=1)\n",
    "for epoch in range(1, epochs+1):\n",
    "    epoch_loss, n_corr = train(model, dataloader, optimizer, loss_fn, use_fp16=True)\n",
    "    epoch_acc = n_corr/len(tr_dataset)\n",
    "    val_loss, val_acc = validation(model, [x_val, y_val], loss_fn)\n",
    "    \n",
    "    history.setdefault('loss', []).append(epoch_loss) \n",
    "    history.setdefault('val_loss', []).append(val_loss) \n",
    "    history.setdefault('acc', []).append(epoch_acc) \n",
    "    history.setdefault('val_acc', []).append(val_acc) \n",
    "    \n",
    "    sys.stdout.write(\n",
    "        \"\\r\" + f\"[Train] Epoch : {epoch:^3}\"\\\n",
    "        f\"  Train Loss: {epoch_loss:.4}\"\\\n",
    "        f\"  Train Accuracy: {epoch_acc:.4}\"\\\n",
    "        f\"  Validation Loss: {val_loss:.4}\"\\\n",
    "        f\"  Validation Accuracy: {val_acc:.4}\"\\\n",
    "                    )\n",
    "    \n",
    "    if early_stopping.validate(val_loss):\n",
    "        break"
   ]
  },
  {
   "cell_type": "code",
   "execution_count": 30,
   "id": "advisory-theorem",
   "metadata": {
    "ExecuteTime": {
     "end_time": "2021-08-15T16:04:13.577864Z",
     "start_time": "2021-08-15T16:04:13.424932Z"
    }
   },
   "outputs": [
    {
     "data": {
      "image/png": "[encoded data removed]",
      "text/plain": [
       "<Figure size 432x288 with 1 Axes>"
      ]
     },
     "metadata": {
      "needs_background": "light"
     },
     "output_type": "display_data"
    }
   ],
   "source": [
    "plt.plot(history[\"loss\"], label=\"Training Loss\")\n",
    "plt.plot(history[\"val_loss\"], label=\"Validation Loss\")\n",
    "plt.legend()\n",
    "plt.show()"
   ]
  },
  {
   "cell_type": "code",
   "execution_count": 31,
   "id": "provincial-burton",
   "metadata": {
    "ExecuteTime": {
     "end_time": "2021-08-15T16:04:14.422705Z",
     "start_time": "2021-08-15T16:04:14.268440Z"
    }
   },
   "outputs": [
    {
     "data": {
      "image/png": "[encoded data removed]",
      "text/plain": [
       "<Figure size 432x288 with 1 Axes>"
      ]
     },
     "metadata": {
      "needs_background": "light"
     },
     "output_type": "display_data"
    }
   ],
   "source": [
    "plt.plot(history[\"acc\"], label=\"Training Accuracy\")\n",
    "plt.plot(history[\"val_acc\"], label=\"Validation Accuracy\")\n",
    "plt.legend()\n",
    "plt.show()"
   ]
  },
  {
   "cell_type": "markdown",
   "id": "residential-merit",
   "metadata": {},
   "source": [
    "## Test"
   ]
  },
  {
   "cell_type": "code",
   "execution_count": 32,
   "id": "pending-mileage",
   "metadata": {
    "ExecuteTime": {
     "end_time": "2021-08-15T16:04:16.965990Z",
     "start_time": "2021-08-15T16:04:16.772746Z"
    }
   },
   "outputs": [
    {
     "name": "stdout",
     "output_type": "stream",
     "text": [
      "Acc: 0.8288\n"
     ]
    }
   ],
   "source": [
    "with torch.no_grad(): \n",
    "    predictions = model(torch.FloatTensor(x_test).to(device)).detach().cpu() \n",
    "    _, predicted = torch.max(predictions.data, 1)\n",
    "    correct = (predicted == torch.Tensor(y_test)).sum().item()\n",
    "    \n",
    "print(f'Acc: {correct/len(x_test):.4}')"
   ]
  },
  {
   "cell_type": "markdown",
   "id": "analyzed-wednesday",
   "metadata": {},
   "source": [
    "---"
   ]
  }
 ],
 "metadata": {
  "hide_input": false,
  "kernelspec": {
   "display_name": "Python 3",
   "language": "python",
   "name": "python3"
  },
  "language_info": {
   "codemirror_mode": {
    "name": "ipython",
    "version": 3
   },
   "file_extension": ".py",
   "mimetype": "text/x-python",
   "name": "python",
   "nbconvert_exporter": "python",
   "pygments_lexer": "ipython3",
   "version": "3.6.9"
  },
  "toc": {
   "base_numbering": 1,
   "nav_menu": {},
   "number_sections": true,
   "sideBar": true,
   "skip_h1_title": false,
   "title_cell": "Table of Contents",
   "title_sidebar": "Contents",
   "toc_cell": false,
   "toc_position": {},
   "toc_section_display": true,
   "toc_window_display": false
  },
  "varInspector": {
   "cols": {
    "lenName": 16,
    "lenType": 16,
    "lenVar": 40
   },
   "kernels_config": {
    "python": {
     "delete_cmd_postfix": "",
     "delete_cmd_prefix": "del ",
     "library": "var_list.py",
     "varRefreshCmd": "print(var_dic_list())"
    },
    "r": {
     "delete_cmd_postfix": ") ",
     "delete_cmd_prefix": "rm(",
     "library": "var_list.r",
     "varRefreshCmd": "cat(var_dic_list()) "
    }
   },
   "types_to_exclude": [
    "module",
    "function",
    "builtin_function_or_method",
    "instance",
    "_Feature"
   ],
   "window_display": false
  }
 },
 "nbformat": 4,
 "nbformat_minor": 5
}
