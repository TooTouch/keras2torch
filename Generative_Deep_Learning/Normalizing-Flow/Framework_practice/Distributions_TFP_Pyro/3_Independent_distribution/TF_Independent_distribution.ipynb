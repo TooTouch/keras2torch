{
 "cells": [
  {
   "cell_type": "code",
   "execution_count": 2,
   "id": "f04c1130",
   "metadata": {},
   "outputs": [],
   "source": [
    "import tensorflow as tf\n",
    "import tensorflow_probability as tfp\n",
    "tfd = tfp.distributions\n",
    "\n",
    "import matplotlib.pyplot as plt\n",
    "import numpy as np"
   ]
  },
  {
   "cell_type": "markdown",
   "id": "f2bce7c4",
   "metadata": {},
   "source": [
    "# Independent distributions [tensorflow_probability]\n",
    "\n",
    "- MultivariateNormalDiag로 다변량 정규분포를 직접 만드는 방법도 있지만, Independent distribution들의 Joint distribution으로 이러한 다변량 분포를 만들어내는 방법도 있다. \n",
    "    - ```tfd.Independent(batched_normal, reinterpreted_batch_ndims=0)```로 여러개의 distribution(batch 내)들을 결합할 수 있다."
   ]
  },
  {
   "cell_type": "markdown",
   "id": "f5fe7b23",
   "metadata": {},
   "source": [
    "**previous example**"
   ]
  },
  {
   "cell_type": "code",
   "execution_count": 4,
   "id": "788ff602",
   "metadata": {},
   "outputs": [
    {
     "name": "stdout",
     "output_type": "stream",
     "text": [
      "tfp.distributions.MultivariateNormalDiag(\"MultivariateNormalDiag\", batch_shape=[], event_shape=[2], dtype=float32)\n"
     ]
    }
   ],
   "source": [
    "# 2-dim, single distribution\n",
    "\n",
    "mv_normal = tfd.MultivariateNormalDiag(loc=[-1, 0.5], scale_diag=[1,1.5])\n",
    "print(mv_normal)"
   ]
  },
  {
   "cell_type": "code",
   "execution_count": 7,
   "id": "95551a73",
   "metadata": {},
   "outputs": [
    {
     "name": "stdout",
     "output_type": "stream",
     "text": [
      "tf.Tensor(-2.9388978, shape=(), dtype=float32)\n"
     ]
    }
   ],
   "source": [
    "# argument of 'log_prob' : 'single' vector of the 2-dimensional random variable\n",
    "# output : realization of 2-dim random variable\n",
    "\n",
    "print(mv_normal.log_prob([-0.2, 1.8]))"
   ]
  },
  {
   "cell_type": "code",
   "execution_count": 5,
   "id": "4a3ba18f",
   "metadata": {},
   "outputs": [
    {
     "name": "stdout",
     "output_type": "stream",
     "text": [
      "tfp.distributions.Normal(\"Normal\", batch_shape=[2], event_shape=[], dtype=float32)\n"
     ]
    }
   ],
   "source": [
    "# 1-dim, 2 distributions(batch_shape=2)\n",
    "\n",
    "batched_normal = tfd.Normal(loc=[-1, 0.5], scale=[1, 1.5])\n",
    "print(batched_normal)"
   ]
  },
  {
   "cell_type": "code",
   "execution_count": 8,
   "id": "e81d4ad6",
   "metadata": {
    "scrolled": true
   },
   "outputs": [
    {
     "name": "stdout",
     "output_type": "stream",
     "text": [
      "tf.Tensor([-1.2389386 -1.699959 ], shape=(2,), dtype=float32)\n"
     ]
    }
   ],
   "source": [
    "# argument of 'log_prob' : each value of a random variable of each distributions in batch.\n",
    "# output : realization of 2 log_probability values of each distributions in batch\n",
    "\n",
    "print(batched_normal.log_prob([-0.2, 1.8]))"
   ]
  },
  {
   "cell_type": "markdown",
   "id": "c2cbdfc4",
   "metadata": {},
   "source": [
    "**independent distribution**\n",
    "\n",
    "- The independent distribution gives us a way to absorb some or all of the batch dimensions into the event_shape\n",
    "    - For example, we could use the independent distribution to transform our batched_normal distribution so that it's equivalent to the multivariate normal diag distribution."
   ]
  },
  {
   "cell_type": "code",
   "execution_count": 13,
   "id": "23a2f88d",
   "metadata": {},
   "outputs": [
    {
     "name": "stdout",
     "output_type": "stream",
     "text": [
      "tfp.distributions.Normal(\"Normal\", batch_shape=[2], event_shape=[], dtype=float32)\n",
      "tfp.distributions.Independent(\"IndependentNormal\", batch_shape=[], event_shape=[2], dtype=float32)\n"
     ]
    }
   ],
   "source": [
    "batched_normal = tfd.Normal(loc=[-1, 0.5], scale=[1, 1.5])\n",
    "print(batched_normal)\n",
    "\n",
    "# normal의 batch 속 distribution들을 independent distribution으로 변환(transform)\n",
    "# args 'reinterpreted_batch_ndims' : specify how the batch dimensions should be absorbed into the event space.\n",
    "### 'reinterpreted_batch_ndims=1' : there is only 1 batch dimension(2) \n",
    "independent_normal = tfd.Independent(batched_normal, reinterpreted_batch_ndims=1)\n",
    "print(independent_normal)"
   ]
  },
  {
   "cell_type": "code",
   "execution_count": 14,
   "id": "08302a64",
   "metadata": {},
   "outputs": [
    {
     "name": "stdout",
     "output_type": "stream",
     "text": [
      "tf.Tensor([-1.2389386 -1.699959 ], shape=(2,), dtype=float32)\n"
     ]
    }
   ],
   "source": [
    "print(batched_normal.log_prob([-0.2, 1.8]))"
   ]
  },
  {
   "cell_type": "code",
   "execution_count": 16,
   "id": "97893f53",
   "metadata": {},
   "outputs": [
    {
     "name": "stdout",
     "output_type": "stream",
     "text": [
      "tf.Tensor(-2.9388978, shape=(), dtype=float32)\n",
      "tf.Tensor(-2.9388976, shape=(), dtype=float32)\n"
     ]
    }
   ],
   "source": [
    "# return 'scalar' value just as we had with the multivariate normal diag distribution.\n",
    "\n",
    "print(mv_normal.log_prob([-0.2, 1.8]))\n",
    "print(independent_normal.log_prob([-0.2, 1.8]))"
   ]
  },
  {
   "cell_type": "code",
   "execution_count": 19,
   "id": "c68371f2",
   "metadata": {},
   "outputs": [
    {
     "name": "stdout",
     "output_type": "stream",
     "text": [
      "tf.Tensor(-2.9388976, shape=(), dtype=float32)\n"
     ]
    }
   ],
   "source": [
    "# independent log_prob = batch 1 log_prob + batch 2 log_prob\n",
    "\n",
    "print(batched_normal.log_prob([-0.2, 1.8])[0] + batched_normal.log_prob([-0.2, 1.8])[1])"
   ]
  },
  {
   "cell_type": "markdown",
   "id": "4d5f9efa",
   "metadata": {},
   "source": [
    "**another example of independent distribution**"
   ]
  },
  {
   "cell_type": "code",
   "execution_count": 52,
   "id": "fdf8b709",
   "metadata": {},
   "outputs": [
    {
     "name": "stdout",
     "output_type": "stream",
     "text": [
      "tfp.distributions.Normal(\"Normal\", batch_shape=[3, 2], event_shape=[], dtype=float32)\n"
     ]
    }
   ],
   "source": [
    "batched_normal2 = tfd.Normal(\n",
    "    loc = [[-1, 0.5], [0, 1], [0.3, -0.1]],\n",
    "    scale = [[1, 1.5], [0.2, 0.8], [2, 1]]\n",
    ")\n",
    "print(batched_normal2)"
   ]
  },
  {
   "cell_type": "code",
   "execution_count": 53,
   "id": "2209f335",
   "metadata": {
    "scrolled": true
   },
   "outputs": [
    {
     "name": "stdout",
     "output_type": "stream",
     "text": [
      "tfp.distributions.Independent(\"IndependentNormal\", batch_shape=[3, 2], event_shape=[], dtype=float32)\n"
     ]
    }
   ],
   "source": [
    "# 'reinterpreted_batch_ndims' default : 0\n",
    "independent_normal2 = tfd.Independent(batched_normal2, reinterpreted_batch_ndims=0)\n",
    "print(independent_normal2)"
   ]
  },
  {
   "cell_type": "code",
   "execution_count": 66,
   "id": "79c1dce9",
   "metadata": {
    "scrolled": true
   },
   "outputs": [
    {
     "name": "stdout",
     "output_type": "stream",
     "text": [
      "(3, 2)\n",
      "tf.Tensor(\n",
      "[[-2.0439386 -1.3244036]\n",
      " [-2.4345007 -0.8911075]\n",
      " [-1.6170857 -1.0989385]], shape=(3, 2), dtype=float32)\n"
     ]
    }
   ],
   "source": [
    "print(independent_normal2.log_prob(0.5).shape)\n",
    "print(independent_normal2.log_prob(0.5))"
   ]
  },
  {
   "cell_type": "code",
   "execution_count": 67,
   "id": "4a8270a8",
   "metadata": {},
   "outputs": [
    {
     "name": "stdout",
     "output_type": "stream",
     "text": [
      "(3, 2)\n",
      "tf.Tensor(\n",
      "[[-2.0439386 -1.3244036]\n",
      " [-2.4345007 -0.8911075]\n",
      " [-1.6170857 -1.0989385]], shape=(3, 2), dtype=float32)\n"
     ]
    }
   ],
   "source": [
    "print(batched_normal2.log_prob(0.5).shape)\n",
    "print(batched_normal2.log_prob(0.5))"
   ]
  },
  {
   "cell_type": "code",
   "execution_count": 60,
   "id": "c27945aa",
   "metadata": {
    "scrolled": true
   },
   "outputs": [
    {
     "name": "stdout",
     "output_type": "stream",
     "text": [
      "tfp.distributions.Independent(\"IndependentNormal\", batch_shape=[3], event_shape=[2], dtype=float32)\n"
     ]
    }
   ],
   "source": [
    "independent_normal3 = tfd.Independent(batched_normal2, reinterpreted_batch_ndims=1)\n",
    "print(independent_normal3)"
   ]
  },
  {
   "cell_type": "code",
   "execution_count": 65,
   "id": "bdf2eb24",
   "metadata": {
    "scrolled": true
   },
   "outputs": [
    {
     "name": "stdout",
     "output_type": "stream",
     "text": [
      "(3,)\n",
      "tf.Tensor([-3.3683424 -3.3256083 -2.7160242], shape=(3,), dtype=float32)\n"
     ]
    }
   ],
   "source": [
    "print(independent_normal3.log_prob(0.5).shape)\n",
    "print(independent_normal3.log_prob(0.5))"
   ]
  },
  {
   "cell_type": "code",
   "execution_count": 57,
   "id": "9638d8f0",
   "metadata": {
    "scrolled": false
   },
   "outputs": [
    {
     "name": "stdout",
     "output_type": "stream",
     "text": [
      "tfp.distributions.Independent(\"IndependentNormal\", batch_shape=[], event_shape=[3, 2], dtype=float32)\n"
     ]
    }
   ],
   "source": [
    "independent_normal4 = tfd.Independent(batched_normal2, reinterpreted_batch_ndims=2)\n",
    "print(independent_normal4)"
   ]
  },
  {
   "cell_type": "code",
   "execution_count": 64,
   "id": "2934c6eb",
   "metadata": {
    "scrolled": true
   },
   "outputs": [
    {
     "name": "stdout",
     "output_type": "stream",
     "text": [
      "()\n",
      "tf.Tensor(-9.409975, shape=(), dtype=float32)\n"
     ]
    }
   ],
   "source": [
    "print(independent_normal4.log_prob(0.5).shape)\n",
    "print(independent_normal4.log_prob(0.5))"
   ]
  }
 ],
 "metadata": {
  "kernelspec": {
   "display_name": "Python 3",
   "language": "python",
   "name": "python3"
  },
  "language_info": {
   "codemirror_mode": {
    "name": "ipython",
    "version": 3
   },
   "file_extension": ".py",
   "mimetype": "text/x-python",
   "name": "python",
   "nbconvert_exporter": "python",
   "pygments_lexer": "ipython3",
   "version": "3.8.8"
  }
 },
 "nbformat": 4,
 "nbformat_minor": 5
}
