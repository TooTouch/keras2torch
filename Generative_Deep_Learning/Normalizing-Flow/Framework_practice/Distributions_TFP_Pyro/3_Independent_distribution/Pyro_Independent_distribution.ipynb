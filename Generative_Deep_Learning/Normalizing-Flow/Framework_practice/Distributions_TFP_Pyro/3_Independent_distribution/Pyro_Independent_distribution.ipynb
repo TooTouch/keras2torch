{
 "cells": [
  {
   "cell_type": "markdown",
   "id": "05bdd937",
   "metadata": {},
   "source": [
    "# Contrast pyro between TFP\n",
    "\n",
    "- https://www.upgrad.com/blog/statistical-programming-in-machine-learning/"
   ]
  },
  {
   "cell_type": "code",
   "execution_count": 32,
   "id": "1fc6695e",
   "metadata": {},
   "outputs": [],
   "source": [
    "import pyro\n",
    "import torch\n",
    "\n",
    "import matplotlib.pyplot as plt\n",
    "import numpy as np"
   ]
  },
  {
   "cell_type": "markdown",
   "id": "eeb39997",
   "metadata": {},
   "source": [
    "# distributions [pyro]\n",
    "\n",
    "- Most distributions in pyro are thin wrapper around Pytorch distributions\n",
    "    - ```torch.distributions.distribution.Dsitribution```\n",
    "        - https://pytorch.org/docs/stable/distributions.html\n",
    "    - interface 차이 between 'torch distribution' and 'Pyro'\n",
    "        - see https://docs.pyro.ai/en/dev/distributions.html\n"
   ]
  },
  {
   "cell_type": "code",
   "execution_count": 33,
   "id": "ef96841a",
   "metadata": {},
   "outputs": [],
   "source": [
    "# torch.manual_seed(0)\n",
    "# np.random.seed(0)\n",
    "# pyro.set_rng_seed(0)"
   ]
  },
  {
   "cell_type": "markdown",
   "id": "f2bce7c4",
   "metadata": {},
   "source": [
    "# Independent distributions [pyro]\n"
   ]
  },
  {
   "cell_type": "markdown",
   "id": "e7e9b508",
   "metadata": {},
   "source": [
    "**previous example**"
   ]
  },
  {
   "cell_type": "code",
   "execution_count": 54,
   "id": "0f6e0804",
   "metadata": {},
   "outputs": [
    {
     "name": "stdout",
     "output_type": "stream",
     "text": [
      "MultivariateNormal(loc: torch.Size([2]), covariance_matrix: torch.Size([2, 2]))\n"
     ]
    }
   ],
   "source": [
    "# 2-dim, single distribution\n",
    "locs = torch.FloatTensor([-1,0.5])\n",
    "cov_mat = torch.FloatTensor([[1,0],\n",
    "                            [0,1.5]])\n",
    "\n",
    "mv_normal = pyro.distributions.MultivariateNormal(loc=locs, covariance_matrix=cov_mat)\n",
    "print(mv_normal)"
   ]
  },
  {
   "cell_type": "code",
   "execution_count": 55,
   "id": "e118fd12",
   "metadata": {},
   "outputs": [
    {
     "name": "stdout",
     "output_type": "stream",
     "text": [
      "batch shape :  torch.Size([])\n",
      "event shape :  torch.Size([2])\n"
     ]
    }
   ],
   "source": [
    "print(\"batch shape : \", mv_normal.batch_shape)\n",
    "print(\"event shape : \", mv_normal.event_shape)"
   ]
  },
  {
   "cell_type": "code",
   "execution_count": 56,
   "id": "f090f14d",
   "metadata": {},
   "outputs": [
    {
     "name": "stdout",
     "output_type": "stream",
     "text": [
      "tensor(-2.9239)\n"
     ]
    }
   ],
   "source": [
    "# argument of 'log_prob' : 'single' vector of the 2-dimensional random variable\n",
    "# output : realization of 2-dim random variable\n",
    "\n",
    "print(mv_normal.log_prob(torch.FloatTensor([-0.2, 1.8])))"
   ]
  },
  {
   "cell_type": "code",
   "execution_count": 43,
   "id": "ec408169",
   "metadata": {},
   "outputs": [
    {
     "name": "stdout",
     "output_type": "stream",
     "text": [
      "Normal(loc: torch.Size([2]), scale: torch.Size([2]))\n"
     ]
    }
   ],
   "source": [
    "# 1-dim, 2 distributions(batch_shape=2)\n",
    "\n",
    "batched_normal = pyro.distributions.Normal(loc=locs, scale=torch.FloatTensor([1,1.5]))\n",
    "print(batched_normal)"
   ]
  },
  {
   "cell_type": "code",
   "execution_count": 44,
   "id": "31534b29",
   "metadata": {},
   "outputs": [
    {
     "name": "stdout",
     "output_type": "stream",
     "text": [
      "tensor([-1.2389, -1.7000])\n"
     ]
    }
   ],
   "source": [
    "# argument of 'log_prob' : each value of a random variable of each distributions in batch.\n",
    "# output : realization of 2 log_probability values of each distributions in batch\n",
    "\n",
    "print(batched_normal.log_prob(torch.FloatTensor([-0.2, 1.8])))"
   ]
  },
  {
   "cell_type": "markdown",
   "id": "c2cbdfc4",
   "metadata": {},
   "source": [
    "**independent distribution**\n",
    "\n",
    "- The independent distribution gives us a way to absorb some or all of the batch dimensions into the event_shape\n",
    "    - For example, we could use the independent distribution to transform our batched_normal distribution so that it's equivalent to the multivariate normal diag distribution."
   ]
  },
  {
   "cell_type": "code",
   "execution_count": 58,
   "id": "1ac79e42",
   "metadata": {},
   "outputs": [
    {
     "name": "stdout",
     "output_type": "stream",
     "text": [
      "Normal(loc: torch.Size([2]), scale: torch.Size([2]))\n",
      "batch shape of 'batched_normal' :  torch.Size([2])\n",
      "event shape of 'batched_normal' :  torch.Size([])\n",
      "\n",
      "Independent(Normal(loc: torch.Size([2]), scale: torch.Size([2])), 1)\n",
      "batch shape of 'independent_normal' :  torch.Size([])\n",
      "event shape of 'independent_normal' :  torch.Size([2])\n",
      "\n",
      "Independent(Normal(loc: torch.Size([2]), scale: torch.Size([2])), 1)\n",
      "batch shape of 'independent_normal' :  torch.Size([])\n",
      "event shape of 'independent_normal' :  torch.Size([2])\n"
     ]
    }
   ],
   "source": [
    "batched_normal = pyro.distributions.Normal(loc=locs, scale=torch.FloatTensor([1,1.5]))\n",
    "print(batched_normal)\n",
    "print(\"batch shape of 'batched_normal' : \", batched_normal.batch_shape)\n",
    "print(\"event shape of 'batched_normal' : \", batched_normal.event_shape)\n",
    "print()\n",
    "\n",
    "# normal의 batch 속 distribution들을 independent distribution으로 변환(transform)\n",
    "# args 'reinterpreted_batch_ndims' : specify how the batch dimensions should be absorbed into the event space.\n",
    "## 'reinterpreted_batch_ndims=1' : there is only 1 batch dimension(2) \n",
    "independent_normal = pyro.distributions.Independent(batched_normal, reinterpreted_batch_ndims=1)\n",
    "print(independent_normal)\n",
    "print(\"batch shape of 'independent_normal' : \", independent_normal.batch_shape)\n",
    "print(\"event shape of 'independent_normal' : \", independent_normal.event_shape)\n",
    "print()\n",
    "\n",
    "# wrong case... \"log P of \"independent(joint D)\" != log P of \"Multivariate D\"\"\n",
    "independent_normal2 = batched_normal.independent(reinterpreted_batch_ndims=1)\n",
    "print(independent_normal2)\n",
    "print(\"batch shape of 'independent_normal' : \", independent_normal2.batch_shape)\n",
    "print(\"event shape of 'independent_normal' : \", independent_normal2.event_shape)"
   ]
  },
  {
   "cell_type": "code",
   "execution_count": 59,
   "id": "de7cad07",
   "metadata": {},
   "outputs": [
    {
     "name": "stdout",
     "output_type": "stream",
     "text": [
      "tensor([-1.2389, -1.7000])\n"
     ]
    }
   ],
   "source": [
    "print(batched_normal.log_prob(torch.FloatTensor([-0.2, 1.8])))"
   ]
  },
  {
   "cell_type": "code",
   "execution_count": 60,
   "id": "59435ee5",
   "metadata": {
    "scrolled": true
   },
   "outputs": [
    {
     "name": "stdout",
     "output_type": "stream",
     "text": [
      "tensor(-2.9239)\n",
      "tensor(-2.9389)\n"
     ]
    }
   ],
   "source": [
    "# return 'scalar' value just as we had with the multivariate normal diag distribution.\n",
    "\n",
    "print(mv_normal.log_prob(torch.FloatTensor([-0.2, 1.8])))\n",
    "print(independent_normal.log_prob(torch.FloatTensor([-0.2, 1.8])))"
   ]
  },
  {
   "cell_type": "markdown",
   "id": "61312352",
   "metadata": {},
   "source": [
    "**왜 다르지 ...?**"
   ]
  },
  {
   "cell_type": "code",
   "execution_count": null,
   "id": "50ac0c07",
   "metadata": {},
   "outputs": [],
   "source": []
  },
  {
   "cell_type": "code",
   "execution_count": null,
   "id": "6d95b783",
   "metadata": {},
   "outputs": [],
   "source": []
  },
  {
   "cell_type": "code",
   "execution_count": null,
   "id": "e51333ab",
   "metadata": {},
   "outputs": [],
   "source": []
  },
  {
   "cell_type": "code",
   "execution_count": null,
   "id": "972d7720",
   "metadata": {},
   "outputs": [],
   "source": []
  },
  {
   "cell_type": "code",
   "execution_count": null,
   "id": "efd16789",
   "metadata": {},
   "outputs": [],
   "source": []
  },
  {
   "cell_type": "code",
   "execution_count": null,
   "id": "f9aeac27",
   "metadata": {},
   "outputs": [],
   "source": []
  },
  {
   "cell_type": "code",
   "execution_count": null,
   "id": "f95d4afe",
   "metadata": {},
   "outputs": [],
   "source": []
  },
  {
   "cell_type": "code",
   "execution_count": null,
   "id": "ecda2a4d",
   "metadata": {},
   "outputs": [],
   "source": []
  },
  {
   "cell_type": "code",
   "execution_count": null,
   "id": "8f6decbd",
   "metadata": {},
   "outputs": [],
   "source": []
  },
  {
   "cell_type": "code",
   "execution_count": null,
   "id": "5f055b9d",
   "metadata": {},
   "outputs": [],
   "source": []
  },
  {
   "cell_type": "code",
   "execution_count": null,
   "id": "756dbd7e",
   "metadata": {},
   "outputs": [],
   "source": []
  }
 ],
 "metadata": {
  "kernelspec": {
   "display_name": "Python 3",
   "language": "python",
   "name": "python3"
  },
  "language_info": {
   "codemirror_mode": {
    "name": "ipython",
    "version": 3
   },
   "file_extension": ".py",
   "mimetype": "text/x-python",
   "name": "python",
   "nbconvert_exporter": "python",
   "pygments_lexer": "ipython3",
   "version": "3.8.8"
  }
 },
 "nbformat": 4,
 "nbformat_minor": 5
}
