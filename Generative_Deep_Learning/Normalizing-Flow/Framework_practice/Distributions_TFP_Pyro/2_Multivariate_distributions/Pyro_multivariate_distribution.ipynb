{
 "cells": [
  {
   "cell_type": "markdown",
   "id": "05bdd937",
   "metadata": {},
   "source": [
    "# Contrast pyro between TFP\n",
    "\n",
    "- https://www.upgrad.com/blog/statistical-programming-in-machine-learning/"
   ]
  },
  {
   "cell_type": "code",
   "execution_count": 1,
   "id": "1fc6695e",
   "metadata": {},
   "outputs": [],
   "source": [
    "import pyro\n",
    "import torch\n",
    "\n",
    "import matplotlib.pyplot as plt\n",
    "import numpy as np"
   ]
  },
  {
   "cell_type": "markdown",
   "id": "eeb39997",
   "metadata": {},
   "source": [
    "# distributions [pyro]\n",
    "\n",
    "- Most distributions in pyro are thin wrapper around Pytorch distributions\n",
    "    - ```torch.distributions.distribution.Dsitribution```\n",
    "        - https://pytorch.org/docs/stable/distributions.html\n",
    "    - interface 차이 between 'torch distribution' and 'Pyro'\n",
    "        - see https://docs.pyro.ai/en/dev/distributions.html\n"
   ]
  },
  {
   "cell_type": "code",
   "execution_count": 2,
   "id": "ef96841a",
   "metadata": {},
   "outputs": [],
   "source": [
    "torch.manual_seed(0)\n",
    "np.random.seed(0)\n",
    "pyro.set_rng_seed(0)"
   ]
  },
  {
   "cell_type": "markdown",
   "id": "bf814d36",
   "metadata": {},
   "source": [
    "# Multivariate distributions [pyro]"
   ]
  },
  {
   "cell_type": "markdown",
   "id": "dcdbd80f",
   "metadata": {},
   "source": [
    "## Multivariate Normal"
   ]
  },
  {
   "cell_type": "markdown",
   "id": "d34951ba",
   "metadata": {},
   "source": [
    "### initialization\n",
    "\n",
    "- 'scale_diag' arguments : covariance matrix (default = identity covariance matrix(spherical covariance matrix))\n",
    "- event_shape = un-empty"
   ]
  },
  {
   "cell_type": "code",
   "execution_count": 8,
   "id": "99f68f22",
   "metadata": {},
   "outputs": [],
   "source": [
    "# 차이점 1 : torch.FloatTensor로 넣기\n",
    "# 차이점 2 : parameter 이름이 covariance_matrix\n",
    "# 차이점 3 : covariance matrix를 직접 n x n 으로 넣어줘야 함.(TFD는 'MultivariateNormalDiag'로 initiation할 땐, diag entry만 넣어주면 됨)\n",
    "\n",
    "mv_normal = pyro.distributions.MultivariateNormal(loc=torch.FloatTensor([-1, 0.5]), \n",
    "                                                  covariance_matrix=torch.FloatTensor([[1., 0],\n",
    "                                                                                       [0, 1.5]]))"
   ]
  },
  {
   "cell_type": "code",
   "execution_count": 9,
   "id": "8750f810",
   "metadata": {},
   "outputs": [
    {
     "data": {
      "text/plain": [
       "MultivariateNormal(loc: torch.Size([2]), covariance_matrix: torch.Size([2, 2]))"
      ]
     },
     "execution_count": 9,
     "metadata": {},
     "output_type": "execute_result"
    }
   ],
   "source": [
    "mv_normal"
   ]
  },
  {
   "cell_type": "code",
   "execution_count": 10,
   "id": "bcf52d03",
   "metadata": {},
   "outputs": [
    {
     "data": {
      "text/plain": [
       "torch.Size([2])"
      ]
     },
     "execution_count": 10,
     "metadata": {},
     "output_type": "execute_result"
    }
   ],
   "source": [
    "mv_normal.event_shape"
   ]
  },
  {
   "cell_type": "code",
   "execution_count": 11,
   "id": "ac8ad54f",
   "metadata": {},
   "outputs": [
    {
     "data": {
      "text/plain": [
       "torch.Size([])"
      ]
     },
     "execution_count": 11,
     "metadata": {},
     "output_type": "execute_result"
    }
   ],
   "source": [
    "mv_normal.batch_shape"
   ]
  },
  {
   "cell_type": "code",
   "execution_count": 66,
   "id": "0b981597",
   "metadata": {},
   "outputs": [
    {
     "data": {
      "image/png": "[encoded data removed]",
      "text/plain": [
       "<Figure size 432x288 with 1 Axes>"
      ]
     },
     "metadata": {
      "needs_background": "light"
     },
     "output_type": "display_data"
    }
   ],
   "source": [
    "samples = mv_normal.sample([1000])\n",
    "plt.scatter(samples[:,0], samples[:,1])\n",
    "plt.show()"
   ]
  },
  {
   "cell_type": "markdown",
   "id": "667b2aff",
   "metadata": {},
   "source": [
    "### sampling"
   ]
  },
  {
   "cell_type": "code",
   "execution_count": 15,
   "id": "4b9bcc11",
   "metadata": {
    "scrolled": true
   },
   "outputs": [
    {
     "name": "stdout",
     "output_type": "stream",
     "text": [
      "torch.Size([3, 2])\n"
     ]
    },
    {
     "data": {
      "text/plain": [
       "tensor([[-1.8920, -1.3483],\n",
       "        [-0.6296,  2.2838],\n",
       "        [-0.0602,  1.4490]])"
      ]
     },
     "execution_count": 15,
     "metadata": {},
     "output_type": "execute_result"
    }
   ],
   "source": [
    "print(mv_normal.sample([3]).shape)\n",
    "mv_normal.sample([3])"
   ]
  },
  {
   "cell_type": "markdown",
   "id": "ecf60b36",
   "metadata": {},
   "source": [
    "### batched distribution(normal)"
   ]
  },
  {
   "cell_type": "code",
   "execution_count": 19,
   "id": "036afd07",
   "metadata": {},
   "outputs": [],
   "source": [
    "batched_normal = pyro.distributions.MultivariateNormal(\n",
    "    loc=torch.FloatTensor([[-1, 0.5], \n",
    "                           [10, 20]]), \n",
    "    covariance_matrix=torch.FloatTensor([\n",
    "        [[1., 0],[0, 1.5]],\n",
    "        [[3, 0],[0, 5]]\n",
    "    ]))"
   ]
  },
  {
   "cell_type": "code",
   "execution_count": 20,
   "id": "6d5b8fb4",
   "metadata": {},
   "outputs": [
    {
     "data": {
      "text/plain": [
       "torch.Size([2])"
      ]
     },
     "execution_count": 20,
     "metadata": {},
     "output_type": "execute_result"
    }
   ],
   "source": [
    "batched_normal.event_shape"
   ]
  },
  {
   "cell_type": "code",
   "execution_count": 21,
   "id": "06cbfd60",
   "metadata": {},
   "outputs": [
    {
     "data": {
      "text/plain": [
       "torch.Size([2])"
      ]
     },
     "execution_count": 21,
     "metadata": {},
     "output_type": "execute_result"
    }
   ],
   "source": [
    "batched_normal.batch_shape"
   ]
  },
  {
   "cell_type": "code",
   "execution_count": 24,
   "id": "c443297d",
   "metadata": {},
   "outputs": [
    {
     "name": "stdout",
     "output_type": "stream",
     "text": [
      "torch.Size([3, 2, 2])\n"
     ]
    },
    {
     "data": {
      "text/plain": [
       "tensor([[[ 1.0576,  0.4566],\n",
       "         [10.1086, 18.2865]],\n",
       "\n",
       "        [[ 0.0993,  3.8761],\n",
       "         [10.3036, 17.9171]],\n",
       "\n",
       "        [[-2.5055, -0.3095],\n",
       "         [12.2919, 20.0830]]])"
      ]
     },
     "execution_count": 24,
     "metadata": {},
     "output_type": "execute_result"
    }
   ],
   "source": [
    "print(batched_normal.sample([3]).shape)\n",
    "batched_normal.sample([3])"
   ]
  },
  {
   "cell_type": "code",
   "execution_count": 26,
   "id": "10f0b73c",
   "metadata": {},
   "outputs": [
    {
     "data": {
      "text/plain": [
       "tensor(-2.1239)"
      ]
     },
     "execution_count": 26,
     "metadata": {},
     "output_type": "execute_result"
    }
   ],
   "source": [
    "mv_normal.log_prob(torch.FloatTensor([-1,1]))"
   ]
  },
  {
   "cell_type": "code",
   "execution_count": 27,
   "id": "f46af1be",
   "metadata": {},
   "outputs": [
    {
     "data": {
      "text/plain": [
       "tensor([ -2.1239, -59.4586])"
      ]
     },
     "execution_count": 27,
     "metadata": {},
     "output_type": "execute_result"
    }
   ],
   "source": [
    "batched_normal.log_prob(torch.FloatTensor([-1,1]))"
   ]
  },
  {
   "cell_type": "code",
   "execution_count": 28,
   "id": "7571f5af",
   "metadata": {},
   "outputs": [
    {
     "data": {
      "text/plain": [
       "tensor([[-2.0901, -9.8228],\n",
       "        [-2.2021, -5.1826],\n",
       "        [-3.6988, -4.7897]])"
      ]
     },
     "execution_count": 28,
     "metadata": {},
     "output_type": "execute_result"
    }
   ],
   "source": [
    "batched_normal.log_prob(batched_normal.sample([3]))"
   ]
  },
  {
   "cell_type": "code",
   "execution_count": 71,
   "id": "dec21c39",
   "metadata": {},
   "outputs": [
    {
     "data": {
      "image/png": "[encoded data removed]",
      "text/plain": [
       "<Figure size 720x216 with 2 Axes>"
      ]
     },
     "metadata": {
      "needs_background": "light"
     },
     "output_type": "display_data"
    }
   ],
   "source": [
    "# plot each batch distributions\n",
    "\n",
    "batched_mv_normal2 = pyro.distributions.MultivariateNormal(\n",
    "    loc=torch.FloatTensor([[0, 0], \n",
    "                           [0, 0]]), \n",
    "    covariance_matrix=torch.FloatTensor([\n",
    "        [[1, 0],[0, 1]],\n",
    "        [[9, 0],[0, 100]]\n",
    "    ]))\n",
    "\n",
    "samples_for_plot = batched_mv_normal2.sample([1000])\n",
    "\n",
    "fig, axes = (plt.subplots(1,2, sharex=False, sharey=False, figsize=(10,3)))\n",
    "titles = [f'batch 1, cov_diag : {batched_mv_normal2.covariance_matrix[0][0]},{batched_mv_normal2.covariance_matrix[0][1]}',\n",
    "          f'batch 2, cov_diag : {batched_mv_normal2.covariance_matrix[1][0]},{batched_mv_normal2.covariance_matrix[1][1]}']\n",
    "\n",
    "for i, (ax, title) in enumerate(zip(axes, titles)):\n",
    "    samples_per_batch = samples_for_plot[:, i, :]\n",
    "    ax.scatter(samples_per_batch[:, 0], samples_per_batch[:, 1], marker='.', alpha=0.2)\n",
    "    ax.set_title(title)\n",
    "    ax.axis('equal')\n",
    "plt.tight_layout()\n",
    "plt.show()\n"
   ]
  }
 ],
 "metadata": {
  "kernelspec": {
   "display_name": "Python 3",
   "language": "python",
   "name": "python3"
  },
  "language_info": {
   "codemirror_mode": {
    "name": "ipython",
    "version": 3
   },
   "file_extension": ".py",
   "mimetype": "text/x-python",
   "name": "python",
   "nbconvert_exporter": "python",
   "pygments_lexer": "ipython3",
   "version": "3.8.8"
  }
 },
 "nbformat": 4,
 "nbformat_minor": 5
}
