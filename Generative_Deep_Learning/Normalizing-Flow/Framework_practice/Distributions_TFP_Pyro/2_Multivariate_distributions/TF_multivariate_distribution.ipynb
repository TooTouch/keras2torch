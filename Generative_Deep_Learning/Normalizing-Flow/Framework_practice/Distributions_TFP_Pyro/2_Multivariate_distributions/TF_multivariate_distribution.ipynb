{
 "cells": [
  {
   "cell_type": "code",
   "execution_count": 2,
   "id": "f04c1130",
   "metadata": {},
   "outputs": [],
   "source": [
    "import tensorflow as tf\n",
    "import tensorflow_probability as tfp\n",
    "tfd = tfp.distributions\n",
    "\n",
    "import matplotlib.pyplot as plt\n",
    "import numpy as np"
   ]
  },
  {
   "cell_type": "markdown",
   "id": "f2bce7c4",
   "metadata": {},
   "source": [
    "# Multivariate distributions [tensorflow_probability]"
   ]
  },
  {
   "cell_type": "markdown",
   "id": "f5a17406",
   "metadata": {},
   "source": [
    "## Multivariate Normal"
   ]
  },
  {
   "cell_type": "markdown",
   "id": "edd726fd",
   "metadata": {},
   "source": [
    "### initialization\n",
    "\n",
    "- 'scale_diag' arguments : covariance matrix (default = identity covariance matrix(spherical covariance matrix))\n",
    "- event_shape = un-empty"
   ]
  },
  {
   "cell_type": "code",
   "execution_count": 4,
   "id": "47685941",
   "metadata": {},
   "outputs": [
    {
     "name": "stdout",
     "output_type": "stream",
     "text": [
      "tfp.distributions.MultivariateNormalDiag(\"MultivariateNormalDiag\", batch_shape=[], event_shape=[2], dtype=float32)\n"
     ]
    }
   ],
   "source": [
    "# scale_diag : covariance matrix (default = identity covariance matrix(spherical covariance matrix))\n",
    "\n",
    "mv_normal = tfd.MultivariateNormalDiag(loc=[-1, 0.5], scale_diag=[1., 1.5])\n",
    "print(mv_normal)"
   ]
  },
  {
   "cell_type": "code",
   "execution_count": 5,
   "id": "89af403a",
   "metadata": {},
   "outputs": [
    {
     "data": {
      "text/plain": [
       "TensorShape([2])"
      ]
     },
     "execution_count": 5,
     "metadata": {},
     "output_type": "execute_result"
    }
   ],
   "source": [
    "mv_normal.event_shape"
   ]
  },
  {
   "cell_type": "code",
   "execution_count": 6,
   "id": "a9da4cc6",
   "metadata": {},
   "outputs": [
    {
     "data": {
      "text/plain": [
       "TensorShape([])"
      ]
     },
     "execution_count": 6,
     "metadata": {},
     "output_type": "execute_result"
    }
   ],
   "source": [
    "mv_normal.batch_shape"
   ]
  },
  {
   "cell_type": "markdown",
   "id": "4332f5fd",
   "metadata": {},
   "source": [
    "### sampling"
   ]
  },
  {
   "cell_type": "code",
   "execution_count": 9,
   "id": "ec7ec946",
   "metadata": {},
   "outputs": [
    {
     "data": {
      "text/plain": [
       "<tf.Tensor: shape=(3, 2), dtype=float32, numpy=\n",
       "array([[-0.19864929,  1.4205898 ],\n",
       "       [-2.1336174 , -0.18106163],\n",
       "       [-0.50069845,  3.7329636 ]], dtype=float32)>"
      ]
     },
     "execution_count": 9,
     "metadata": {},
     "output_type": "execute_result"
    }
   ],
   "source": [
    "mv_normal.sample(3)"
   ]
  },
  {
   "cell_type": "markdown",
   "id": "9a919d70",
   "metadata": {},
   "source": [
    "### batched distribution(normal)"
   ]
  },
  {
   "cell_type": "code",
   "execution_count": 12,
   "id": "03790cc0",
   "metadata": {},
   "outputs": [
    {
     "name": "stdout",
     "output_type": "stream",
     "text": [
      "tfp.distributions.Normal(\"Normal\", batch_shape=[2], event_shape=[], dtype=float32)\n"
     ]
    }
   ],
   "source": [
    "batched_normal = tfd.Normal(loc=[-1, 0.5], scale=[1., 1.5])\n",
    "print(batched_normal)"
   ]
  },
  {
   "cell_type": "code",
   "execution_count": 13,
   "id": "5fb52dd8",
   "metadata": {},
   "outputs": [
    {
     "data": {
      "text/plain": [
       "<tf.Tensor: shape=(3, 2), dtype=float32, numpy=\n",
       "array([[-0.10059452,  1.0499368 ],\n",
       "       [-2.3967195 ,  2.065206  ],\n",
       "       [-1.2776921 ,  0.7675866 ]], dtype=float32)>"
      ]
     },
     "execution_count": 13,
     "metadata": {},
     "output_type": "execute_result"
    }
   ],
   "source": [
    "batched_normal.sample(3)"
   ]
  },
  {
   "cell_type": "markdown",
   "id": "81be2413",
   "metadata": {},
   "source": [
    "```python\n",
    "Multi_variate normal(변량=2)의 sample(3)의 shape(3,2)와 \n",
    "Uni_variate normal(배치=2)의 sample(3)의 shape(3,2)가 같다.\n",
    "\n",
    "So, What's difference between these two distributions and samples?\n",
    "\n",
    "Multi_variate normal \n",
    ": 1 distribution of 2 dimensional random variable (because of event_shape=[2])\n",
    "    -> 'log_prob' returns single log-probability value\n",
    "    \n",
    "Uni_variate normal(Normal) \n",
    ": 2 distribution of 1 dimensional(single) random variable (becuase of event_shape=[2])\n",
    "    -> 'log_prob' returns multi log-probability values per each components of batchs\n",
    "\n",
    "```"
   ]
  },
  {
   "cell_type": "code",
   "execution_count": 19,
   "id": "dde9e9ef",
   "metadata": {},
   "outputs": [
    {
     "name": "stdout",
     "output_type": "stream",
     "text": [
      "tfp.distributions.MultivariateNormalDiag(\"MultivariateNormalDiag\", batch_shape=[], event_shape=[2], dtype=float32)\n",
      "tf.Tensor(-2.9388978, shape=(), dtype=float32)\n"
     ]
    }
   ],
   "source": [
    "# 위의 mv_normal과 batched_normal의 본질적인 차이는 log_prob을 통해 확인할 수 있다.\n",
    "# mv_normal.log_prob([-0.2, 1.8]) : single realization of '2' dimensional random variables \n",
    "### -> return 'single' log_prob values\n",
    "\n",
    "print(mv_normal)\n",
    "print(mv_normal.log_prob([-0.2, 1.8]))"
   ]
  },
  {
   "cell_type": "code",
   "execution_count": 20,
   "id": "8d4e2dc0",
   "metadata": {},
   "outputs": [
    {
     "name": "stdout",
     "output_type": "stream",
     "text": [
      "tfp.distributions.Normal(\"Normal\", batch_shape=[2], event_shape=[], dtype=float32)\n",
      "tf.Tensor([-1.2389386 -1.699959 ], shape=(2,), dtype=float32)\n"
     ]
    }
   ],
   "source": [
    "# batched_normal.log_prob([-0.2, 1.8]) : two realization of '1' dimensional random variables per each distributions\n",
    "### -> return 'two' log_prob values\n",
    "\n",
    "print(batched_normal)\n",
    "print(batched_normal.log_prob([-0.2, 1.8]))"
   ]
  },
  {
   "cell_type": "markdown",
   "id": "b20fb9f2",
   "metadata": {},
   "source": [
    "## Batched Multivariate Normal\n",
    "\n",
    "- batched + Multivariate \n",
    "    - un-empty 'event_shape' and 'batch_shape'"
   ]
  },
  {
   "cell_type": "code",
   "execution_count": 22,
   "id": "d5b60c34",
   "metadata": {},
   "outputs": [
    {
     "name": "stdout",
     "output_type": "stream",
     "text": [
      "tfp.distributions.MultivariateNormalDiag(\"MultivariateNormalDiag\", batch_shape=[3], event_shape=[2], dtype=float32)\n"
     ]
    }
   ],
   "source": [
    "# batched(3 sample per batch) 2 dimensional multivariate normal distributions\n",
    "# batch_shape = [3], event_shape = [2]\n",
    "# args shape : (batch_shape, event_shape = 'last' dimension value)\n",
    "\n",
    "loc = [[-1., 0.5], \n",
    "       [2., 0.], \n",
    "       [-0.5, 1.5]]\n",
    "scale_diag = [[1., 1.5],\n",
    "              [2., 0.5],\n",
    "              [1., 1.]]\n",
    "\n",
    "batched_mv_normal = tfd.MultivariateNormalDiag(loc=loc, scale_diag=scale_diag)\n",
    "print(batched_mv_normal)"
   ]
  },
  {
   "cell_type": "code",
   "execution_count": 23,
   "id": "21c038d0",
   "metadata": {},
   "outputs": [
    {
     "data": {
      "text/plain": [
       "<tf.Tensor: shape=(2, 3, 2), dtype=float32, numpy=\n",
       "array([[[-0.07418436, -2.4184167 ],\n",
       "        [ 1.3904456 ,  0.5137413 ],\n",
       "        [ 0.6079997 ,  1.8763134 ]],\n",
       "\n",
       "       [[-1.4974563 , -1.3610294 ],\n",
       "        [ 3.884087  , -0.2340678 ],\n",
       "        [-0.4627829 , -0.6277356 ]]], dtype=float32)>"
      ]
     },
     "execution_count": 23,
     "metadata": {},
     "output_type": "execute_result"
    }
   ],
   "source": [
    "# 'batched_mv_normal.sample(2)' shape \n",
    "# : (sample size=first dimension vlaue, batch_shape, event_shape=last dimension value)\n",
    "# 2차원 다변수 정규분포가 3개로 배치를 이루고, 그 배치의 샘플 2개가 샘플링된 것.\n",
    "\n",
    "batched_mv_normal.sample(2)"
   ]
  },
  {
   "cell_type": "markdown",
   "id": "be717690",
   "metadata": {},
   "source": [
    "### Basic Multivariate Normal practice"
   ]
  },
  {
   "cell_type": "code",
   "execution_count": 62,
   "id": "d87b2777",
   "metadata": {},
   "outputs": [
    {
     "name": "stdout",
     "output_type": "stream",
     "text": [
      "covariance matrix : \n",
      "\n",
      " tf.Tensor(\n",
      "[[1. 0.]\n",
      " [0. 4.]], shape=(2, 2), dtype=float32)\n"
     ]
    },
    {
     "data": {
      "text/plain": [
       "<tfp.distributions.MultivariateNormalDiag 'MultivariateNormalDiag' batch_shape=[] event_shape=[2] dtype=float32>"
      ]
     },
     "execution_count": 62,
     "metadata": {},
     "output_type": "execute_result"
    }
   ],
   "source": [
    "# 2-dim mv normal(event_shape : 2)\n",
    "normal_diag = tfd.MultivariateNormalDiag(loc=[0,1], scale_diag=[1,2])\n",
    "print(\"covariance matrix : \\n\\n\", normal_diag.covariance())\n",
    "normal_diag"
   ]
  },
  {
   "cell_type": "code",
   "execution_count": 40,
   "id": "64151aaf",
   "metadata": {},
   "outputs": [
    {
     "data": {
      "text/plain": [
       "<tf.Tensor: shape=(10, 2), dtype=float32, numpy=\n",
       "array([[ 0.61898786, -1.6596267 ],\n",
       "       [-0.48498386, -1.9732955 ],\n",
       "       [-0.94359887,  3.286113  ],\n",
       "       [ 1.077821  ,  3.8456712 ],\n",
       "       [-1.1158456 , -0.4747976 ],\n",
       "       [ 0.38455078, -2.9672122 ],\n",
       "       [ 2.4432564 , -2.2042763 ],\n",
       "       [-1.3159943 ,  3.219786  ],\n",
       "       [ 1.0174599 ,  4.105504  ],\n",
       "       [-0.42225316,  0.7720087 ]], dtype=float32)>"
      ]
     },
     "execution_count": 40,
     "metadata": {},
     "output_type": "execute_result"
    }
   ],
   "source": [
    "normal_diag.sample(10)"
   ]
  },
  {
   "cell_type": "code",
   "execution_count": 100,
   "id": "e80aea58",
   "metadata": {},
   "outputs": [
    {
     "data": {
      "image/png": "[encoded data removed]",
      "text/plain": [
       "<Figure size 432x288 with 1 Axes>"
      ]
     },
     "metadata": {
      "needs_background": "light"
     },
     "output_type": "display_data"
    }
   ],
   "source": [
    "# plt.axis('equal') : x, y 축의 범위, 스케일을 동일하게 지정(분산이 다른 두 분포를 동일한 기준으로 보기 위해 설정함)\n",
    "### ref : https://kongdols-room.tistory.com/83\n",
    "\n",
    "mv_samples = normal_diag.sample(10000)\n",
    "\n",
    "plt.scatter(mv_samples[:, 0], mv_samples[:, 1], marker='.', alpha=0.05)\n",
    "plt.xlabel(f'variable 1 (var {normal_diag.covariance()[0][0]})')\n",
    "plt.ylabel(f'variable 2 (var {normal_diag.covariance()[1][1]})')\n",
    "plt.axis('equal')\n",
    "plt.show()"
   ]
  },
  {
   "cell_type": "markdown",
   "id": "ca9944e0",
   "metadata": {},
   "source": [
    "만약, mv_normal의 parameter(loc, scale)을 변경하면, 다른 분포의 모습이 나옴"
   ]
  },
  {
   "cell_type": "code",
   "execution_count": 64,
   "id": "75810159",
   "metadata": {},
   "outputs": [
    {
     "name": "stdout",
     "output_type": "stream",
     "text": [
      "covariance matrix : \n",
      "\n",
      " tf.Tensor(\n",
      "[[  1.   0.]\n",
      " [  0. 100.]], shape=(2, 2), dtype=float32)\n"
     ]
    },
    {
     "data": {
      "text/plain": [
       "<tfp.distributions.MultivariateNormalDiag 'MultivariateNormalDiag' batch_shape=[] event_shape=[2] dtype=float32>"
      ]
     },
     "execution_count": 64,
     "metadata": {},
     "output_type": "execute_result"
    }
   ],
   "source": [
    "# 2-dim mv normal(event_shape : 2)\n",
    "normal_diag2 = tfd.MultivariateNormalDiag(loc=[0,0], scale_diag=[1,10])\n",
    "print(\"covariance matrix : \\n\\n\", normal_diag2.covariance())\n",
    "normal_diag2"
   ]
  },
  {
   "cell_type": "code",
   "execution_count": 97,
   "id": "0c74d517",
   "metadata": {
    "scrolled": true
   },
   "outputs": [
    {
     "name": "stdout",
     "output_type": "stream",
     "text": [
      "tf.Tensor(4.0, shape=(), dtype=float32)\n"
     ]
    }
   ],
   "source": [
    "print(normal_diag.covariance()[1][1])"
   ]
  },
  {
   "cell_type": "code",
   "execution_count": 99,
   "id": "2f511487",
   "metadata": {},
   "outputs": [
    {
     "data": {
      "image/png": "[encoded data removed]",
      "text/plain": [
       "<Figure size 432x288 with 1 Axes>"
      ]
     },
     "metadata": {
      "needs_background": "light"
     },
     "output_type": "display_data"
    }
   ],
   "source": [
    "# plt.axis('equal') : x, y 축의 범위, 스케일을 동일하게 지정(분산이 다른 두 분포를 동일한 기준으로 보기 위해 설정함)\n",
    "### ref : https://kongdols-room.tistory.com/83\n",
    "\n",
    "mv_samples = normal_diag2.sample(10000)\n",
    "\n",
    "plt.scatter(mv_samples[:, 0], mv_samples[:, 1], marker='.', alpha=0.05)\n",
    "plt.axis('equal')\n",
    "plt.xlabel(f'variable 1 (var {normal_diag2.covariance()[0][0]})')\n",
    "plt.ylabel(f'variable 2 (var {normal_diag2.covariance()[1][1]})')\n",
    "plt.show()"
   ]
  },
  {
   "cell_type": "markdown",
   "id": "b8ee611c",
   "metadata": {},
   "source": [
    "### Batched Multivariate Normal practice"
   ]
  },
  {
   "cell_type": "code",
   "execution_count": 120,
   "id": "ee1778e2",
   "metadata": {},
   "outputs": [
    {
     "name": "stdout",
     "output_type": "stream",
     "text": [
      "tfp.distributions.MultivariateNormalDiag(\"MultivariateNormalDiag\", batch_shape=[3], event_shape=[2], dtype=float32)\n"
     ]
    }
   ],
   "source": [
    "# batched shape : 3, event shape : 2 (서로 다른 2차원 정규분포 3개 생성)\n",
    "\n",
    "loc = [[0.,0.], \n",
    "       [0.,0.],\n",
    "       [0.,0.]]\n",
    "scale_diag = [[1.,1.],\n",
    "              [3.,10.],\n",
    "              [10.,3.]]\n",
    "\n",
    "batched_mv_normal2 = tfd.MultivariateNormalDiag(loc=loc, scale_diag=scale_diag)\n",
    "print(batched_mv_normal2)"
   ]
  },
  {
   "cell_type": "code",
   "execution_count": 121,
   "id": "39825c5e",
   "metadata": {},
   "outputs": [
    {
     "data": {
      "text/plain": [
       "<tf.Tensor: shape=(5, 3, 2), dtype=float32, numpy=\n",
       "array([[[ -0.31539065,  -0.40762067],\n",
       "        [ -1.4225442 ,  21.194162  ],\n",
       "        [  0.6297174 ,   3.7282412 ]],\n",
       "\n",
       "       [[ -1.1487712 ,   0.11190473],\n",
       "        [ -6.788952  ,  20.30235   ],\n",
       "        [  8.283616  ,   4.3964763 ]],\n",
       "\n",
       "       [[  0.34568408,   1.337716  ],\n",
       "        [  2.466949  ,   2.2499704 ],\n",
       "        [-12.016926  ,   0.8089342 ]],\n",
       "\n",
       "       [[  0.18917081,  -0.666765  ],\n",
       "        [ -3.2634134 , -10.486143  ],\n",
       "        [  1.1269723 ,  -2.15821   ]],\n",
       "\n",
       "       [[  0.90324354,   0.1593569 ],\n",
       "        [ -2.5387998 ,  -0.10044045],\n",
       "        [ -8.430676  ,   3.2022994 ]]], dtype=float32)>"
      ]
     },
     "execution_count": 121,
     "metadata": {},
     "output_type": "execute_result"
    }
   ],
   "source": [
    "# sampling nums : 5\n",
    "# samples[0] : select first sample (shape=(3,2))\n",
    "# samples[0][0] : select first batch of first sample (shape=(2,))\n",
    "# samples[0][0][0] : select first dimension of first batch of first sample (shape=())\n",
    "\n",
    "samples = batched_mv_normal2.sample(5)\n",
    "samples"
   ]
  },
  {
   "cell_type": "code",
   "execution_count": 122,
   "id": "6be763b2",
   "metadata": {},
   "outputs": [
    {
     "data": {
      "text/plain": [
       "<tf.Tensor: shape=(5, 3), dtype=float32, numpy=\n",
       "array([[-1.97069  , -7.597461 , -6.0132675],\n",
       "       [-2.5039759, -9.86055  , -6.6559997],\n",
       "       [-2.792368 , -5.6024885, -5.9974613],\n",
       "       [-2.0780575, -6.3805294, -5.504195 ],\n",
       "       [-2.2584987, -5.5972085, -6.1641626]], dtype=float32)>"
      ]
     },
     "execution_count": 122,
     "metadata": {},
     "output_type": "execute_result"
    }
   ],
   "source": [
    "# compute log_prob\n",
    "# it will return (sample size, batch_shape) value (evaluate per 2-dim distributions by single value(확률값))\n",
    "\n",
    "batched_mv_normal2.log_prob(samples)"
   ]
  },
  {
   "cell_type": "code",
   "execution_count": 123,
   "id": "3d0103c2",
   "metadata": {},
   "outputs": [
    {
     "name": "stdout",
     "output_type": "stream",
     "text": [
      "(1000, 3, 2)\n"
     ]
    }
   ],
   "source": [
    "samples_for_plot = batched_mv_normal2.sample(1000)\n",
    "print(samples_for_plot.shape)"
   ]
  },
  {
   "cell_type": "code",
   "execution_count": 182,
   "id": "1276712b",
   "metadata": {},
   "outputs": [
    {
     "data": {
      "image/png": "[encoded data removed]",
      "text/plain": [
       "<Figure size 720x216 with 3 Axes>"
      ]
     },
     "metadata": {
      "needs_background": "light"
     },
     "output_type": "display_data"
    }
   ],
   "source": [
    "# plot each batch distributions\n",
    "\n",
    "fig, axes = (plt.subplots(1,3, sharex=True, sharey=True, figsize=(10,3)))\n",
    "titles = [f'batch 1, cov_diag : {batched_mv_normal2.covariance()[0][0]},{batched_mv_normal2.covariance()[0][1]}',\n",
    "          f'batch 2, cov_diag : {batched_mv_normal2.covariance()[1][0]},{batched_mv_normal2.covariance()[1][1]}',\n",
    "          f'batch 3, cov_diag : {batched_mv_normal2.covariance()[2][0]},{batched_mv_normal2.covariance()[2][1]}',]\n",
    "\n",
    "for i, (ax, title) in enumerate(zip(axes, titles)):\n",
    "    samples_per_batch = samples_for_plot[:, i, :]\n",
    "    ax.scatter(samples_per_batch[:, 0], samples_per_batch[:, 1], marker='.', alpha=0.2)\n",
    "    ax.set_title(title)\n",
    "plt.tight_layout()\n",
    "plt.show()"
   ]
  }
 ],
 "metadata": {
  "kernelspec": {
   "display_name": "Python 3",
   "language": "python",
   "name": "python3"
  },
  "language_info": {
   "codemirror_mode": {
    "name": "ipython",
    "version": 3
   },
   "file_extension": ".py",
   "mimetype": "text/x-python",
   "name": "python",
   "nbconvert_exporter": "python",
   "pygments_lexer": "ipython3",
   "version": "3.8.8"
  }
 },
 "nbformat": 4,
 "nbformat_minor": 5
}
