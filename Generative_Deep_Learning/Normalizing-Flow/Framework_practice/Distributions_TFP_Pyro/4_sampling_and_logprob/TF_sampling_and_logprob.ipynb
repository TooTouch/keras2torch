{
 "cells": [
  {
   "cell_type": "code",
   "execution_count": 49,
   "id": "f04c1130",
   "metadata": {},
   "outputs": [],
   "source": [
    "import tensorflow as tf\n",
    "import tensorflow_probability as tfp\n",
    "tfd = tfp.distributions\n",
    "\n",
    "import matplotlib.pyplot as plt\n",
    "import numpy as np"
   ]
  },
  {
   "cell_type": "markdown",
   "id": "ad850298",
   "metadata": {},
   "source": [
    "# sampling and log_prob [tensorflow_probability]"
   ]
  },
  {
   "cell_type": "markdown",
   "id": "82cb2a16",
   "metadata": {},
   "source": [
    "**simple example**\n",
    "- exponential distribution"
   ]
  },
  {
   "cell_type": "code",
   "execution_count": 50,
   "id": "a74aa142",
   "metadata": {},
   "outputs": [
    {
     "name": "stdout",
     "output_type": "stream",
     "text": [
      "tfp.distributions.Exponential(\"Exponential\", batch_shape=[2, 3], event_shape=[], dtype=float32)\n"
     ]
    }
   ],
   "source": [
    "exp = tfd.Exponential(rate=[[1., 1.5, .8],\n",
    "                            [.3, .4, 1.8]])\n",
    "print(exp)"
   ]
  },
  {
   "cell_type": "code",
   "execution_count": 51,
   "id": "7af14a37",
   "metadata": {},
   "outputs": [
    {
     "name": "stdout",
     "output_type": "stream",
     "text": [
      "tfp.distributions.Independent(\"IndependentExponential\", batch_shape=[2], event_shape=[3], dtype=float32)\n"
     ]
    }
   ],
   "source": [
    "# with no \"reinterpreted_batch_ndims\" keyword argument, get default value(first batch_dimension(3))\n",
    "\n",
    "ind_exp = tfd.Independent(exp)\n",
    "print(ind_exp)"
   ]
  },
  {
   "cell_type": "code",
   "execution_count": 52,
   "id": "4df4854e",
   "metadata": {},
   "outputs": [
    {
     "name": "stdout",
     "output_type": "stream",
     "text": [
      "whole shape of independent distribution(joint D) of batched exps :  (4, 2, 3)\n",
      "sample shape :  4\n",
      "batch shape :  2\n",
      "event shape :  3\n"
     ]
    }
   ],
   "source": [
    "ind_exp.sample(4)\n",
    "print(\"whole shape of independent distribution(joint D) of batched exps : \", ind_exp.sample(4).shape)\n",
    "print(\"sample shape : \", ind_exp.sample(4).shape[0])\n",
    "print(\"batch shape : \", ind_exp.sample(4).shape[1])\n",
    "print(\"event shape : \", ind_exp.sample(4).shape[2])"
   ]
  },
  {
   "cell_type": "markdown",
   "id": "763f89b2",
   "metadata": {},
   "source": [
    "**more complicated example**\n",
    "- exponential distribution\n",
    "    - rank 4 params"
   ]
  },
  {
   "cell_type": "code",
   "execution_count": 53,
   "id": "98dc5791",
   "metadata": {},
   "outputs": [
    {
     "name": "stdout",
     "output_type": "stream",
     "text": [
      "tfp.distributions.Exponential(\"Exponential\", batch_shape=[2, 1, 2, 3], event_shape=[], dtype=float32)\n"
     ]
    }
   ],
   "source": [
    "rates = [\n",
    "    [[[1., 1.5, .8], [.3, .4, 1.8]]],\n",
    "    [[[.2, .4, 1.4], [.4, 1.1, .9]]]\n",
    "]\n",
    "\n",
    "exp = tfd.Exponential(rate=rates)\n",
    "print(exp)"
   ]
  },
  {
   "cell_type": "code",
   "execution_count": 54,
   "id": "8956ec72",
   "metadata": {},
   "outputs": [
    {
     "name": "stdout",
     "output_type": "stream",
     "text": [
      "tfp.distributions.Independent(\"IndependentExponential\", batch_shape=[2, 1], event_shape=[2, 3], dtype=float32)\n"
     ]
    }
   ],
   "source": [
    "ind_exp = tfd.Independent(exp, reinterpreted_batch_ndims=2)\n",
    "print(ind_exp)"
   ]
  },
  {
   "cell_type": "markdown",
   "id": "646b7be5",
   "metadata": {},
   "source": [
    "## \"sampling\" of batched multi-event distribution"
   ]
  },
  {
   "cell_type": "code",
   "execution_count": 55,
   "id": "93f3987f",
   "metadata": {},
   "outputs": [
    {
     "name": "stdout",
     "output_type": "stream",
     "text": [
      "ind_exp sample([4,2]) shape :  (4, 2, 2, 1, 2, 3)\n",
      "\n",
      "tf.Tensor(\n",
      "[[[[[1.4325756  0.0644755  4.535669  ]\n",
      "    [0.8761179  0.9497326  0.00807053]]]\n",
      "\n",
      "\n",
      "  [[[0.88344014 3.3059225  1.1386163 ]\n",
      "    [7.113349   1.410286   0.67349964]]]]\n",
      "\n",
      "\n",
      "\n",
      " [[[[0.75737804 0.09854684 0.19304658]\n",
      "    [1.0603809  0.4898638  0.53262   ]]]\n",
      "\n",
      "\n",
      "  [[[4.989893   1.8158811  2.899054  ]\n",
      "    [5.6882505  1.3662548  0.49126583]]]]], shape=(2, 2, 1, 2, 3), dtype=float32)\n"
     ]
    }
   ],
   "source": [
    "# shape of \"ind_exp.sample([4,2])\" : (4,2, 2,1, 2,3)\n",
    "# (4,2 : sample shape\n",
    "#  2,1 : batch sahpe\n",
    "#  2,3 : event shape\n",
    "\n",
    "print(\"ind_exp sample([4,2]) shape : \", ind_exp.sample([4,2]).shape)\n",
    "print()\n",
    "print(ind_exp.sample([4,2])[0])"
   ]
  },
  {
   "cell_type": "markdown",
   "id": "0d9fa6fa",
   "metadata": {},
   "source": [
    "## \"log_prob\" of batched multi-event distribution\n",
    "\n",
    "- broad-casting rule\n",
    "    - 만약, ind_exp의 batch_shape=[2,1], event_shape=[2,3]이라면,\n",
    "    - ind_exp.log_prob(0.5) 값의 shape는 batch_shape와 동일하게 나온다.([2,1])\n",
    "        - 어떻게 scalar를 입력했는 데, batch_shape와 동일하게 출력되는 걸까?\n",
    "            - broadcasting 연산\n",
    "                - 임의로 event_shape에 모두 동일한 숫자로 입력해 연산\n",
    "                \n",
    "                \n",
    "```python\n",
    "    ind_exp.log_prob(0.5) == ind_exp.log_prob([ [0.5, 0.5, 0.5], [0.5, 0.5, 0.5] ])  # shape=(2,3)\n",
    "    ind_exp.log_prob([[0.5,0.5,0.5]]) == ind_exp.log_prob([ [0.5, 0.5, 0.5], [0.5, 0.5, 0.5] ]) \n",
    "```"
   ]
  },
  {
   "cell_type": "code",
   "execution_count": 56,
   "id": "269789a0",
   "metadata": {
    "scrolled": true
   },
   "outputs": [
    {
     "name": "stdout",
     "output_type": "stream",
     "text": [
      "tfp.distributions.Independent(\"IndependentExponential\", batch_shape=[2, 1], event_shape=[2, 3], dtype=float32)\n",
      "\n",
      "tf.Tensor(\n",
      "[[-4.2501554]\n",
      " [-5.3155975]], shape=(2, 1), dtype=float32)\n",
      "\n",
      "shape of ind_exp.log_prob(0.5) :  (2, 1)\n"
     ]
    }
   ],
   "source": [
    "print(ind_exp)\n",
    "print()\n",
    "\n",
    "print(ind_exp.log_prob(0.5))\n",
    "print()\n",
    "print(\"shape of ind_exp.log_prob(0.5) : \", ind_exp.log_prob(0.5).shape)"
   ]
  },
  {
   "cell_type": "code",
   "execution_count": 57,
   "id": "a0565a13",
   "metadata": {},
   "outputs": [
    {
     "name": "stdout",
     "output_type": "stream",
     "text": [
      "tf.Tensor(\n",
      "[[-4.2501554]\n",
      " [-5.3155975]], shape=(2, 1), dtype=float32)\n"
     ]
    }
   ],
   "source": [
    "# 위와 동일하므로, broad-casting 연산이 적용되었음을 알 수 있다.\n",
    "\n",
    "print(ind_exp.log_prob([\n",
    "    [0.5, 0.5, 0.5],\n",
    "    [0.5, 0.5, 0.5]]))"
   ]
  },
  {
   "cell_type": "markdown",
   "id": "a9815bff",
   "metadata": {},
   "source": [
    "## another example\n",
    "\n",
    "- rank 5 input을 가정해보자.\n",
    "```python\n",
    "tf.random.uniform((5,1,1,2,1))\n",
    "```\n",
    "\n",
    "```\n",
    "    - 이 때, [B, E] = [2, 1, 2, 3]인 분포(위에서 정의한 \"ind_exp\")에도 broad casting이 가능할 까?\n",
    "        - 가능하다면, returned by log prob method의 shape는?\n",
    "        \n",
    "        - 아직 명확하지 않음...... 더 공부해봐야 함\n",
    "        \n",
    "        - answer) 가능함.\n",
    "            - why?) input 의 (5,1,1,2,1) 중 \n",
    "                sample shape : 5         -> be broadcast against the rest of ..(5)\n",
    "                batch shape : (1,1,2)    -> be broadcast against the first dimension of the batch_shape(2)\n",
    "                event shape : 1          -> be broadcast against the second dimension of the event_shape(3)\n",
    "                \n",
    "```"
   ]
  },
  {
   "cell_type": "code",
   "execution_count": 77,
   "id": "7aee9c5d",
   "metadata": {},
   "outputs": [
    {
     "data": {
      "text/plain": [
       "<tfp.distributions.Independent 'IndependentExponential' batch_shape=[2, 1] event_shape=[2, 3] dtype=float32>"
      ]
     },
     "execution_count": 77,
     "metadata": {},
     "output_type": "execute_result"
    }
   ],
   "source": [
    "ind_exp"
   ]
  },
  {
   "cell_type": "code",
   "execution_count": 79,
   "id": "e2a9a66f",
   "metadata": {},
   "outputs": [
    {
     "name": "stdout",
     "output_type": "stream",
     "text": [
      "(5, 1, 1, 2, 1)\n"
     ]
    }
   ],
   "source": [
    "input_sample = tf.random.uniform((5,1,1,2,1))\n",
    "print(input_sample.shape)"
   ]
  },
  {
   "cell_type": "code",
   "execution_count": 59,
   "id": "badbeee1",
   "metadata": {},
   "outputs": [
    {
     "data": {
      "text/plain": [
       "<tf.Tensor: shape=(5, 2, 1), dtype=float32, numpy=\n",
       "array([[[-4.7249455],\n",
       "        [-5.4074545]],\n",
       "\n",
       "       [[-5.269409 ],\n",
       "        [-6.346131 ]],\n",
       "\n",
       "       [[-3.1244216],\n",
       "        [-4.3141217]],\n",
       "\n",
       "       [[-6.0522842],\n",
       "        [-6.6951456]],\n",
       "\n",
       "       [[-3.3583426],\n",
       "        [-4.5451894]]], dtype=float32)>"
      ]
     },
     "execution_count": 59,
     "metadata": {},
     "output_type": "execute_result"
    }
   ],
   "source": [
    "ind_exp.log_prob(tf.random.uniform((5,1,1,2,1)))"
   ]
  },
  {
   "cell_type": "markdown",
   "id": "7942231a",
   "metadata": {},
   "source": [
    "**example**"
   ]
  },
  {
   "cell_type": "code",
   "execution_count": 95,
   "id": "78b3d5e3",
   "metadata": {},
   "outputs": [
    {
     "name": "stdout",
     "output_type": "stream",
     "text": [
      "batched_mv : \n",
      " tfp.distributions.MultivariateNormalDiag(\"MultivariateNormalDiag\", batch_shape=[2, 3], event_shape=[4], dtype=float32)\n",
      "\n",
      "indep dist : \n",
      " tfp.distributions.Independent(\"IndependentMultivariateNormalDiag\", batch_shape=[2], event_shape=[3, 4], dtype=float32)\n"
     ]
    }
   ],
   "source": [
    "loc = tf.zeros((2,3,1))\n",
    "scale_diag = tf.ones(4)\n",
    "print(\"batched_mv : \\n\", tfd.MultivariateNormalDiag(loc=loc, scale_diag=scale_diag))\n",
    "print()\n",
    "\n",
    "dist = tfd.Independent(tfd.MultivariateNormalDiag(loc=loc, scale_diag=scale_diag))\n",
    "print(\"indep dist : \\n\", dist)"
   ]
  },
  {
   "cell_type": "code",
   "execution_count": 91,
   "id": "17993c6f",
   "metadata": {
    "scrolled": true
   },
   "outputs": [
    {
     "name": "stdout",
     "output_type": "stream",
     "text": [
      "tfp.distributions.Independent(\"IndependentMultivariateNormalDiag\", batch_shape=[2], event_shape=[3, 4], dtype=float32)\n"
     ]
    }
   ],
   "source": [
    "print(dist)"
   ]
  },
  {
   "cell_type": "code",
   "execution_count": 89,
   "id": "22a0a5b2",
   "metadata": {
    "scrolled": false
   },
   "outputs": [
    {
     "data": {
      "text/plain": [
       "<tf.Tensor: shape=(2, 2), dtype=float32, numpy=\n",
       "array([[-12.978109, -12.978109],\n",
       "       [-14.191105, -14.191105]], dtype=float32)>"
      ]
     },
     "execution_count": 89,
     "metadata": {},
     "output_type": "execute_result"
    }
   ],
   "source": [
    "dist.log_prob(tf.random.uniform((2,1,1,4)))"
   ]
  }
 ],
 "metadata": {
  "kernelspec": {
   "display_name": "Python 3",
   "language": "python",
   "name": "python3"
  },
  "language_info": {
   "codemirror_mode": {
    "name": "ipython",
    "version": 3
   },
   "file_extension": ".py",
   "mimetype": "text/x-python",
   "name": "python",
   "nbconvert_exporter": "python",
   "pygments_lexer": "ipython3",
   "version": "3.8.8"
  }
 },
 "nbformat": 4,
 "nbformat_minor": 5
}
