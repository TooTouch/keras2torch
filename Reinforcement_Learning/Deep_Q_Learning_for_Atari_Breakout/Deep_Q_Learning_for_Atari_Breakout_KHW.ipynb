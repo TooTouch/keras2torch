{
 "cells": [
  {
   "cell_type": "markdown",
   "id": "minimal-recipe",
   "metadata": {},
   "source": [
    "# Deep Q-Learning for Atari Breakout"
   ]
  },
  {
   "cell_type": "markdown",
   "id": "dirty-roommate",
   "metadata": {},
   "source": [
    "## Reinforcement Learning"
   ]
  },
  {
   "cell_type": "markdown",
   "id": "outdoor-airline",
   "metadata": {},
   "source": [
    "<img src='../img/RL01.png' width='600'>"
   ]
  },
  {
   "cell_type": "markdown",
   "id": "entertaining-powell",
   "metadata": {},
   "source": [
    "- policy : $\\pi(a|s)=P(a|s), \\forall s, \\forall a$\n",
    "\n",
    "- value function : $v_{\\pi}(s)=\\sum P(z)R(z)=\\sum_{a\\in\\mathbb{A}(s)}P(a|s)(r+v_{\\pi}(s')), \\forall s \\in \\mathbb{S}$\n",
    "\n",
    "- reward : $R(z)=r_{t+1}+\\gamma r_{t+2} + \\gamma^2r_{t+3}+\\cdots=\\sum_{k=1}^{\\infty}\\gamma^{k-1}r_{t+k}$\n",
    "\n",
    "- Q-Value : $Q_{\\pi}(s,a)=E_{\\pi}[R_{t+1}+\\gamma R_{t+2}+\\gamma^2R_{t+3}+\\cdots|S_t=s,A_t=a]$"
   ]
  },
  {
   "cell_type": "markdown",
   "id": "eleven-presentation",
   "metadata": {},
   "source": [
    "### Deep Q-Learning"
   ]
  },
  {
   "cell_type": "markdown",
   "id": "bacterial-picnic",
   "metadata": {},
   "source": [
    "Agent가 action을 수행하고 envrionment을 이동하면서 관찰된 상태를 action에 매핑.\n",
    "\n",
    "Agent는 예상되는 가장 높은 장기 reward을 기반으로 가중치가 부여된 reward 인 \"Q- 값\"을 기반으로 주어진 상태에서 action을 선택.\n",
    "\n",
    "Q-Learning Agent는 recommended action이 잠재적인 미래 reward를 극대화하도록 action을 수행하는 방법을 학습. \n",
    "\n",
    "이 방법은 \"Off-Policy\"방법으로 간주. \n",
    "\n",
    "즉, 최상의 작업이 선택되지 않은 경우에도 최상의 작업이 선택되었다고 가정하여 해당 Q 값이 업데이트"
   ]
  },
  {
   "cell_type": "markdown",
   "id": "conventional-freeze",
   "metadata": {},
   "source": [
    "<img src='../img/dqn02.png' width='600'>"
   ]
  },
  {
   "cell_type": "markdown",
   "id": "assured-confusion",
   "metadata": {},
   "source": [
    "### Epsilon-Greedy Algorithm"
   ]
  },
  {
   "cell_type": "markdown",
   "id": "armed-royal",
   "metadata": {},
   "source": [
    "- Greedy Algorithm은 미래를 생각하지 않고 각 단계에서 가장 최선의 선택을 하는 기법으로 각 단계에서 최선의 선택을 하는 것이 전체적으로도 최선이길 바라는 알고리즘\n",
    "\n",
    "- Epsilon-Greedy Algorithm은 이를 개선시킨 전략, 일정한 확률로 랜덤으로 Action을 취하는 것. \n",
    "\n",
    "- Epsilon이라는 HyperParameter는 0~1 사이의 변수\n",
    "\n",
    "- 만약 0에서 1 사이의 임의의 숫자를 얻었을 때, 𝜖 값보다 작다면, 임의의 행동을 선택\n",
    "\n",
    "- 그리고 𝜖 값보다 크다면, 뉴럴 네트워크의 출력값에 근거해서 행동을 선택 \n",
    "\n",
    "- 이 𝜖 값은 학습 초반에 크고 학습이 이루어 질수록 0에 가까운 값으로 작아진다. \n",
    "\n",
    "- 이렇게 해서, 학습의 초반에 더 많은 가능성들을 탐색하고, 학습의 후반에 뉴럴 네트워크가 좋은 정답을 출력할 수 있도록 한다."
   ]
  },
  {
   "cell_type": "markdown",
   "id": "occupied-bargain",
   "metadata": {},
   "source": [
    "### Atari Breakout"
   ]
  },
  {
   "cell_type": "markdown",
   "id": "married-cabin",
   "metadata": {},
   "source": [
    "보드는 화면 하단을 따라 이동하여 화면 상단의 블록을 파괴 할 공을 반환. \n",
    "\n",
    "게임의 목적은 레벨의 모든 블록과 브레이크 아웃을 제거하는 것입니다. \n",
    "\n",
    "Agent는 공이 보드를 통과하지 않고 좌우로 움직이고 공을 되돌리고 모든 블록을 제거하여 보드를 제어하는 방법을 학습해야한다."
   ]
  },
  {
   "cell_type": "markdown",
   "id": "broad-ceiling",
   "metadata": {},
   "source": [
    "<img src='../img/breakout.jpeg' width='200'>"
   ]
  },
  {
   "cell_type": "markdown",
   "id": "balanced-transportation",
   "metadata": {},
   "source": [
    "### Note"
   ]
  },
  {
   "cell_type": "markdown",
   "id": "adolescent-confidence",
   "metadata": {},
   "source": [
    "Deepmind 문서는 \"총 5 천만 프레임 (즉, 총 38 일의 게임 경험)\"에 대해 훈련. \n",
    "\n",
    "그러나 이 스크립트는 최신 컴퓨터에서 24 시간 이내에 처리되는 약 1 천만 프레임에서 좋은 결과를 제공."
   ]
  },
  {
   "cell_type": "markdown",
   "id": "ongoing-gregory",
   "metadata": {},
   "source": [
    "## Setup"
   ]
  },
  {
   "cell_type": "code",
   "execution_count": null,
   "id": "prerequisite-breed",
   "metadata": {
    "ExecuteTime": {
     "end_time": "2021-03-21T01:12:20.787195Z",
     "start_time": "2021-03-21T01:12:11.680005Z"
    },
    "scrolled": true
   },
   "outputs": [],
   "source": [
    "!pip install gym\n",
    "!apt-get install python-opengl -y\n",
    "!apt install xvfb -y\n",
    "!pip install pyvirtualdisplay\n",
    "!pip install piglet\n",
    "!apt-get install git -y\n",
    "!git clone https://github.com/openai/baselines.git\n",
    "!pip install atari_py"
   ]
  },
  {
   "cell_type": "code",
   "execution_count": 1,
   "id": "advance-provider",
   "metadata": {
    "ExecuteTime": {
     "end_time": "2021-04-11T16:32:09.187499Z",
     "start_time": "2021-04-11T16:32:07.920985Z"
    }
   },
   "outputs": [],
   "source": [
    "import sys\n",
    "sys.path.append('/tf/dsba/keras2torch/Reinforcement_Learning/KHW/baselines')\n",
    "from baselines.common.atari_wrappers import make_atari, wrap_deepmind\n",
    "import numpy as np\n",
    "import pandas as pd\n",
    "import random\n",
    "import torch\n",
    "import torch.nn as nn\n",
    "import torch.nn.functional as F\n",
    "import torch.optim as optim\n",
    "import matplotlib.pyplot as plt\n",
    "\n",
    "%matplotlib inline"
   ]
  },
  {
   "cell_type": "code",
   "execution_count": 2,
   "id": "smooth-minimum",
   "metadata": {
    "ExecuteTime": {
     "end_time": "2021-04-11T16:32:10.425706Z",
     "start_time": "2021-04-11T16:32:10.322477Z"
    }
   },
   "outputs": [],
   "source": [
    "device = torch.device(\"cuda\" if torch.cuda.is_available() else \"cpu\")"
   ]
  },
  {
   "cell_type": "code",
   "execution_count": 3,
   "id": "necessary-treatment",
   "metadata": {
    "ExecuteTime": {
     "end_time": "2021-04-11T16:32:12.454903Z",
     "start_time": "2021-04-11T16:32:11.867405Z"
    }
   },
   "outputs": [
    {
     "name": "stdout",
     "output_type": "stream",
     "text": [
      "bash: ../xvfb: No such file or directory\n",
      "env: DISPLAY=:1\n"
     ]
    }
   ],
   "source": [
    "# 게임 이미지를 그리는 가상 디스플레이 생성\n",
    "# Colab이나 Jupyter 같은 환경에서만 필요. 로컬은 필요 없음\n",
    "import os\n",
    "if type(os.environ.get(\"DISPLAY\")) is not str or len(os.environ.get(\"DISPLAY\"))==0:\n",
    "    !bash ../xvfb start\n",
    "    %env DISPLAY=:1"
   ]
  },
  {
   "cell_type": "code",
   "execution_count": 4,
   "id": "british-brook",
   "metadata": {
    "ExecuteTime": {
     "end_time": "2021-04-11T16:32:16.160084Z",
     "start_time": "2021-04-11T16:32:15.807238Z"
    }
   },
   "outputs": [
    {
     "data": {
      "text/plain": [
       "[42, 742738649]"
      ]
     },
     "execution_count": 4,
     "metadata": {},
     "output_type": "execute_result"
    }
   ],
   "source": [
    "# Configuration paramaters for the whole setup\n",
    "seed = 42\n",
    "gamma = 0.99  # 감가율\n",
    "alpha = 0.00025\n",
    "epsilon = 1.0  # Epsilon greedy parameter\n",
    "epsilon_min = 0.1  # Minimum epsilon greedy parameter\n",
    "epsilon_max = 1.0  # Maximum epsilon greedy parameter\n",
    "epsilon_interval = (\n",
    "    epsilon_max - epsilon_min\n",
    ")  # Rate at which to reduce chance of random action being taken\n",
    "batch_size = 32  # Size of batch taken from replay buffer\n",
    "max_steps_per_episode = 10000\n",
    "\n",
    "# Use the Baseline Atari environment because of Deepmind helper functions\n",
    "env = make_atari(\"BreakoutNoFrameskip-v4\")\n",
    "# Warp the frames, grey scale, stake four frame and scale to smaller ratio\n",
    "env = wrap_deepmind(env, frame_stack=True, scale=True)\n",
    "env.seed(seed)"
   ]
  },
  {
   "cell_type": "markdown",
   "id": "hazardous-digit",
   "metadata": {},
   "source": [
    "## Deep Q-Learning 네트워크 구현"
   ]
  },
  {
   "cell_type": "markdown",
   "id": "forty-mouth",
   "metadata": {},
   "source": [
    "<img src='../img/dqn01.png' width='600'>"
   ]
  },
  {
   "cell_type": "code",
   "execution_count": 5,
   "id": "applied-wound",
   "metadata": {
    "ExecuteTime": {
     "end_time": "2021-04-11T16:32:20.214518Z",
     "start_time": "2021-04-11T16:32:20.203933Z"
    }
   },
   "outputs": [],
   "source": [
    "num_actions = 4 # action\n",
    "input_size = (84, 84, 4,) \n",
    "num_hidden = 128  # hidden layer node 수\n",
    "\n",
    "class DQN(nn.Module):\n",
    "    def __init__(self, input_size, num_actions, num_hidden, gamma=0.99):\n",
    "        super(DQN, self).__init__()\n",
    "        \n",
    "        self.num_actions = num_actions\n",
    "        self.dqn_layer = nn.Sequential(\n",
    "            nn.Conv2d(in_channels = 4,\n",
    "                      out_channels = 32,\n",
    "                      kernel_size = 8,\n",
    "                      stride = 4),\n",
    "            nn.ReLU(),\n",
    "            nn.Conv2d(in_channels = 32,\n",
    "                      out_channels = 64,\n",
    "                      kernel_size = 4,\n",
    "                      stride = 2),\n",
    "            nn.ReLU(),\n",
    "            nn.Conv2d(in_channels = 64,\n",
    "                     out_channels = 64,\n",
    "                     kernel_size = 3,\n",
    "                     stride = 1),\n",
    "            nn.ReLU(),\n",
    "            nn.Flatten(),\n",
    "            nn.Linear(7*7*64,512),\n",
    "            nn.Linear(512,self.num_actions)\n",
    "        )\n",
    "\n",
    "    def forward(self, input):\n",
    "        return self.dqn_layer(input)"
   ]
  },
  {
   "cell_type": "markdown",
   "id": "wanted-porcelain",
   "metadata": {},
   "source": [
    "<img src='../img/dqn03.png' width='800'>"
   ]
  },
  {
   "cell_type": "code",
   "execution_count": 6,
   "id": "checked-requirement",
   "metadata": {
    "ExecuteTime": {
     "end_time": "2021-04-11T16:32:47.802782Z",
     "start_time": "2021-04-11T16:32:44.384489Z"
    }
   },
   "outputs": [],
   "source": [
    "model = DQN(input_size, num_actions, num_hidden, gamma).to(device)\n",
    "model_target = DQN(input_size, num_actions, num_hidden, gamma).to(device)\n",
    "model_target.load_state_dict(model.state_dict())\n",
    "model_target.eval()\n",
    "\n",
    "optimizer = optim.Adam(model.parameters(), lr=alpha)"
   ]
  },
  {
   "cell_type": "markdown",
   "id": "boxed-person",
   "metadata": {},
   "source": [
    "- Q function\n",
    "\n",
    "$$Q^\\pi(s,a)=E_{\\pi}\\{R_t|s_t=s, a_t=a\\}=E_{\\pi}\\{\\sum^T_{t'=t}\\gamma^{t'-t}r_{t'}|s_t=s, a_t=a\\}$$\n",
    "\n",
    "- Optimal Q function\n",
    "\n",
    "$$Q^*(s,a)=\\underset{\\pi}{\\mathrm{max}}E\\{R_t|s_t=s,a_t=a\\}$$\n",
    "\n",
    "- Optimal Q function (using Bellman equation)\n",
    "\n",
    "$$Q^*(s,a)=E_{s'~\\epsilon}[r+\\gamma\\underset{a'}{\\mathrm{max}}Q^*(s',a')|s,a]$$"
   ]
  },
  {
   "cell_type": "markdown",
   "id": "decreased-saturday",
   "metadata": {},
   "source": [
    "이 DQN의 가장 큰 contribution은 두 가지 아이디어로 Q-learning 알고리즘을 개선해서 neural network predictor 적용에 성공한 것. \n",
    "\n",
    "1. experience replay\n",
    "    - 인접한 학습 데이터 사이의 correlation으로 인한 비효율성을 극복하기 위한 기법 \n",
    "    - 게임을 하는 agent의 경험 데이터$(s,a,r,s')$를 replay memory라는 이름의 buffer pool에 매 순간 저장\n",
    "    - update 할 때는 replay memory에서 random하게 minibatch 크기의 sample을 뽑아 계산하는 것\n",
    "\n",
    "\n",
    "2. target network\n",
    "    - DQN과 똑같은 neural network을 하나 더 만들어, 그 weight 값이 가끔씩만 update 되도록 한 것\n",
    "    - $Q(s,a)$를 학습하는 순간, target 값도 따라 변하면서 학습 성능이 떨어지는 문제를 개선하기 위해서\n",
    "    - Target network의 weight 값들은 주기적으로 DQN의 값을 복사. \n",
    "    - Q-learning의 update에서 아래 식과 같은 loss function을 사용하는데, 먼저 나오는 Q는 target network에서 계산한 것이고 뒤의 Q는 원래의 DQN에서 계산한 것\n",
    "    \n",
    "$$L_i(\\theta_i)=E_{(s,a,r,s')~U(D)}[(r+\\gamma\\underset{a'}{\\mathrm{max}}Q(s',a';\\theta^{-}_i)-Q(s,a;\\theta_i))^2]$$"
   ]
  },
  {
   "cell_type": "markdown",
   "id": "processed-broadcast",
   "metadata": {
    "ExecuteTime": {
     "end_time": "2021-03-21T00:54:38.508265Z",
     "start_time": "2021-03-21T00:54:38.499869Z"
    }
   },
   "source": [
    "Huber loss\n",
    "\n",
    "일정한 범위(\n",
    "δ)를 정해서 그 안에 있으면 오차를 제곱하고, 그 밖에 있으면 오차의 절대값을 구하는 것\n",
    "\n",
    "$$L_{\\delta}(e)=\\left\\{\\begin{matrix}\n",
    " \\frac{1}{2}e^2&\\textrm{for}\\left |  e\\right | \\leq \\delta\\\\ \n",
    "\\delta(\\left | e \\right |- \\frac{1}{2}\\delta), & \\mathrm{otherwise}\n",
    "\\end{matrix}\\right.$$"
   ]
  },
  {
   "cell_type": "code",
   "execution_count": 33,
   "id": "special-yellow",
   "metadata": {
    "ExecuteTime": {
     "end_time": "2021-04-12T21:16:20.431042Z",
     "start_time": "2021-04-11T20:24:51.776635Z"
    }
   },
   "outputs": [
    {
     "name": "stdout",
     "output_type": "stream",
     "text": [
      "running reward: 0.30 at episode 292, frame count 10000\n",
      "running reward: 0.30 at episode 568, frame count 20000\n",
      "running reward: 0.19 at episode 892, frame count 30000\n",
      "running reward: 0.36 at episode 1178, frame count 40000\n",
      "running reward: 0.32 at episode 1457, frame count 50000\n",
      "running reward: 0.50 at episode 1694, frame count 60000\n",
      "running reward: 0.66 at episode 1917, frame count 70000\n",
      "running reward: 0.51 at episode 2150, frame count 80000\n",
      "running reward: 0.52 at episode 2385, frame count 90000\n",
      "running reward: 0.62 at episode 2591, frame count 100000\n",
      "running reward: 0.59 at episode 2809, frame count 110000\n",
      "running reward: 0.66 at episode 3011, frame count 120000\n",
      "running reward: 0.62 at episode 3222, frame count 130000\n",
      "running reward: 0.76 at episode 3410, frame count 140000\n",
      "running reward: 0.71 at episode 3599, frame count 150000\n",
      "running reward: 0.73 at episode 3794, frame count 160000\n",
      "running reward: 0.81 at episode 3965, frame count 170000\n",
      "running reward: 0.68 at episode 4156, frame count 180000\n",
      "running reward: 0.86 at episode 4344, frame count 190000\n",
      "running reward: 0.83 at episode 4523, frame count 200000\n",
      "running reward: 0.63 at episode 4716, frame count 210000\n",
      "running reward: 0.93 at episode 4884, frame count 220000\n",
      "running reward: 1.00 at episode 5043, frame count 230000\n",
      "running reward: 1.14 at episode 5189, frame count 240000\n",
      "running reward: 1.01 at episode 5343, frame count 250000\n",
      "running reward: 0.95 at episode 5503, frame count 260000\n",
      "running reward: 0.90 at episode 5662, frame count 270000\n",
      "running reward: 0.99 at episode 5833, frame count 280000\n",
      "running reward: 0.91 at episode 6002, frame count 290000\n",
      "running reward: 1.18 at episode 6143, frame count 300000\n",
      "running reward: 1.32 at episode 6279, frame count 310000\n",
      "running reward: 0.97 at episode 6444, frame count 320000\n",
      "running reward: 1.14 at episode 6586, frame count 330000\n",
      "running reward: 0.88 at episode 6750, frame count 340000\n",
      "running reward: 1.00 at episode 6901, frame count 350000\n",
      "running reward: 1.19 at episode 7054, frame count 360000\n",
      "running reward: 1.23 at episode 7197, frame count 370000\n",
      "running reward: 1.21 at episode 7343, frame count 380000\n",
      "running reward: 1.28 at episode 7486, frame count 390000\n",
      "running reward: 1.43 at episode 7623, frame count 400000\n",
      "running reward: 1.85 at episode 7732, frame count 410000\n",
      "running reward: 1.88 at episode 7843, frame count 420000\n",
      "running reward: 1.45 at episode 7966, frame count 430000\n",
      "running reward: 1.85 at episode 8071, frame count 440000\n",
      "running reward: 1.62 at episode 8190, frame count 450000\n",
      "running reward: 1.74 at episode 8299, frame count 460000\n",
      "running reward: 1.80 at episode 8414, frame count 470000\n",
      "running reward: 2.08 at episode 8511, frame count 480000\n",
      "running reward: 1.70 at episode 8623, frame count 490000\n",
      "running reward: 2.09 at episode 8720, frame count 500000\n",
      "running reward: 1.64 at episode 8837, frame count 510000\n",
      "running reward: 2.01 at episode 8940, frame count 520000\n",
      "running reward: 1.93 at episode 9048, frame count 530000\n",
      "running reward: 2.05 at episode 9151, frame count 540000\n",
      "running reward: 2.26 at episode 9248, frame count 550000\n",
      "running reward: 2.07 at episode 9350, frame count 560000\n",
      "running reward: 2.15 at episode 9449, frame count 570000\n",
      "running reward: 2.34 at episode 9539, frame count 580000\n",
      "running reward: 2.44 at episode 9625, frame count 590000\n",
      "running reward: 2.35 at episode 9718, frame count 600000\n",
      "running reward: 2.57 at episode 9806, frame count 610000\n",
      "running reward: 2.44 at episode 9894, frame count 620000\n",
      "running reward: 2.54 at episode 9984, frame count 630000\n",
      "running reward: 2.31 at episode 10079, frame count 640000\n",
      "running reward: 2.54 at episode 10168, frame count 650000\n",
      "running reward: 2.71 at episode 10248, frame count 660000\n",
      "running reward: 2.82 at episode 10328, frame count 670000\n",
      "running reward: 3.27 at episode 10397, frame count 680000\n",
      "running reward: 3.27 at episode 10476, frame count 690000\n",
      "running reward: 3.29 at episode 10544, frame count 700000\n",
      "running reward: 3.26 at episode 10616, frame count 710000\n",
      "running reward: 3.79 at episode 10675, frame count 720000\n",
      "running reward: 4.32 at episode 10734, frame count 730000\n",
      "running reward: 4.17 at episode 10795, frame count 740000\n",
      "running reward: 4.23 at episode 10856, frame count 750000\n",
      "running reward: 4.11 at episode 10918, frame count 760000\n",
      "running reward: 4.62 at episode 10971, frame count 770000\n",
      "running reward: 4.64 at episode 11027, frame count 780000\n",
      "running reward: 4.60 at episode 11085, frame count 790000\n",
      "running reward: 4.51 at episode 11137, frame count 800000\n",
      "running reward: 4.77 at episode 11189, frame count 810000\n",
      "running reward: 4.79 at episode 11242, frame count 820000\n",
      "running reward: 4.66 at episode 11300, frame count 830000\n",
      "running reward: 4.68 at episode 11354, frame count 840000\n",
      "running reward: 5.23 at episode 11400, frame count 850000\n",
      "running reward: 5.46 at episode 11448, frame count 860000\n",
      "running reward: 5.50 at episode 11495, frame count 870000\n",
      "running reward: 5.78 at episode 11540, frame count 880000\n",
      "running reward: 5.45 at episode 11593, frame count 890000\n",
      "running reward: 5.00 at episode 11644, frame count 900000\n",
      "running reward: 4.71 at episode 11696, frame count 910000\n",
      "running reward: 5.00 at episode 11742, frame count 920000\n",
      "running reward: 5.47 at episode 11790, frame count 930000\n",
      "running reward: 5.59 at episode 11837, frame count 940000\n",
      "running reward: 5.48 at episode 11885, frame count 950000\n",
      "running reward: 5.54 at episode 11933, frame count 960000\n",
      "running reward: 5.29 at episode 11985, frame count 970000\n",
      "running reward: 5.20 at episode 12033, frame count 980000\n",
      "running reward: 5.37 at episode 12081, frame count 990000\n",
      "running reward: 5.66 at episode 12128, frame count 1000000\n",
      "running reward: 5.67 at episode 12173, frame count 1010000\n",
      "running reward: 5.26 at episode 12231, frame count 1020000\n",
      "running reward: 5.22 at episode 12279, frame count 1030000\n",
      "running reward: 5.30 at episode 12330, frame count 1040000\n",
      "running reward: 5.53 at episode 12377, frame count 1050000\n",
      "running reward: 5.46 at episode 12430, frame count 1060000\n",
      "running reward: 5.13 at episode 12480, frame count 1070000\n",
      "running reward: 5.29 at episode 12528, frame count 1080000\n",
      "running reward: 5.86 at episode 12570, frame count 1090000\n",
      "running reward: 6.16 at episode 12615, frame count 1100000\n",
      "running reward: 5.37 at episode 12667, frame count 1110000\n",
      "running reward: 5.44 at episode 12713, frame count 1120000\n",
      "running reward: 6.11 at episode 12756, frame count 1130000\n",
      "running reward: 6.21 at episode 12795, frame count 1140000\n",
      "running reward: 6.26 at episode 12838, frame count 1150000\n",
      "running reward: 6.61 at episode 12883, frame count 1160000\n",
      "running reward: 6.44 at episode 12920, frame count 1170000\n",
      "running reward: 6.54 at episode 12968, frame count 1180000\n",
      "running reward: 5.71 at episode 13019, frame count 1190000\n",
      "running reward: 5.85 at episode 13060, frame count 1200000\n",
      "running reward: 5.82 at episode 13108, frame count 1210000\n",
      "running reward: 5.54 at episode 13158, frame count 1220000\n",
      "running reward: 5.61 at episode 13205, frame count 1230000\n",
      "running reward: 5.54 at episode 13256, frame count 1240000\n",
      "running reward: 5.61 at episode 13301, frame count 1250000\n",
      "running reward: 6.58 at episode 13340, frame count 1260000\n",
      "running reward: 6.27 at episode 13385, frame count 1270000\n",
      "running reward: 6.12 at episode 13430, frame count 1280000\n",
      "running reward: 5.71 at episode 13480, frame count 1290000\n",
      "running reward: 5.66 at episode 13526, frame count 1300000\n",
      "running reward: 5.83 at episode 13577, frame count 1310000\n",
      "running reward: 5.98 at episode 13619, frame count 1320000\n",
      "running reward: 5.74 at episode 13671, frame count 1330000\n",
      "running reward: 5.80 at episode 13714, frame count 1340000\n",
      "running reward: 6.39 at episode 13756, frame count 1350000\n",
      "running reward: 6.02 at episode 13807, frame count 1360000\n",
      "running reward: 5.75 at episode 13852, frame count 1370000\n",
      "running reward: 5.91 at episode 13897, frame count 1380000\n",
      "running reward: 5.96 at episode 13945, frame count 1390000\n",
      "running reward: 5.79 at episode 13995, frame count 1400000\n",
      "running reward: 6.20 at episode 14035, frame count 1410000\n",
      "running reward: 6.51 at episode 14076, frame count 1420000\n"
     ]
    },
    {
     "name": "stdout",
     "output_type": "stream",
     "text": [
      "running reward: 6.48 at episode 14118, frame count 1430000\n",
      "running reward: 6.73 at episode 14156, frame count 1440000\n",
      "running reward: 6.08 at episode 14206, frame count 1450000\n",
      "running reward: 5.98 at episode 14250, frame count 1460000\n",
      "running reward: 5.78 at episode 14300, frame count 1470000\n",
      "running reward: 5.94 at episode 14343, frame count 1480000\n",
      "running reward: 6.49 at episode 14383, frame count 1490000\n",
      "running reward: 6.83 at episode 14424, frame count 1500000\n",
      "running reward: 6.32 at episode 14473, frame count 1510000\n",
      "running reward: 6.01 at episode 14516, frame count 1520000\n",
      "running reward: 6.23 at episode 14559, frame count 1530000\n",
      "running reward: 6.76 at episode 14602, frame count 1540000\n",
      "running reward: 6.02 at episode 14648, frame count 1550000\n",
      "running reward: 6.38 at episode 14687, frame count 1560000\n",
      "running reward: 6.59 at episode 14729, frame count 1570000\n",
      "running reward: 6.46 at episode 14772, frame count 1580000\n",
      "running reward: 6.80 at episode 14811, frame count 1590000\n",
      "running reward: 6.72 at episode 14852, frame count 1600000\n",
      "running reward: 6.56 at episode 14897, frame count 1610000\n",
      "running reward: 6.68 at episode 14939, frame count 1620000\n",
      "running reward: 6.96 at episode 14975, frame count 1630000\n",
      "running reward: 6.51 at episode 15021, frame count 1640000\n",
      "running reward: 6.17 at episode 15067, frame count 1650000\n",
      "running reward: 6.00 at episode 15112, frame count 1660000\n",
      "running reward: 6.19 at episode 15156, frame count 1670000\n",
      "running reward: 6.66 at episode 15193, frame count 1680000\n",
      "running reward: 6.80 at episode 15236, frame count 1690000\n",
      "running reward: 6.78 at episode 15277, frame count 1700000\n",
      "running reward: 5.88 at episode 15328, frame count 1710000\n",
      "running reward: 5.95 at episode 15371, frame count 1720000\n",
      "running reward: 6.09 at episode 15416, frame count 1730000\n",
      "running reward: 7.12 at episode 15452, frame count 1740000\n",
      "running reward: 6.95 at episode 15496, frame count 1750000\n",
      "running reward: 6.95 at episode 15534, frame count 1760000\n",
      "running reward: 6.83 at episode 15576, frame count 1770000\n",
      "running reward: 7.12 at episode 15619, frame count 1780000\n",
      "running reward: 6.95 at episode 15660, frame count 1790000\n",
      "running reward: 6.38 at episode 15707, frame count 1800000\n",
      "running reward: 6.08 at episode 15751, frame count 1810000\n",
      "running reward: 6.58 at episode 15790, frame count 1820000\n",
      "running reward: 6.72 at episode 15834, frame count 1830000\n",
      "running reward: 5.21 at episode 15892, frame count 1840000\n",
      "running reward: 5.32 at episode 15938, frame count 1850000\n",
      "running reward: 5.89 at episode 15985, frame count 1860000\n",
      "running reward: 5.99 at episode 16029, frame count 1870000\n",
      "running reward: 6.30 at episode 16073, frame count 1880000\n",
      "running reward: 5.91 at episode 16118, frame count 1890000\n",
      "running reward: 6.15 at episode 16163, frame count 1900000\n",
      "running reward: 6.14 at episode 16212, frame count 1910000\n",
      "running reward: 6.23 at episode 16255, frame count 1920000\n",
      "running reward: 6.02 at episode 16301, frame count 1930000\n",
      "running reward: 6.55 at episode 16340, frame count 1940000\n",
      "running reward: 7.31 at episode 16376, frame count 1950000\n",
      "running reward: 7.16 at episode 16418, frame count 1960000\n",
      "running reward: 6.95 at episode 16460, frame count 1970000\n",
      "running reward: 7.16 at episode 16500, frame count 1980000\n",
      "running reward: 6.99 at episode 16542, frame count 1990000\n",
      "running reward: 6.84 at episode 16582, frame count 2000000\n",
      "running reward: 6.40 at episode 16626, frame count 2010000\n",
      "running reward: 6.23 at episode 16670, frame count 2020000\n",
      "running reward: 6.83 at episode 16718, frame count 2030000\n",
      "running reward: 6.04 at episode 16766, frame count 2040000\n",
      "running reward: 5.38 at episode 16820, frame count 2050000\n",
      "running reward: 5.61 at episode 16865, frame count 2060000\n",
      "running reward: 5.71 at episode 16914, frame count 2070000\n",
      "running reward: 5.33 at episode 16965, frame count 2080000\n",
      "running reward: 5.44 at episode 17014, frame count 2090000\n",
      "running reward: 5.75 at episode 17062, frame count 2100000\n",
      "running reward: 6.61 at episode 17101, frame count 2110000\n",
      "running reward: 7.12 at episode 17142, frame count 2120000\n",
      "running reward: 6.04 at episode 17192, frame count 2130000\n",
      "running reward: 6.26 at episode 17232, frame count 2140000\n",
      "running reward: 7.10 at episode 17272, frame count 2150000\n",
      "running reward: 7.36 at episode 17310, frame count 2160000\n",
      "running reward: 6.79 at episode 17355, frame count 2170000\n",
      "running reward: 6.93 at episode 17394, frame count 2180000\n",
      "running reward: 6.92 at episode 17441, frame count 2190000\n",
      "running reward: 5.98 at episode 17490, frame count 2200000\n",
      "running reward: 6.06 at episode 17529, frame count 2210000\n",
      "running reward: 6.95 at episode 17570, frame count 2220000\n",
      "running reward: 6.53 at episode 17615, frame count 2230000\n",
      "running reward: 5.79 at episode 17662, frame count 2240000\n",
      "running reward: 5.81 at episode 17712, frame count 2250000\n",
      "running reward: 6.12 at episode 17756, frame count 2260000\n",
      "running reward: 6.43 at episode 17800, frame count 2270000\n",
      "running reward: 6.54 at episode 17844, frame count 2280000\n",
      "running reward: 6.17 at episode 17890, frame count 2290000\n",
      "running reward: 5.64 at episode 17938, frame count 2300000\n",
      "running reward: 5.56 at episode 17988, frame count 2310000\n",
      "running reward: 5.69 at episode 18037, frame count 2320000\n",
      "running reward: 5.87 at episode 18081, frame count 2330000\n",
      "running reward: 6.14 at episode 18127, frame count 2340000\n",
      "running reward: 5.93 at episode 18171, frame count 2350000\n",
      "running reward: 6.45 at episode 18215, frame count 2360000\n",
      "running reward: 6.28 at episode 18262, frame count 2370000\n",
      "running reward: 6.17 at episode 18304, frame count 2380000\n",
      "running reward: 6.28 at episode 18348, frame count 2390000\n",
      "running reward: 6.12 at episode 18394, frame count 2400000\n",
      "running reward: 6.28 at episode 18436, frame count 2410000\n",
      "running reward: 6.99 at episode 18477, frame count 2420000\n",
      "running reward: 7.44 at episode 18519, frame count 2430000\n",
      "running reward: 6.67 at episode 18565, frame count 2440000\n",
      "running reward: 5.87 at episode 18613, frame count 2450000\n",
      "running reward: 6.17 at episode 18659, frame count 2460000\n",
      "running reward: 6.30 at episode 18702, frame count 2470000\n",
      "running reward: 6.12 at episode 18750, frame count 2480000\n",
      "running reward: 6.25 at episode 18793, frame count 2490000\n",
      "running reward: 6.43 at episode 18831, frame count 2500000\n",
      "running reward: 6.29 at episode 18881, frame count 2510000\n",
      "running reward: 6.49 at episode 18922, frame count 2520000\n",
      "running reward: 6.24 at episode 18969, frame count 2530000\n",
      "running reward: 5.98 at episode 19015, frame count 2540000\n",
      "running reward: 5.62 at episode 19066, frame count 2550000\n",
      "running reward: 5.80 at episode 19108, frame count 2560000\n",
      "running reward: 6.13 at episode 19153, frame count 2570000\n",
      "running reward: 6.33 at episode 19193, frame count 2580000\n",
      "running reward: 6.19 at episode 19246, frame count 2590000\n",
      "running reward: 5.64 at episode 19290, frame count 2600000\n",
      "running reward: 5.79 at episode 19337, frame count 2610000\n",
      "running reward: 6.25 at episode 19379, frame count 2620000\n",
      "running reward: 6.49 at episode 19425, frame count 2630000\n",
      "running reward: 6.03 at episode 19475, frame count 2640000\n",
      "running reward: 4.97 at episode 19532, frame count 2650000\n",
      "running reward: 5.18 at episode 19580, frame count 2660000\n",
      "running reward: 5.31 at episode 19635, frame count 2670000\n",
      "running reward: 4.71 at episode 19695, frame count 2680000\n",
      "running reward: 4.24 at episode 19759, frame count 2690000\n",
      "running reward: 3.84 at episode 19818, frame count 2700000\n",
      "running reward: 5.45 at episode 19862, frame count 2710000\n",
      "running reward: 5.84 at episode 19916, frame count 2720000\n",
      "running reward: 5.30 at episode 19966, frame count 2730000\n",
      "running reward: 5.70 at episode 20013, frame count 2740000\n",
      "running reward: 5.61 at episode 20061, frame count 2750000\n",
      "running reward: 5.90 at episode 20111, frame count 2760000\n",
      "running reward: 6.61 at episode 20153, frame count 2770000\n",
      "running reward: 6.63 at episode 20197, frame count 2780000\n",
      "running reward: 6.80 at episode 20237, frame count 2790000\n",
      "running reward: 6.92 at episode 20280, frame count 2800000\n",
      "running reward: 6.76 at episode 20323, frame count 2810000\n"
     ]
    },
    {
     "name": "stdout",
     "output_type": "stream",
     "text": [
      "running reward: 6.96 at episode 20361, frame count 2820000\n",
      "running reward: 7.52 at episode 20400, frame count 2830000\n",
      "running reward: 7.41 at episode 20441, frame count 2840000\n",
      "running reward: 7.24 at episode 20480, frame count 2850000\n",
      "running reward: 7.25 at episode 20520, frame count 2860000\n",
      "running reward: 7.45 at episode 20561, frame count 2870000\n",
      "running reward: 8.04 at episode 20598, frame count 2880000\n",
      "running reward: 6.70 at episode 20650, frame count 2890000\n",
      "running reward: 5.89 at episode 20697, frame count 2900000\n",
      "running reward: 6.55 at episode 20737, frame count 2910000\n",
      "running reward: 6.94 at episode 20779, frame count 2920000\n",
      "running reward: 5.23 at episode 20838, frame count 2930000\n",
      "running reward: 5.23 at episode 20883, frame count 2940000\n",
      "running reward: 6.31 at episode 20925, frame count 2950000\n",
      "running reward: 6.47 at episode 20966, frame count 2960000\n",
      "running reward: 7.05 at episode 21007, frame count 2970000\n",
      "running reward: 6.80 at episode 21053, frame count 2980000\n",
      "running reward: 6.65 at episode 21095, frame count 2990000\n",
      "running reward: 6.37 at episode 21145, frame count 3000000\n",
      "running reward: 5.36 at episode 21195, frame count 3010000\n",
      "running reward: 5.91 at episode 21241, frame count 3020000\n",
      "running reward: 6.31 at episode 21283, frame count 3030000\n",
      "running reward: 5.96 at episode 21332, frame count 3040000\n",
      "running reward: 5.64 at episode 21383, frame count 3050000\n",
      "running reward: 6.27 at episode 21425, frame count 3060000\n",
      "running reward: 6.34 at episode 21475, frame count 3070000\n",
      "running reward: 6.38 at episode 21516, frame count 3080000\n",
      "running reward: 7.29 at episode 21556, frame count 3090000\n",
      "running reward: 7.73 at episode 21597, frame count 3100000\n",
      "running reward: 7.27 at episode 21638, frame count 3110000\n",
      "running reward: 7.47 at episode 21676, frame count 3120000\n",
      "running reward: 8.01 at episode 21713, frame count 3130000\n",
      "running reward: 7.86 at episode 21751, frame count 3140000\n",
      "running reward: 7.14 at episode 21795, frame count 3150000\n",
      "running reward: 7.63 at episode 21833, frame count 3160000\n",
      "running reward: 7.38 at episode 21877, frame count 3170000\n",
      "running reward: 7.03 at episode 21920, frame count 3180000\n",
      "running reward: 6.74 at episode 21963, frame count 3190000\n",
      "running reward: 6.36 at episode 22011, frame count 3200000\n",
      "running reward: 6.44 at episode 22055, frame count 3210000\n",
      "running reward: 6.86 at episode 22095, frame count 3220000\n",
      "running reward: 7.22 at episode 22135, frame count 3230000\n",
      "running reward: 6.61 at episode 22184, frame count 3240000\n",
      "running reward: 6.71 at episode 22226, frame count 3250000\n",
      "running reward: 6.56 at episode 22271, frame count 3260000\n",
      "running reward: 7.11 at episode 22308, frame count 3270000\n",
      "running reward: 6.56 at episode 22356, frame count 3280000\n",
      "running reward: 6.36 at episode 22398, frame count 3290000\n",
      "running reward: 6.31 at episode 22441, frame count 3300000\n",
      "running reward: 6.77 at episode 22485, frame count 3310000\n",
      "running reward: 6.73 at episode 22531, frame count 3320000\n",
      "running reward: 6.55 at episode 22570, frame count 3330000\n",
      "running reward: 6.56 at episode 22617, frame count 3340000\n",
      "running reward: 6.43 at episode 22659, frame count 3350000\n",
      "running reward: 6.57 at episode 22701, frame count 3360000\n",
      "running reward: 6.69 at episode 22743, frame count 3370000\n",
      "running reward: 6.58 at episode 22789, frame count 3380000\n",
      "running reward: 6.62 at episode 22830, frame count 3390000\n",
      "running reward: 6.59 at episode 22877, frame count 3400000\n",
      "running reward: 4.68 at episode 22940, frame count 3410000\n",
      "running reward: 5.75 at episode 22981, frame count 3420000\n",
      "running reward: 6.45 at episode 23024, frame count 3430000\n",
      "running reward: 6.72 at episode 23060, frame count 3440000\n",
      "running reward: 6.90 at episode 23104, frame count 3450000\n",
      "running reward: 6.47 at episode 23146, frame count 3460000\n",
      "running reward: 5.70 at episode 23198, frame count 3470000\n",
      "running reward: 5.51 at episode 23246, frame count 3480000\n",
      "running reward: 5.75 at episode 23298, frame count 3490000\n",
      "running reward: 6.33 at episode 23335, frame count 3500000\n",
      "running reward: 6.64 at episode 23376, frame count 3510000\n",
      "running reward: 7.37 at episode 23418, frame count 3520000\n",
      "running reward: 7.17 at episode 23460, frame count 3530000\n",
      "running reward: 6.81 at episode 23502, frame count 3540000\n",
      "running reward: 6.95 at episode 23542, frame count 3550000\n",
      "running reward: 6.34 at episode 23591, frame count 3560000\n",
      "running reward: 6.02 at episode 23637, frame count 3570000\n",
      "running reward: 6.60 at episode 23677, frame count 3580000\n",
      "running reward: 6.90 at episode 23719, frame count 3590000\n",
      "running reward: 6.84 at episode 23762, frame count 3600000\n",
      "running reward: 6.23 at episode 23810, frame count 3610000\n",
      "running reward: 5.94 at episode 23860, frame count 3620000\n",
      "running reward: 6.18 at episode 23901, frame count 3630000\n",
      "running reward: 6.83 at episode 23941, frame count 3640000\n",
      "running reward: 6.71 at episode 23985, frame count 3650000\n",
      "running reward: 6.83 at episode 24026, frame count 3660000\n",
      "running reward: 6.48 at episode 24070, frame count 3670000\n",
      "running reward: 7.18 at episode 24107, frame count 3680000\n",
      "running reward: 7.67 at episode 24143, frame count 3690000\n",
      "running reward: 7.64 at episode 24189, frame count 3700000\n",
      "running reward: 7.16 at episode 24233, frame count 3710000\n",
      "running reward: 7.27 at episode 24270, frame count 3720000\n",
      "running reward: 7.47 at episode 24315, frame count 3730000\n",
      "running reward: 6.66 at episode 24363, frame count 3740000\n",
      "running reward: 6.96 at episode 24401, frame count 3750000\n",
      "running reward: 6.67 at episode 24451, frame count 3760000\n",
      "running reward: 7.31 at episode 24486, frame count 3770000\n",
      "running reward: 7.49 at episode 24526, frame count 3780000\n",
      "running reward: 6.88 at episode 24570, frame count 3790000\n"
     ]
    },
    {
     "ename": "KeyboardInterrupt",
     "evalue": "",
     "output_type": "error",
     "traceback": [
      "\u001b[0;31m---------------------------------------------------------------------------\u001b[0m",
      "\u001b[0;31mKeyboardInterrupt\u001b[0m                         Traceback (most recent call last)",
      "\u001b[0;32m<ipython-input-33-2d5936c6f6dc>\u001b[0m in \u001b[0;36m<module>\u001b[0;34m\u001b[0m\n\u001b[1;32m    113\u001b[0m         \u001b[0;32mif\u001b[0m \u001b[0mlen\u001b[0m\u001b[0;34m(\u001b[0m\u001b[0mrewards_history\u001b[0m\u001b[0;34m)\u001b[0m \u001b[0;34m>\u001b[0m \u001b[0mmax_memory_length\u001b[0m\u001b[0;34m:\u001b[0m\u001b[0;34m\u001b[0m\u001b[0;34m\u001b[0m\u001b[0m\n\u001b[1;32m    114\u001b[0m             \u001b[0;32mdel\u001b[0m \u001b[0mrewards_history\u001b[0m\u001b[0;34m[\u001b[0m\u001b[0;34m:\u001b[0m\u001b[0;36m1\u001b[0m\u001b[0;34m]\u001b[0m\u001b[0;34m\u001b[0m\u001b[0;34m\u001b[0m\u001b[0m\n\u001b[0;32m--> 115\u001b[0;31m             \u001b[0;32mdel\u001b[0m \u001b[0mstate_history\u001b[0m\u001b[0;34m[\u001b[0m\u001b[0;34m:\u001b[0m\u001b[0;36m1\u001b[0m\u001b[0;34m]\u001b[0m\u001b[0;34m\u001b[0m\u001b[0;34m\u001b[0m\u001b[0m\n\u001b[0m\u001b[1;32m    116\u001b[0m             \u001b[0;32mdel\u001b[0m \u001b[0mstate_next_history\u001b[0m\u001b[0;34m[\u001b[0m\u001b[0;34m:\u001b[0m\u001b[0;36m1\u001b[0m\u001b[0;34m]\u001b[0m\u001b[0;34m\u001b[0m\u001b[0;34m\u001b[0m\u001b[0m\n\u001b[1;32m    117\u001b[0m             \u001b[0;32mdel\u001b[0m \u001b[0maction_history\u001b[0m\u001b[0;34m[\u001b[0m\u001b[0;34m:\u001b[0m\u001b[0;36m1\u001b[0m\u001b[0;34m]\u001b[0m\u001b[0;34m\u001b[0m\u001b[0;34m\u001b[0m\u001b[0m\n",
      "\u001b[0;31mKeyboardInterrupt\u001b[0m: "
     ]
    }
   ],
   "source": [
    "action_history = []\n",
    "state_history = []\n",
    "state_next_history = []\n",
    "rewards_history = []\n",
    "done_history = []\n",
    "episode_reward_history = []\n",
    "running_reward = 0\n",
    "episode_count = 0\n",
    "frame_count = 0\n",
    "\n",
    "# Number of frames to take random action and observe output\n",
    "epsilon_random_frames = 50000\n",
    "# Number of frames for exploration\n",
    "epsilon_greedy_frames = 1000000.0\n",
    "# Maximum replay length\n",
    "# Note: The Deepmind paper suggests 1000000 however this causes memory issues\n",
    "max_memory_length = 100000\n",
    "# Train the model after 4 actions\n",
    "update_after_actions = 4\n",
    "# How often to update the target network\n",
    "update_target_network = 10000\n",
    "\n",
    "while True:\n",
    "    state = torch.FloatTensor(env.reset())\n",
    "    state = torch.unsqueeze(state, 0).permute(0,3,1,2)\n",
    "    episode_reward = 0\n",
    "\n",
    "    for timestep in range(1, max_steps_per_episode):\n",
    "        # env.render(); Adding this line would show the attempts\n",
    "        # of the agent in a pop up window.\n",
    "        frame_count += 1\n",
    "        \n",
    "        # Use epsilon-greedy for exploration\n",
    "        if frame_count < epsilon_random_frames or epsilon > np.random.rand(1)[0]:\n",
    "            # Take random action\n",
    "            action = np.random.choice(num_actions)\n",
    "        else:\n",
    "            state = state.to(device)\n",
    "            action_probs = model(state)\n",
    "            action = action_probs.data.max(1)[1]\n",
    "        \n",
    "        # Decay probability of taking random action\n",
    "        epsilon -= epsilon_interval / epsilon_greedy_frames\n",
    "        epsilon = max(epsilon, epsilon_min)\n",
    "\n",
    "        # Apply the sampled action in our environment\n",
    "        state_next, reward, done, _ = env.step(action)\n",
    "        state_next = torch.FloatTensor(state_next)\n",
    "        state_next = torch.unsqueeze(state_next, 0).permute(0,3,1,2)\n",
    "        \n",
    "        episode_reward += reward\n",
    "\n",
    "        # Save actions and states in replay buffer\n",
    "        action_history.append(action)\n",
    "        state_history.append(state.detach().cpu())\n",
    "        state_next_history.append(state_next)\n",
    "        done_history.append(done)\n",
    "        rewards_history.append(reward)\n",
    "        state = state_next\n",
    "        \n",
    "        # Update every fourth frame and once batch size is over 32\n",
    "        if frame_count % update_after_actions == 0 and len(done_history) > batch_size:\n",
    "\n",
    "            # Get indices of samples for replay buffers\n",
    "            indices = np.random.choice(range(len(done_history)), size=batch_size)\n",
    "\n",
    "            # Using list comprehension to sample from replay buffer\n",
    "            state_sample = torch.cat([state_history[i] for i in indices])\n",
    "            state_next_sample = torch.cat([state_next_history[i] for i in indices])\n",
    "            rewards_sample = [rewards_history[i] for i in indices]\n",
    "            action_sample = [action_history[i] for i in indices]\n",
    "            done_sample = torch.FloatTensor(\n",
    "                [float(done_history[i]) for i in indices]\n",
    "            )\n",
    "            \n",
    "            # Build the updated Q-values for the sampled future states\n",
    "            # Use the target model for stability\n",
    "            state_next_sample = torch.FloatTensor(state_next_sample).to(device)\n",
    "            future_rewards = model_target(state_next_sample)\n",
    "            # Q value = reward + discount factor * expected future reward\n",
    "            values, _ = torch.max(future_rewards, 1)\n",
    "            updated_q_values = rewards_sample + gamma * values.detach().cpu().numpy()\n",
    "\n",
    "            # If final frame set the last value to -1\n",
    "            updated_q_values = torch.tensor(updated_q_values) * (1 - done_sample) - done_sample\n",
    "            updated_q_values = updated_q_values.to(device)\n",
    "\n",
    "            # Create a mask so we only calculate loss on the updated Q-values\n",
    "            masks = nn.functional.one_hot(torch.tensor(action_sample).to(device), num_actions)\n",
    "\n",
    "            optimizer.zero_grad()\n",
    "            \n",
    "            # Train the model on the states and updated Q-values\n",
    "            state_sample = torch.FloatTensor(state_sample).to(device)\n",
    "            q_values = model(state_sample)\n",
    "            # Apply the masks to the Q-values to get the Q-value for action taken\n",
    "            q_action = torch.sum(torch.multiply(q_values, masks), 1, dtype=torch.float64)\n",
    "            loss = F.smooth_l1_loss(updated_q_values, q_action)\n",
    "            \n",
    "            loss.backward()\n",
    "            torch.nn.utils.clip_grad_norm_(model.parameters(), 1.0)\n",
    "            optimizer.step()\n",
    "\n",
    "\n",
    "        if frame_count % update_target_network == 0:\n",
    "            # update the the target network with new weights\n",
    "            model_target.load_state_dict(model.state_dict())\n",
    "            # Log details\n",
    "            template = \"running reward: {:.2f} at episode {}, frame count {}\"\n",
    "            print(template.format(running_reward, episode_count, frame_count))\n",
    "\n",
    "        # Limit the state and reward history\n",
    "        if len(rewards_history) > max_memory_length:\n",
    "            del rewards_history[:1]\n",
    "            del state_history[:1]\n",
    "            del state_next_history[:1]\n",
    "            del action_history[:1]\n",
    "            del done_history[:1]\n",
    "\n",
    "        if done:\n",
    "            break\n",
    "    \n",
    "    # Update running reward to check condition for solving\n",
    "    episode_reward_history.append(episode_reward)\n",
    "    if len(episode_reward_history) > 100:\n",
    "        del episode_reward_history[:1]\n",
    "    running_reward = np.mean(episode_reward_history)\n",
    "\n",
    "    episode_count += 1\n",
    "\n",
    "    if running_reward > 40:  # Condition to consider the task solved\n",
    "        print(\"Solved at episode {}!\".format(episode_count))\n",
    "        break"
   ]
  },
  {
   "cell_type": "markdown",
   "id": "micro-madonna",
   "metadata": {},
   "source": [
    "----"
   ]
  },
  {
   "cell_type": "markdown",
   "id": "fourth-proposal",
   "metadata": {},
   "source": [
    "## Visualization"
   ]
  },
  {
   "cell_type": "code",
   "execution_count": 34,
   "id": "material-milwaukee",
   "metadata": {
    "ExecuteTime": {
     "end_time": "2021-04-12T21:16:28.231510Z",
     "start_time": "2021-04-12T21:16:24.634286Z"
    }
   },
   "outputs": [],
   "source": [
    "# Render an episode and save as a GIF file\n",
    "\n",
    "from IPython import display as ipythondisplay\n",
    "from PIL import Image\n",
    "from pyvirtualdisplay import Display\n",
    "\n",
    "\n",
    "display = Display(visible=0, size=(400, 300))\n",
    "display.start()\n",
    "\n",
    "\n",
    "def render_episode(env, model, max_steps): \n",
    "    screen = env.render(mode='rgb_array')\n",
    "    im = Image.fromarray(screen)\n",
    "\n",
    "    images = [im]\n",
    "  \n",
    "    state = env.reset()\n",
    "    for i in range(1, max_steps + 1):\n",
    "        state = torch.FloatTensor(state).to(device)\n",
    "        state = torch.unsqueeze(state, 0).permute(0,3,1,2)\n",
    "        action_probs = model(state)\n",
    "        action = action_probs.data.max(1)[1]\n",
    "\n",
    "        state, _, done, _ = env.step(action.item())\n",
    "\n",
    "        # Render screen every 10 steps\n",
    "        if i % 10 == 0:\n",
    "            screen = env.render(mode='rgb_array')\n",
    "            images.append(Image.fromarray(screen))\n",
    "  \n",
    "        if done:\n",
    "            break\n",
    "  \n",
    "    return images\n",
    "\n",
    "\n",
    "# Save GIF image\n",
    "images = render_episode(env, model, max_steps_per_episode)\n",
    "image_file = 'BreakoutNoFrameskip-v4.gif'\n",
    "# loop=0: loop forever, duration=1: play each frame for 1ms\n",
    "images[0].save(\n",
    "    image_file, save_all=True, append_images=images[1:], loop=0, duration=1)"
   ]
  },
  {
   "cell_type": "markdown",
   "id": "adapted-citizenship",
   "metadata": {},
   "source": [
    "- Before any training: \n",
    "\n",
    "<img src='../img/breakout01.gif' width='300'>\n",
    "\n",
    "- n early stages of training: \n",
    "\n",
    "<img src='../img/breakout02.gif' width='300'>\n",
    "\n",
    "- In later stages of training:\n",
    "\n",
    "<img src='../img/breakout03.gif' width='300'>"
   ]
  },
  {
   "cell_type": "markdown",
   "id": "mounted-ideal",
   "metadata": {},
   "source": [
    "------"
   ]
  }
 ],
 "metadata": {
  "hide_input": false,
  "kernelspec": {
   "display_name": "Python 3",
   "language": "python",
   "name": "python3"
  },
  "language_info": {
   "codemirror_mode": {
    "name": "ipython",
    "version": 3
   },
   "file_extension": ".py",
   "mimetype": "text/x-python",
   "name": "python",
   "nbconvert_exporter": "python",
   "pygments_lexer": "ipython3",
   "version": "3.6.9"
  },
  "toc": {
   "base_numbering": 1,
   "nav_menu": {},
   "number_sections": true,
   "sideBar": true,
   "skip_h1_title": false,
   "title_cell": "Table of Contents",
   "title_sidebar": "Contents",
   "toc_cell": false,
   "toc_position": {},
   "toc_section_display": true,
   "toc_window_display": false
  },
  "varInspector": {
   "cols": {
    "lenName": 16,
    "lenType": 16,
    "lenVar": 40
   },
   "kernels_config": {
    "python": {
     "delete_cmd_postfix": "",
     "delete_cmd_prefix": "del ",
     "library": "var_list.py",
     "varRefreshCmd": "print(var_dic_list())"
    },
    "r": {
     "delete_cmd_postfix": ") ",
     "delete_cmd_prefix": "rm(",
     "library": "var_list.r",
     "varRefreshCmd": "cat(var_dic_list()) "
    }
   },
   "types_to_exclude": [
    "module",
    "function",
    "builtin_function_or_method",
    "instance",
    "_Feature"
   ],
   "window_display": false
  }
 },
 "nbformat": 4,
 "nbformat_minor": 5
}
