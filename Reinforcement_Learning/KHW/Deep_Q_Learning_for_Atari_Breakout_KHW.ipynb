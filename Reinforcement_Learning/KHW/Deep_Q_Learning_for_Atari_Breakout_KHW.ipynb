{
 "cells": [
  {
   "cell_type": "markdown",
   "id": "minimal-recipe",
   "metadata": {},
   "source": [
    "# Deep Q-Learning for Atari Breakout"
   ]
  },
  {
   "cell_type": "markdown",
   "id": "dirty-roommate",
   "metadata": {},
   "source": [
    "## Reinforcement Learning"
   ]
  },
  {
   "cell_type": "markdown",
   "id": "outdoor-airline",
   "metadata": {},
   "source": [
    "<img src='../img/RL01.png' width='600'>"
   ]
  },
  {
   "cell_type": "markdown",
   "id": "entertaining-powell",
   "metadata": {},
   "source": [
    "- policy : $\\pi(a|s)=P(a|s), \\forall s, \\forall a$\n",
    "\n",
    "- value function : $v_{\\pi}(s)=\\sum P(z)R(z)=\\sum_{a\\in\\mathbb{A}(s)}P(a|s)(r+v_{\\pi}(s')), \\forall s \\in \\mathbb{S}$\n",
    "\n",
    "- reward : $R(z)=r_{t+1}+\\gamma r_{t+2} + \\gamma^2r_{t+3}+\\cdots=\\sum_{k=1}^{\\infty}\\gamma^{k-1}r_{t+k}$\n",
    "\n",
    "- Q-Value : $Q_{\\pi}(s,a)=E_{\\pi}[R_{t+1}+\\gamma R_{t+2}+\\gamma^2R_{t+3}+\\cdots|S_t=s,A_t=a]$"
   ]
  },
  {
   "cell_type": "markdown",
   "id": "eleven-presentation",
   "metadata": {},
   "source": [
    "### Deep Q-Learning"
   ]
  },
  {
   "cell_type": "markdown",
   "id": "bacterial-picnic",
   "metadata": {},
   "source": [
    "Agent가 action을 수행하고 envrionment을 이동하면서 관찰된 상태를 action에 매핑.\n",
    "\n",
    "Agent는 예상되는 가장 높은 장기 reward을 기반으로 가중치가 부여된 reward 인 \"Q- 값\"을 기반으로 주어진 상태에서 action을 선택.\n",
    "\n",
    "Q-Learning Agent는 recommended action이 잠재적인 미래 reward를 극대화하도록 action을 수행하는 방법을 학습. \n",
    "\n",
    "이 방법은 \"Off-Policy\"방법으로 간주. \n",
    "\n",
    "즉, 최상의 작업이 선택되지 않은 경우에도 최상의 작업이 선택되었다고 가정하여 해당 Q 값이 업데이트"
   ]
  },
  {
   "cell_type": "markdown",
   "id": "medical-central",
   "metadata": {},
   "source": [
    "<img src='../img/dqn02.png' width='600'>"
   ]
  },
  {
   "cell_type": "markdown",
   "id": "assured-confusion",
   "metadata": {},
   "source": [
    "### Epsilon-Greedy Algorithm"
   ]
  },
  {
   "cell_type": "markdown",
   "id": "competent-crash",
   "metadata": {},
   "source": [
    "- Greedy Algorithm은 미래를 생각하지 않고 각 단계에서 가장 최선의 선택을 하는 기법으로 각 단계에서 최선의 선택을 하는 것이 전체적으로도 최선이길 바라는 알고리즘\n",
    "\n",
    "- Epsilon-Greedy Algorithm은 이를 개선시킨 전략, 일정한 확률로 랜덤으로 Action을 취하는 것. \n",
    "\n",
    "- Epsilon이라는 HyperParameter는 0~1 사이의 변수\n",
    "\n",
    "- 만약 0에서 1 사이의 임의의 숫자를 얻었을 때, 𝜖 값보다 작다면, 임의의 행동을 선택\n",
    "\n",
    "- 그리고 𝜖 값보다 크다면, 뉴럴 네트워크의 출력값에 근거해서 행동을 선택 \n",
    "\n",
    "- 이 𝜖 값은 학습 초반에 크고 학습이 이루어 질수록 0에 가까운 값으로 작아진다. \n",
    "\n",
    "- 이렇게 해서, 학습의 초반에 더 많은 가능성들을 탐색하고, 학습의 후반에 뉴럴 네트워크가 좋은 정답을 출력할 수 있도록 한다."
   ]
  },
  {
   "cell_type": "markdown",
   "id": "amazing-priority",
   "metadata": {},
   "source": [
    "### Atari Breakout"
   ]
  },
  {
   "cell_type": "markdown",
   "id": "threaded-restaurant",
   "metadata": {},
   "source": [
    "보드는 화면 하단을 따라 이동하여 화면 상단의 블록을 파괴 할 공을 반환. \n",
    "\n",
    "게임의 목적은 레벨의 모든 블록과 브레이크 아웃을 제거하는 것입니다. \n",
    "\n",
    "Agent는 공이 보드를 통과하지 않고 좌우로 움직이고 공을 되돌리고 모든 블록을 제거하여 보드를 제어하는 방법을 학습해야한다."
   ]
  },
  {
   "cell_type": "markdown",
   "id": "surface-continuity",
   "metadata": {},
   "source": [
    "<img src='../img/breakout.jpeg' width='200'>"
   ]
  },
  {
   "cell_type": "markdown",
   "id": "legislative-relevance",
   "metadata": {},
   "source": [
    "### Note"
   ]
  },
  {
   "cell_type": "markdown",
   "id": "nutritional-start",
   "metadata": {},
   "source": [
    "Deepmind 문서는 \"총 5 천만 프레임 (즉, 총 38 일의 게임 경험)\"에 대해 훈련. \n",
    "\n",
    "그러나 이 스크립트는 최신 컴퓨터에서 24 시간 이내에 처리되는 약 1 천만 프레임에서 좋은 결과를 제공."
   ]
  },
  {
   "cell_type": "markdown",
   "id": "ongoing-gregory",
   "metadata": {},
   "source": [
    "## Setup"
   ]
  },
  {
   "cell_type": "code",
   "execution_count": null,
   "id": "prerequisite-breed",
   "metadata": {
    "ExecuteTime": {
     "end_time": "2021-03-21T01:12:20.787195Z",
     "start_time": "2021-03-21T01:12:11.680005Z"
    },
    "scrolled": true
   },
   "outputs": [],
   "source": [
    "!pip install gym\n",
    "!apt-get install python-opengl -y\n",
    "!apt install xvfb -y\n",
    "!pip install pyvirtualdisplay\n",
    "!pip install piglet\n",
    "!apt-get install git -y\n",
    "!git clone https://github.com/openai/baselines.git\n",
    "!pip install atari_py"
   ]
  },
  {
   "cell_type": "code",
   "execution_count": 1,
   "id": "advance-provider",
   "metadata": {
    "ExecuteTime": {
     "end_time": "2021-03-27T17:36:19.473544Z",
     "start_time": "2021-03-27T17:36:18.381832Z"
    }
   },
   "outputs": [],
   "source": [
    "import sys\n",
    "sys.path.append('/tf/dsba/keras2torch/Reinforcement_Learning/KHW/baselines')\n",
    "from baselines.common.atari_wrappers import make_atari, wrap_deepmind\n",
    "import numpy as np\n",
    "import pandas as pd\n",
    "import random\n",
    "import torch\n",
    "import torch.nn as nn\n",
    "import torch.nn.functional as F\n",
    "import torch.optim as optim\n",
    "import matplotlib.pyplot as plt\n",
    "\n",
    "%matplotlib inline"
   ]
  },
  {
   "cell_type": "code",
   "execution_count": 2,
   "id": "smooth-minimum",
   "metadata": {
    "ExecuteTime": {
     "end_time": "2021-03-27T17:36:21.107702Z",
     "start_time": "2021-03-27T17:36:21.068938Z"
    }
   },
   "outputs": [],
   "source": [
    "device = torch.device(\"cuda\" if torch.cuda.is_available() else \"cpu\")"
   ]
  },
  {
   "cell_type": "code",
   "execution_count": 3,
   "id": "necessary-treatment",
   "metadata": {
    "ExecuteTime": {
     "end_time": "2021-03-27T17:36:22.164573Z",
     "start_time": "2021-03-27T17:36:21.595283Z"
    }
   },
   "outputs": [
    {
     "name": "stdout",
     "output_type": "stream",
     "text": [
      "bash: ../xvfb: No such file or directory\n",
      "env: DISPLAY=:1\n"
     ]
    }
   ],
   "source": [
    "# 게임 이미지를 그리는 가상 디스플레이 생성\n",
    "# Colab이나 Jupyter 같은 환경에서만 필요. 로컬은 필요 없음\n",
    "import os\n",
    "if type(os.environ.get(\"DISPLAY\")) is not str or len(os.environ.get(\"DISPLAY\"))==0:\n",
    "    !bash ../xvfb start\n",
    "    %env DISPLAY=:1"
   ]
  },
  {
   "cell_type": "code",
   "execution_count": 4,
   "id": "british-brook",
   "metadata": {
    "ExecuteTime": {
     "end_time": "2021-03-27T17:36:23.770763Z",
     "start_time": "2021-03-27T17:36:23.452134Z"
    }
   },
   "outputs": [
    {
     "data": {
      "text/plain": [
       "[42, 742738649]"
      ]
     },
     "execution_count": 4,
     "metadata": {},
     "output_type": "execute_result"
    }
   ],
   "source": [
    "# Configuration paramaters for the whole setup\n",
    "seed = 42\n",
    "gamma = 0.99  # 감가율\n",
    "alpha = 0.00025\n",
    "epsilon = 1.0  # Epsilon greedy parameter\n",
    "epsilon_min = 0.1  # Minimum epsilon greedy parameter\n",
    "epsilon_max = 1.0  # Maximum epsilon greedy parameter\n",
    "epsilon_interval = (\n",
    "    epsilon_max - epsilon_min\n",
    ")  # Rate at which to reduce chance of random action being taken\n",
    "batch_size = 32  # Size of batch taken from replay buffer\n",
    "max_steps_per_episode = 10000\n",
    "\n",
    "# Use the Baseline Atari environment because of Deepmind helper functions\n",
    "env = make_atari(\"BreakoutNoFrameskip-v4\")\n",
    "# Warp the frames, grey scale, stake four frame and scale to smaller ratio\n",
    "env = wrap_deepmind(env, frame_stack=True, scale=True)\n",
    "env.seed(seed)"
   ]
  },
  {
   "cell_type": "markdown",
   "id": "hazardous-digit",
   "metadata": {},
   "source": [
    "## Deep Q-Learning 네트워크 구현"
   ]
  },
  {
   "cell_type": "markdown",
   "id": "forty-mouth",
   "metadata": {},
   "source": [
    "<img src='../img/dqn01.png' width='600'>"
   ]
  },
  {
   "cell_type": "code",
   "execution_count": 5,
   "id": "applied-wound",
   "metadata": {
    "ExecuteTime": {
     "end_time": "2021-03-27T17:36:28.040737Z",
     "start_time": "2021-03-27T17:36:28.030712Z"
    }
   },
   "outputs": [],
   "source": [
    "num_actions = 4 # action\n",
    "input_size = (84, 84, 4,) \n",
    "num_hidden = 128  # hidden layer node 수\n",
    "\n",
    "class DQN(nn.Module):\n",
    "    def __init__(self, input_size, num_actions, num_hidden, gamma=0.99):\n",
    "        super(DQN, self).__init__()\n",
    "        \n",
    "        self.num_actions = num_actions\n",
    "        self.dqn_layer = nn.Sequential(\n",
    "            nn.Conv2d(in_channels = 4,\n",
    "                      out_channels = 32,\n",
    "                      kernel_size = 8,\n",
    "                      stride = 4),\n",
    "            nn.ReLU(),\n",
    "            nn.Conv2d(in_channels = 32,\n",
    "                      out_channels = 64,\n",
    "                      kernel_size = 4,\n",
    "                      stride = 2),\n",
    "            nn.ReLU(),\n",
    "            nn.Conv2d(in_channels = 64,\n",
    "                     out_channels = 64,\n",
    "                     kernel_size = 3,\n",
    "                     stride = 1),\n",
    "            nn.ReLU(),\n",
    "            nn.Flatten(),\n",
    "            nn.Linear(7*7*64,512),\n",
    "            nn.Linear(512,self.num_actions)\n",
    "        )\n",
    "\n",
    "    def forward(self, input):\n",
    "        return self.dqn_layer(input)"
   ]
  },
  {
   "cell_type": "markdown",
   "id": "acquired-mouth",
   "metadata": {},
   "source": [
    "<img src='../img/dqn03.png' width='800'>"
   ]
  },
  {
   "cell_type": "code",
   "execution_count": 6,
   "id": "checked-requirement",
   "metadata": {
    "ExecuteTime": {
     "end_time": "2021-03-27T17:36:29.567440Z",
     "start_time": "2021-03-27T17:36:29.536748Z"
    }
   },
   "outputs": [],
   "source": [
    "model = DQN(input_size, num_actions, num_hidden, gamma)\n",
    "model_target = DQN(input_size, num_actions, num_hidden, gamma)\n",
    "model_target.load_state_dict(model.state_dict())\n",
    "model_target.eval()\n",
    "\n",
    "optimizer = optim.Adam(model.parameters(), lr=alpha)"
   ]
  },
  {
   "cell_type": "markdown",
   "id": "hispanic-certificate",
   "metadata": {},
   "source": [
    "- Q function\n",
    "\n",
    "$$Q^\\pi(s,a)=E_{\\pi}\\{R_t|s_t=s, a_t=a\\}=E_{\\pi}\\{\\sum^T_{t'=t}\\gamma^{t'-t}r_{t'}|s_t=s, a_t=a\\}$$\n",
    "\n",
    "- Optimal Q function\n",
    "\n",
    "$$Q^*(s,a)=\\underset{\\pi}{\\mathrm{max}}E\\{R_t|s_t=s,a_t=a\\}$$\n",
    "\n",
    "- Optimal Q function (using Bellman equation)\n",
    "\n",
    "$$Q^*(s,a)=E_{s'~\\epsilon}[r+\\gamma\\underset{a'}{\\mathrm{max}}Q^*(s',a')|s,a]$$"
   ]
  },
  {
   "cell_type": "markdown",
   "id": "egyptian-thong",
   "metadata": {},
   "source": [
    "이 DQN의 가장 큰 contribution은 두 가지 아이디어로 Q-learning 알고리즘을 개선해서 neural network predictor 적용에 성공한 것. \n",
    "\n",
    "1. experience replay\n",
    "    - 인접한 학습 데이터 사이의 correlation으로 인한 비효율성을 극복하기 위한 기법 \n",
    "    - 게임을 하는 agent의 경험 데이터$(s,a,r,s')$를 replay memory라는 이름의 buffer pool에 매 순간 저장\n",
    "    - update 할 때는 replay memory에서 random하게 minibatch 크기의 sample을 뽑아 계산하는 것\n",
    "\n",
    "\n",
    "2. target network\n",
    "    - DQN과 똑같은 neural network을 하나 더 만들어, 그 weight 값이 가끔씩만 update 되도록 한 것\n",
    "    - $Q(s,a)$를 학습하는 순간, target 값도 따라 변하면서 학습 성능이 떨어지는 문제를 개선하기 위해서\n",
    "    - Target network의 weight 값들은 주기적으로 DQN의 값을 복사. \n",
    "    - Q-learning의 update에서 아래 식과 같은 loss function을 사용하는데, 먼저 나오는 Q는 target network에서 계산한 것이고 뒤의 Q는 원래의 DQN에서 계산한 것\n",
    "    \n",
    "$$L_i(\\theta_i)=E_{(s,a,r,s')~U(D)}[(r+\\gamma\\underset{a'}{\\mathrm{max}}Q(s',a';\\theta^{-}_i)-Q(s,a;\\theta_i))^2]$$"
   ]
  },
  {
   "cell_type": "markdown",
   "id": "processed-broadcast",
   "metadata": {
    "ExecuteTime": {
     "end_time": "2021-03-21T00:54:38.508265Z",
     "start_time": "2021-03-21T00:54:38.499869Z"
    }
   },
   "source": [
    "Huber loss\n",
    "\n",
    "일정한 범위(\n",
    "δ)를 정해서 그 안에 있으면 오차를 제곱하고, 그 밖에 있으면 오차의 절대값을 구하는 것\n",
    "\n",
    "$$L_{\\delta}(e)=\\left\\{\\begin{matrix}\n",
    " \\frac{1}{2}e^2&\\textrm{for}\\left |  e\\right | \\leq \\delta\\\\ \n",
    "\\delta(\\left | e \\right |- \\frac{1}{2}\\delta), & \\mathrm{otherwise}\n",
    "\\end{matrix}\\right.$$"
   ]
  },
  {
   "cell_type": "code",
   "execution_count": null,
   "id": "special-yellow",
   "metadata": {
    "ExecuteTime": {
     "start_time": "2021-03-28T05:55:14.200Z"
    }
   },
   "outputs": [
    {
     "name": "stdout",
     "output_type": "stream",
     "text": [
      "running reward: 0.35 at episode 267, frame count 10000\n",
      "running reward: 0.30 at episode 569, frame count 20000\n",
      "running reward: 0.32 at episode 883, frame count 30000\n",
      "running reward: 0.24 at episode 1179, frame count 40000\n",
      "running reward: 0.30 at episode 1485, frame count 50000\n",
      "running reward: 0.25 at episode 1774, frame count 60000\n",
      "running reward: 0.44 at episode 2044, frame count 70000\n",
      "running reward: 0.34 at episode 2323, frame count 80000\n",
      "running reward: 0.43 at episode 2581, frame count 90000\n",
      "running reward: 0.40 at episode 2850, frame count 100000\n",
      "running reward: 0.57 at episode 3066, frame count 110000\n",
      "running reward: 0.53 at episode 3309, frame count 120000\n",
      "running reward: 0.42 at episode 3567, frame count 130000\n",
      "running reward: 0.38 at episode 3812, frame count 140000\n",
      "running reward: 0.66 at episode 4039, frame count 150000\n",
      "running reward: 0.38 at episode 4274, frame count 160000\n",
      "running reward: 0.49 at episode 4509, frame count 170000\n",
      "running reward: 0.67 at episode 4726, frame count 180000\n",
      "running reward: 0.52 at episode 4954, frame count 190000\n",
      "running reward: 0.74 at episode 5162, frame count 200000\n",
      "running reward: 0.48 at episode 5387, frame count 210000\n",
      "running reward: 0.56 at episode 5604, frame count 220000\n",
      "running reward: 0.57 at episode 5813, frame count 230000\n",
      "running reward: 0.57 at episode 6033, frame count 240000\n",
      "running reward: 0.60 at episode 6242, frame count 250000\n",
      "running reward: 0.60 at episode 6474, frame count 260000\n",
      "running reward: 0.57 at episode 6700, frame count 270000\n",
      "running reward: 0.73 at episode 6893, frame count 280000\n",
      "running reward: 0.65 at episode 7101, frame count 290000\n",
      "running reward: 0.63 at episode 7292, frame count 300000\n",
      "running reward: 0.62 at episode 7503, frame count 310000\n",
      "running reward: 0.76 at episode 7697, frame count 320000\n",
      "running reward: 0.68 at episode 7895, frame count 330000\n",
      "running reward: 0.82 at episode 8085, frame count 340000\n",
      "running reward: 0.82 at episode 8272, frame count 350000\n",
      "running reward: 0.97 at episode 8433, frame count 360000\n",
      "running reward: 0.74 at episode 8635, frame count 370000\n",
      "running reward: 0.79 at episode 8812, frame count 380000\n",
      "running reward: 0.88 at episode 8974, frame count 390000\n",
      "running reward: 0.71 at episode 9152, frame count 400000\n",
      "running reward: 0.85 at episode 9319, frame count 410000\n",
      "running reward: 1.18 at episode 9475, frame count 420000\n",
      "running reward: 1.04 at episode 9638, frame count 430000\n",
      "running reward: 1.19 at episode 9786, frame count 440000\n",
      "running reward: 0.98 at episode 9948, frame count 450000\n",
      "running reward: 1.35 at episode 10075, frame count 460000\n",
      "running reward: 0.99 at episode 10229, frame count 470000\n",
      "running reward: 1.13 at episode 10383, frame count 480000\n",
      "running reward: 1.30 at episode 10524, frame count 490000\n",
      "running reward: 1.34 at episode 10660, frame count 500000\n"
     ]
    }
   ],
   "source": [
    "action_history = []\n",
    "state_history = []\n",
    "state_next_history = []\n",
    "rewards_history = []\n",
    "done_history = []\n",
    "episode_reward_history = []\n",
    "running_reward = 0\n",
    "episode_count = 0\n",
    "frame_count = 0\n",
    "\n",
    "# Number of frames to take random action and observe output\n",
    "epsilon_random_frames = 50000\n",
    "# Number of frames for exploration\n",
    "epsilon_greedy_frames = 1000000.0\n",
    "# Maximum replay length\n",
    "# Note: The Deepmind paper suggests 1000000 however this causes memory issues\n",
    "max_memory_length = 100000\n",
    "# Train the model after 4 actions\n",
    "update_after_actions = 4\n",
    "# How often to update the target network\n",
    "update_target_network = 10000\n",
    "\n",
    "while True:\n",
    "    state = torch.FloatTensor(env.reset())\n",
    "    state = torch.unsqueeze(state, 0).permute(0,3,1,2)\n",
    "    episode_reward = 0\n",
    "\n",
    "    for timestep in range(1, max_steps_per_episode):\n",
    "        # env.render(); Adding this line would show the attempts\n",
    "        # of the agent in a pop up window.\n",
    "        frame_count += 1\n",
    "        \n",
    "        # Use epsilon-greedy for exploration\n",
    "        if frame_count < epsilon_random_frames or epsilon > np.random.rand(1)[0]:\n",
    "            # Take random action\n",
    "            action = np.random.choice(num_actions)\n",
    "        else:\n",
    "            action_probs = model(state)\n",
    "            action = action_probs.data.max(1)[1]\n",
    "        \n",
    "        # Decay probability of taking random action\n",
    "        epsilon -= epsilon_interval / epsilon_greedy_frames\n",
    "        epsilon = max(epsilon, epsilon_min)\n",
    "\n",
    "        # Apply the sampled action in our environment\n",
    "        state_next, reward, done, _ = env.step(action)\n",
    "        state_next = torch.FloatTensor(state_next)\n",
    "        state_next = torch.unsqueeze(state_next, 0).permute(0,3,1,2)\n",
    "        \n",
    "        episode_reward += reward\n",
    "\n",
    "        # Save actions and states in replay buffer\n",
    "        action_history.append(action)\n",
    "        state_history.append(state)\n",
    "        state_next_history.append(state_next)\n",
    "        done_history.append(done)\n",
    "        rewards_history.append(reward)\n",
    "        state = state_next\n",
    "        \n",
    "        # Update every fourth frame and once batch size is over 32\n",
    "        if frame_count % update_after_actions == 0 and len(done_history) > batch_size:\n",
    "\n",
    "            # Get indices of samples for replay buffers\n",
    "            indices = np.random.choice(range(len(done_history)), size=batch_size)\n",
    "\n",
    "            # Using list comprehension to sample from replay buffer\n",
    "            state_sample = torch.cat([state_history[i] for i in indices])\n",
    "            state_next_sample = torch.cat([state_next_history[i] for i in indices])\n",
    "            rewards_sample = [rewards_history[i] for i in indices]\n",
    "            action_sample = [action_history[i] for i in indices]\n",
    "            done_sample = torch.FloatTensor(\n",
    "                [float(done_history[i]) for i in indices]\n",
    "            )\n",
    "\n",
    "            # Build the updated Q-values for the sampled future states\n",
    "            # Use the target model for stability\n",
    "            state_next_sample = torch.FloatTensor(state_next_sample)\n",
    "            future_rewards = model_target(state_next_sample)\n",
    "            # Q value = reward + discount factor * expected future reward\n",
    "            values, _ = torch.max(future_rewards, 1)\n",
    "            updated_q_values = rewards_sample + gamma * values.detach().numpy()\n",
    "\n",
    "            # If final frame set the last value to -1\n",
    "            updated_q_values = torch.tensor(updated_q_values) * (1 - done_sample) - done_sample\n",
    "\n",
    "            # Create a mask so we only calculate loss on the updated Q-values\n",
    "            masks = nn.functional.one_hot(torch.tensor(action_sample), num_actions)\n",
    "\n",
    "            optimizer.zero_grad()\n",
    "            \n",
    "            # Train the model on the states and updated Q-values\n",
    "            state_sample = torch.FloatTensor(state_sample)\n",
    "            q_values = model(state_sample)\n",
    "            # Apply the masks to the Q-values to get the Q-value for action taken\n",
    "            q_action = torch.sum(torch.multiply(q_values, masks), 1, dtype=torch.float64)\n",
    "            loss = F.smooth_l1_loss(updated_q_values, q_action)\n",
    "            \n",
    "            loss.backward()\n",
    "            torch.nn.utils.clip_grad_norm_(model.parameters(), 1.0)\n",
    "            optimizer.step()\n",
    "\n",
    "\n",
    "        if frame_count % update_target_network == 0:\n",
    "            # update the the target network with new weights\n",
    "            model_target.load_state_dict(model.state_dict())\n",
    "            # Log details\n",
    "            template = \"running reward: {:.2f} at episode {}, frame count {}\"\n",
    "            print(template.format(running_reward, episode_count, frame_count))\n",
    "\n",
    "        # Limit the state and reward history\n",
    "        if len(rewards_history) > max_memory_length:\n",
    "            del rewards_history[:1]\n",
    "            del state_history[:1]\n",
    "            del state_next_history[:1]\n",
    "            del action_history[:1]\n",
    "            del done_history[:1]\n",
    "\n",
    "        if done:\n",
    "            break\n",
    "    \n",
    "    # Update running reward to check condition for solving\n",
    "    episode_reward_history.append(episode_reward)\n",
    "    if len(episode_reward_history) > 100:\n",
    "        del episode_reward_history[:1]\n",
    "    running_reward = np.mean(episode_reward_history)\n",
    "\n",
    "    episode_count += 1\n",
    "\n",
    "    if running_reward > 40:  # Condition to consider the task solved\n",
    "        print(\"Solved at episode {}!\".format(episode_count))\n",
    "        break"
   ]
  },
  {
   "cell_type": "markdown",
   "id": "micro-madonna",
   "metadata": {},
   "source": [
    "----"
   ]
  },
  {
   "cell_type": "markdown",
   "id": "fourth-proposal",
   "metadata": {},
   "source": [
    "## Visualization"
   ]
  },
  {
   "cell_type": "code",
   "execution_count": null,
   "id": "material-milwaukee",
   "metadata": {
    "ExecuteTime": {
     "end_time": "2021-03-21T19:27:28.896606Z",
     "start_time": "2021-03-21T19:27:28.543797Z"
    }
   },
   "outputs": [],
   "source": [
    "# Render an episode and save as a GIF file\n",
    "\n",
    "from IPython import display as ipythondisplay\n",
    "from PIL import Image\n",
    "from pyvirtualdisplay import Display\n",
    "\n",
    "\n",
    "display = Display(visible=0, size=(400, 300))\n",
    "display.start()\n",
    "\n",
    "\n",
    "def render_episode(env, model, max_steps): \n",
    "    screen = env.render(mode='rgb_array')\n",
    "    im = Image.fromarray(screen)\n",
    "\n",
    "    images = [im]\n",
    "  \n",
    "    state = env.reset()\n",
    "    for i in range(1, max_steps + 1):\n",
    "        state = torch.FloatTensor(state)\n",
    "        state = torch.unsqueeze(state, 0).permute(0,3,1,2)\n",
    "        action_probs = model(state)\n",
    "        action = action_probs.data.max(1)[1]\n",
    "\n",
    "        state, _, done, _ = env.step(action.item())\n",
    "\n",
    "        # Render screen every 10 steps\n",
    "        if i % 10 == 0:\n",
    "            screen = env.render(mode='rgb_array')\n",
    "            images.append(Image.fromarray(screen))\n",
    "  \n",
    "        if done:\n",
    "            break\n",
    "  \n",
    "    return images\n",
    "\n",
    "\n",
    "# Save GIF image\n",
    "images = render_episode(env, model, max_steps_per_episode)\n",
    "image_file = 'BreakoutNoFrameskip-v4.gif'\n",
    "# loop=0: loop forever, duration=1: play each frame for 1ms\n",
    "images[0].save(\n",
    "    image_file, save_all=True, append_images=images[1:], loop=0, duration=1)"
   ]
  },
  {
   "cell_type": "markdown",
   "id": "following-blackberry",
   "metadata": {},
   "source": [
    "- Before any training: \n",
    "\n",
    "<img src='../img/breakout01.gif' width='300'>\n",
    "\n",
    "- n early stages of training: \n",
    "\n",
    "<img src='../img/breakout02.gif' width='300'>\n",
    "\n",
    "- In later stages of training:\n",
    "\n",
    "<img src='../img/breakout03.gif' width='300'>"
   ]
  },
  {
   "cell_type": "markdown",
   "id": "mounted-ideal",
   "metadata": {},
   "source": [
    "------"
   ]
  }
 ],
 "metadata": {
  "hide_input": false,
  "kernelspec": {
   "display_name": "Python 3",
   "language": "python",
   "name": "python3"
  },
  "language_info": {
   "codemirror_mode": {
    "name": "ipython",
    "version": 3
   },
   "file_extension": ".py",
   "mimetype": "text/x-python",
   "name": "python",
   "nbconvert_exporter": "python",
   "pygments_lexer": "ipython3",
   "version": "3.6.9"
  },
  "toc": {
   "base_numbering": 1,
   "nav_menu": {},
   "number_sections": true,
   "sideBar": true,
   "skip_h1_title": false,
   "title_cell": "Table of Contents",
   "title_sidebar": "Contents",
   "toc_cell": false,
   "toc_position": {},
   "toc_section_display": true,
   "toc_window_display": false
  },
  "varInspector": {
   "cols": {
    "lenName": 16,
    "lenType": 16,
    "lenVar": 40
   },
   "kernels_config": {
    "python": {
     "delete_cmd_postfix": "",
     "delete_cmd_prefix": "del ",
     "library": "var_list.py",
     "varRefreshCmd": "print(var_dic_list())"
    },
    "r": {
     "delete_cmd_postfix": ") ",
     "delete_cmd_prefix": "rm(",
     "library": "var_list.r",
     "varRefreshCmd": "cat(var_dic_list()) "
    }
   },
   "types_to_exclude": [
    "module",
    "function",
    "builtin_function_or_method",
    "instance",
    "_Feature"
   ],
   "window_display": false
  }
 },
 "nbformat": 4,
 "nbformat_minor": 5
}
