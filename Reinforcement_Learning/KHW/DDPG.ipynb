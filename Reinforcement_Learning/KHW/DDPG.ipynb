{
 "cells": [
  {
   "cell_type": "markdown",
   "id": "dying-praise",
   "metadata": {},
   "source": [
    "# Deep Deterministic Policy Gradient (DDPG)"
   ]
  },
  {
   "cell_type": "markdown",
   "id": "helpful-glossary",
   "metadata": {},
   "source": [
    "## Introduction"
   ]
  },
  {
   "cell_type": "markdown",
   "id": "engaged-mason",
   "metadata": {},
   "source": [
    "Deep Deterministic Policy Gradient(DDPG)는 continuous actions 학습을 위한 model-free off-policy algorithm이다.\n",
    "\n",
    "DPG(Deteministic Policy Gradient)와 DQN(Deep Q-Network)의 아이디어를 합친 것.\n",
    "\n",
    "DPG를 기반으로 Replay buffer와 target Q network 사용하여 continuous action spaces에서 작동하도록 한다."
   ]
  },
  {
   "cell_type": "markdown",
   "id": "devoted-greensboro",
   "metadata": {},
   "source": [
    "<img src='../img/RL04.png' width='600'>"
   ]
  },
  {
   "cell_type": "markdown",
   "id": "seventh-calculation",
   "metadata": {},
   "source": [
    "### On-policy VS Off-policy\n",
    "\n",
    "<img src='../img/ddpg02.png' width='600'>"
   ]
  },
  {
   "cell_type": "markdown",
   "id": "wired-stability",
   "metadata": {},
   "source": [
    "- On-policy\n",
    "\n",
    "On policy는 behavior policy와 target policy가 같다. \n",
    "\n",
    "즉 현재 행동하는 policy를 그대로 update할 목적으로 환경을 탐색. \n",
    "\n",
    "현재 policy를 통해 얻은 trajectories를 가지고 policy를 update를 하기 때문에 얻어지는 state distribution 자체가 현재 policy에 의존적. \n",
    "\n",
    "그렇기 때문에, data dependent. \n",
    "\n",
    "이는 local optimal에 수렴할 수 있는 가능성. \n",
    "\n",
    "또한 한번 policy를 update한 후, 그 이전의 trajectories는 현재의 policy와 다르기 때문에 더이상 쓸 수 없다. \n",
    "\n",
    "하지만 주로 update할 action selection이 stochastic하기 때문에, exploration strategy에서 off policy보다 편할 수 있다.\n",
    "\n",
    "$$Q(s,a) \\leftarrow Q(s,a)+\\alpha\\cdot(r_s+\\gamma Q(s',a')-Q(s,a))$$\n",
    "\n",
    "- Off-policy\n",
    "\n",
    "Off policy는 behavior policy와 target policy가 다르다. \n",
    "\n",
    "현재 행동하는 policies와 update할 policy가 달라도 된다는 뜻. \n",
    "\n",
    "이는 target policy와 behavior policy에 의한 distribution차이를 Importance Sampling(IS)을 이용해 해결하거나 target policy의 action selection을 주로 max의 연산으로 deterministic하게 취함으로써 해결. \n",
    "\n",
    "approximated action value function $\\hat{Q}$가 있을때, 한 state $s_t$에서의 $\\hat{Q}(s,a)$의 더 정확한 값은 $r(s,a)+max_{a'}\\hat{Q}(s',a')$이기 때문에 업데이트 할 수 있다. \n",
    "\n",
    "이는 target policy의 action을 제한시켰기 때문에, local optimal에 빠지지 않기 위해 exploration strategy가 필요. \n",
    "\n",
    "그중 가장 간단하게는 epsilon-greedy를 사용하지만, 이는 비효율적이기 때문에, 또 다른 많은 exploration 전략이 존재.\n",
    "\n",
    "$$Q(s,a) \\leftarrow Q(s,a)+\\alpha\\cdot(r_s+\\gamma \\underset{a'}{max}Q(s',a')-Q(s,a))$$\n"
   ]
  },
  {
   "cell_type": "markdown",
   "id": "acquired-operator",
   "metadata": {},
   "source": [
    "### DQN\n",
    "\n",
    "DQN의 가장 큰 contribution은 두 가지 아이디어로 Q-learning 알고리즘을 개선해서 neural network predictor 적용에 성공한 것. \n",
    "\n",
    "1. experience replay\n",
    "    - 인접한 학습 데이터 사이의 correlation으로 인한 비효율성을 극복하기 위한 기법 \n",
    "    - 게임을 하는 agent의 경험 데이터$(s,a,r,s')$를 replay memory라는 이름의 buffer pool에 매 순간 저장\n",
    "    - update 할 때는 replay memory에서 random하게 minibatch 크기의 sample을 뽑아 계산하는 것\n",
    "\n",
    "\n",
    "2. target network\n",
    "    - DQN과 똑같은 neural network을 하나 더 만들어, 그 weight 값이 가끔씩만 update 되도록 한 것\n",
    "    - $Q(s,a)$를 학습하는 순간, target 값도 따라 변하면서 학습 성능이 떨어지는 문제를 개선하기 위해서\n",
    "    - Target network의 weight 값들은 주기적으로 DQN의 값을 복사. \n",
    "    - Q-learning의 update에서 아래 식과 같은 loss function을 사용하는데, 먼저 나오는 Q는 target network에서 계산한 것이고 뒤의 Q는 원래의 DQN에서 계산한 것\n",
    "    \n",
    "$$L_i(\\theta_i)=E_{(s,a,r,s')~U(D)}[(r+\\gamma\\underset{a'}{\\mathrm{max}}Q(s',a';\\theta^{-}_i)-Q(s,a;\\theta_i))^2]$$"
   ]
  },
  {
   "cell_type": "markdown",
   "id": "jewish-going",
   "metadata": {
    "ExecuteTime": {
     "end_time": "2021-05-02T00:59:31.597533Z",
     "start_time": "2021-05-02T00:59:31.593678Z"
    }
   },
   "source": [
    "### Actor Critic\n",
    "\n",
    "Actor-Critic 알고리즘은 Actor 네트워크와 Critic 네트워크라는 두 개의 네트워크를 사용\n",
    "\n",
    "Actor는 상태가 주어졌을 때 행동을 결정하고, Critic은 상태의 가치를 평가\n",
    "\n"
   ]
  },
  {
   "cell_type": "markdown",
   "id": "julian-reservoir",
   "metadata": {},
   "source": [
    "## DDPG"
   ]
  },
  {
   "cell_type": "markdown",
   "id": "hairy-bronze",
   "metadata": {},
   "source": [
    "### DQN의 한계점\n",
    "\n",
    "1. discrete, low-dimentional action spaces만 다룰 수 있다.\n",
    "2. 모든 단계에서 반복적인 최적화 프로세스를 필요로 하는 action-value function을 maximize하는 행동을 찾는 것에 의존하기 때문에 continuous domain에 직접 적용할 수 없다."
   ]
  },
  {
   "cell_type": "markdown",
   "id": "taken-caribbean",
   "metadata": {},
   "source": [
    "### Contribution\n",
    "\n",
    "1. replay buffer\n",
    "\n",
    "- 강화학습을 neural networks를 사용하여 학습할 때 대부분의 optimization algorithm이 sample이 독립적이고 동일하게 분포되어 있다고 가정하는 문제점\n",
    "- 이를 해결하기 위해 replay buffer 사용\n",
    "- $(s_t,a_t,r_t,s_{t+1})$\n",
    "- 각 timestep에서 actor와 critic은 buffer에서 균일하게 mini-batch를 샘플링하여 업데이트하고 uncorrelated transitions를 학습할 수 있는 이점\n",
    "\n",
    "2. soft target update\n",
    "\n",
    "- neural network를 사용하여 Q-learning을 직접 구현하는 것은 불안정\n",
    "- 업데이트중인 network $Q(s,a|\\theta^Q)$도 target value를 계산하는데 사용되기 때문에 업데이트가 발산하는 경향\n",
    "- DQN에서 target network를 사용하는 것과 유사하지만 가중치를 직접 복사하는 대신 Actor, Critic에 \"soft\" target update\n",
    "- target value 생성을 위해 actor($Q'(s,a|\\theta^{Q'}$)와 critic($\\mu'(s|\\theta^{\\mu'}$) network 복사\n",
    "- 그 다음 학습된 network를 천천히 추적하도록 target network의 가중치 업데이트\n",
    "$$\\theta' \\leftarrow \\tau\\theta+(1-\\tau)\\theta' \\;\\;\\; \\mathrm{with} \\;\\;\\tau << 1$$\n",
    "- target value가 천천히 변경되도록 제한하여 학습의 안정성을 향상(학습 속도는 느려질 수 있음)\n",
    "\n",
    "3. batch normalization\n",
    "\n",
    "- 서로 다른 구성요소는 서로 다른 물리적 단위를 가질 수 있고 범위가 environment 마다 다르다.\n",
    "- 이는 network가 효과적으로 학습하기 어렵고 일반화되는 hyper parameter를 찾기 어려울 수 있다.\n",
    "- 이를 해결하기 위해 batch normalization 사용\n",
    "- 단위 평균과 분산을 갖도록 mini-batch의 sample에 대한 각 차원을 정규화\n",
    "- 또한 테스트 중 정규화에 사용할 mean, variance의 running average를 유지\n",
    "\n",
    "4. noise process\n",
    "\n",
    "- noise process $N$에서 샘플링된 noise를 actor policy에 추가하여 탐색 정책 $\\mu'$ 구성\n",
    "\n",
    "$$\\mu'(s_t)=\\mu(s_t|\\theta_t^{\\mu})+N$$\n",
    "\n",
    "- Ornstein-Uhlenbeck process 이용"
   ]
  },
  {
   "cell_type": "markdown",
   "id": "foreign-highway",
   "metadata": {},
   "source": [
    "## Problem"
   ]
  },
  {
   "cell_type": "markdown",
   "id": "indirect-novel",
   "metadata": {},
   "source": [
    "Inverted Pendulum control problem을 play\n",
    "\n",
    "Action : swing left or swing right.\n",
    "\n",
    "Actions가 discrete하지 않고 continuous"
   ]
  },
  {
   "cell_type": "code",
   "execution_count": 1,
   "id": "fantastic-norway",
   "metadata": {
    "ExecuteTime": {
     "end_time": "2021-05-01T17:01:29.825549Z",
     "start_time": "2021-05-01T17:01:28.958393Z"
    }
   },
   "outputs": [],
   "source": [
    "import gym\n",
    "import numpy as np\n",
    "import torch\n",
    "import torch.nn as nn\n",
    "import torch.nn.functional as F\n",
    "import torch.optim as optim\n",
    "import matplotlib.pyplot as plt"
   ]
  },
  {
   "cell_type": "code",
   "execution_count": 2,
   "id": "beneficial-navigation",
   "metadata": {
    "ExecuteTime": {
     "end_time": "2021-05-01T17:01:29.856342Z",
     "start_time": "2021-05-01T17:01:29.829900Z"
    }
   },
   "outputs": [],
   "source": [
    "device = torch.device(\"cuda\" if torch.cuda.is_available() else \"cpu\")"
   ]
  },
  {
   "cell_type": "code",
   "execution_count": 3,
   "id": "partial-worthy",
   "metadata": {
    "ExecuteTime": {
     "end_time": "2021-05-01T17:01:29.893330Z",
     "start_time": "2021-05-01T17:01:29.859688Z"
    }
   },
   "outputs": [
    {
     "name": "stdout",
     "output_type": "stream",
     "text": [
      "Size of State Space ->  3\n",
      "Size of Action Space ->  1\n",
      "Max Value of Action ->  2.0\n",
      "Min Value of Action ->  -2.0\n"
     ]
    }
   ],
   "source": [
    "problem = \"Pendulum-v0\"\n",
    "env = gym.make(problem)\n",
    "\n",
    "num_states = env.observation_space.shape[0]\n",
    "print(\"Size of State Space ->  {}\".format(num_states))\n",
    "num_actions = env.action_space.shape[0]\n",
    "print(\"Size of Action Space ->  {}\".format(num_actions))\n",
    "\n",
    "upper_bound = env.action_space.high[0]\n",
    "lower_bound = env.action_space.low[0]\n",
    "\n",
    "print(\"Max Value of Action ->  {}\".format(upper_bound))\n",
    "print(\"Min Value of Action ->  {}\".format(lower_bound))"
   ]
  },
  {
   "cell_type": "markdown",
   "id": "dynamic-baghdad",
   "metadata": {},
   "source": [
    "### Ornstein-Uhlenbeck process\n",
    "\n",
    "$$dx_t=\\theta (\\mu-x_t)+\\sigma dW_t$$\n",
    "\n",
    "- OU Process는 평균으로 회귀하는 random process\n",
    "- θ는 얼마나 빨리 평균으로 회귀할 지를 나타내는 파라미터이며 μ는 평균\n",
    "- σ는 process의 변동성을 의미하며 Wt는 Wiener process(변수의 변화가 평균이 0이고 분산이 1인 특성을 가지는 확률과정)를 의미\n",
    "- 따라서 이전의 noise들과 temporally correlated\n",
    "- 위와 같은 temporally correlated noise process를 사용하는 이유는 physical control과 같은 관성이 있는 환경에서 학습 시킬 때 보다 효과적이기 때문"
   ]
  },
  {
   "cell_type": "code",
   "execution_count": 4,
   "id": "frozen-special",
   "metadata": {
    "ExecuteTime": {
     "end_time": "2021-05-01T17:01:29.901733Z",
     "start_time": "2021-05-01T17:01:29.894772Z"
    }
   },
   "outputs": [],
   "source": [
    "class OUActionNoise:\n",
    "    def __init__(self, mean, std_deviation, theta=0.15, dt=1e-2, x_initial=None):\n",
    "        self.theta = theta\n",
    "        self.mean = mean\n",
    "        self.std_dev = std_deviation\n",
    "        self.dt = dt\n",
    "        self.x_initial = x_initial\n",
    "        self.reset()\n",
    "\n",
    "    def __call__(self):\n",
    "        # Formula taken from https://www.wikipedia.org/wiki/Ornstein-Uhlenbeck_process.\n",
    "        x = (\n",
    "            self.x_prev\n",
    "            + self.theta * (self.mean - self.x_prev) * self.dt\n",
    "            + self.std_dev * np.sqrt(self.dt) * np.random.normal(size=self.mean.shape)\n",
    "        )\n",
    "        # Store x into x_prev\n",
    "        # Makes next noise dependent on current one\n",
    "        self.x_prev = x\n",
    "        return x\n",
    "\n",
    "    def reset(self):\n",
    "        if self.x_initial is not None:\n",
    "            self.x_prev = self.x_initial\n",
    "        else:\n",
    "            self.x_prev = np.zeros_like(self.mean)"
   ]
  },
  {
   "cell_type": "markdown",
   "id": "narrative-italy",
   "metadata": {},
   "source": [
    "<img src='../img/ddpg01.png'>"
   ]
  },
  {
   "cell_type": "code",
   "execution_count": 5,
   "id": "affiliated-venue",
   "metadata": {
    "ExecuteTime": {
     "end_time": "2021-05-01T17:01:29.918901Z",
     "start_time": "2021-05-01T17:01:29.903185Z"
    }
   },
   "outputs": [],
   "source": [
    "class Buffer:\n",
    "    def __init__(self, buffer_capacity=100000, batch_size=64):\n",
    "        # Number of \"experiences\" to store at max\n",
    "        self.buffer_capacity = buffer_capacity\n",
    "        # Num of tuples to train on.\n",
    "        self.batch_size = batch_size\n",
    "\n",
    "        # Its tells us num of times record() was called.\n",
    "        self.buffer_counter = 0\n",
    "\n",
    "        # Instead of list of tuples as the exp.replay concept go\n",
    "        # We use different np.arrays for each tuple element\n",
    "        self.state_buffer = np.zeros((self.buffer_capacity, num_states))\n",
    "        self.action_buffer = np.zeros((self.buffer_capacity, num_actions))\n",
    "        self.reward_buffer = np.zeros((self.buffer_capacity, 1))\n",
    "        self.next_state_buffer = np.zeros((self.buffer_capacity, num_states))\n",
    "\n",
    "    # Takes (s,a,r,s') obervation tuple as input\n",
    "    def record(self, obs_tuple):\n",
    "        # Set index to zero if buffer_capacity is exceeded,\n",
    "        # replacing old records\n",
    "        index = self.buffer_counter % self.buffer_capacity\n",
    "\n",
    "        self.state_buffer[index] = obs_tuple[0]\n",
    "        self.action_buffer[index] = obs_tuple[1]\n",
    "        self.reward_buffer[index] = obs_tuple[2]\n",
    "        self.next_state_buffer[index] = obs_tuple[3]\n",
    "\n",
    "        self.buffer_counter += 1\n",
    "\n",
    "    def update(\n",
    "        self, state_batch, action_batch, reward_batch, next_state_batch,\n",
    "    ):\n",
    "        critic_optimizer.zero_grad(set_to_none=True)\n",
    "        target_actions = target_actor(next_state_batch)\n",
    "        y = reward_batch + gamma * target_critic(\n",
    "            next_state_batch, target_actions\n",
    "        )\n",
    "        critic_value = critic_model(state_batch, action_batch)\n",
    "        critic_loss = torch.mean(torch.square(y - critic_value))\n",
    "        critic_loss.backward()\n",
    "        critic_optimizer.step()\n",
    "        \n",
    "        actor_optimizer.zero_grad(set_to_none=True)\n",
    "        actions = actor_model(state_batch)\n",
    "        critic_value = critic_model(state_batch, actions)\n",
    "        actor_loss = -torch.mean(critic_value)\n",
    "        actor_loss.backward()\n",
    "        actor_optimizer.step()\n",
    "        \n",
    "    # We compute the loss and update parameters\n",
    "    def learn(self):\n",
    "        # Get sampling range\n",
    "        record_range = min(self.buffer_counter, self.buffer_capacity)\n",
    "        # Randomly sample indices\n",
    "        batch_indices = np.random.choice(record_range, self.batch_size)\n",
    "\n",
    "        # Convert to tensors\n",
    "        state_batch = torch.from_numpy(self.state_buffer[batch_indices]).float().to(device)\n",
    "        action_batch = torch.from_numpy(self.action_buffer[batch_indices]).float().to(device)\n",
    "        reward_batch = torch.from_numpy(self.reward_buffer[batch_indices])\n",
    "        reward_batch = reward_batch.type(torch.FloatTensor).to(device)\n",
    "        next_state_batch = torch.from_numpy(self.next_state_buffer[batch_indices]).float().to(device)\n",
    "\n",
    "        self.update(state_batch, action_batch, reward_batch, next_state_batch)\n",
    "\n",
    "\n",
    "# This update target parameters slowly\n",
    "# Based on rate `tau`, which is much less than one.\n",
    "def update_target(target_weights, weights, tau):\n",
    "    for (a, b) in zip(target_weights, weights):\n",
    "        a.data.copy_(b * tau + a * (1 - tau))"
   ]
  },
  {
   "cell_type": "markdown",
   "id": "center-pollution",
   "metadata": {},
   "source": [
    "$$L_i(\\theta_i)=E_{(s,a,r,s')~U(D)}[(r+\\gamma\\underset{a'}{\\mathrm{max}}Q(s',a';\\theta^{-}_i)-Q(s,a;\\theta_i))^2]$$"
   ]
  },
  {
   "cell_type": "markdown",
   "id": "solid-criterion",
   "metadata": {},
   "source": [
    "### actor, critic\n",
    "\n",
    "<img src='../img/ddpg03.png' width='500'> "
   ]
  },
  {
   "cell_type": "code",
   "execution_count": 6,
   "id": "framed-words",
   "metadata": {
    "ExecuteTime": {
     "end_time": "2021-05-01T17:01:29.931561Z",
     "start_time": "2021-05-01T17:01:29.920160Z"
    }
   },
   "outputs": [],
   "source": [
    "class get_actor(nn.Module):\n",
    "    def __init__(self, num_states, upper_bound):\n",
    "        super(get_actor, self).__init__()\n",
    "        \n",
    "        self.upper_bound = torch.as_tensor(upper_bound).to(device)\n",
    "\n",
    "        Linear1 = nn.Linear(num_states, 256)\n",
    "        Linear2 = nn.Linear(256, 256)\n",
    "        Linear3 = nn.Linear(256, 1)\n",
    "        \n",
    "        nn.init.uniform_(Linear3.weight, a=-0.003, b=0.003)\n",
    "        \n",
    "        self.actor_layer = nn.Sequential(\n",
    "            Linear1,\n",
    "            nn.ReLU(),\n",
    "            Linear2,\n",
    "            nn.ReLU(),\n",
    "            Linear3,\n",
    "            nn.Tanh()\n",
    "        )\n",
    "        \n",
    "    def forward(self, inputs):\n",
    "        output = self.actor_layer(inputs)\n",
    "        return output * self.upper_bound\n",
    "\n",
    "class get_critic(nn.Module):\n",
    "    def __init__(self, num_states, num_actions):\n",
    "        super(get_critic, self).__init__()\n",
    "                \n",
    "        self.state_layer = nn.Sequential(\n",
    "            nn.Linear(num_states, 16),\n",
    "            nn.ReLU(),\n",
    "            nn.Linear(16, 32),\n",
    "            nn.ReLU(),\n",
    "        )\n",
    "        \n",
    "        self.action_layer = nn.Sequential(\n",
    "            nn.Linear(num_actions, 32),\n",
    "            nn.ReLU()\n",
    "        )\n",
    "        \n",
    "        self.out_layer = nn.Sequential(\n",
    "            nn.Linear(64, 256),\n",
    "            nn.ReLU(),\n",
    "            nn.Linear(256, 256),\n",
    "            nn.ReLU(),\n",
    "            nn.Linear(256, 1)\n",
    "        )\n",
    "        \n",
    "    def forward(self, state_input, action_input):\n",
    "        state_out = self.state_layer(state_input)\n",
    "        action_out = self.action_layer(action_input)\n",
    "        concat = torch.cat((state_out, action_out), 1)\n",
    "        output = self.out_layer(concat)\n",
    "        return output"
   ]
  },
  {
   "cell_type": "code",
   "execution_count": 7,
   "id": "looking-lunch",
   "metadata": {
    "ExecuteTime": {
     "end_time": "2021-05-01T17:01:29.939564Z",
     "start_time": "2021-05-01T17:01:29.934137Z"
    }
   },
   "outputs": [],
   "source": [
    "def policy(state, noise_object, upper_bound, lower_bound):\n",
    "    sampled_actions = torch.squeeze(actor_model(state))\n",
    "    noise = noise_object()\n",
    "    # Adding noise to action\n",
    "    sampled_actions = sampled_actions.detach().cpu().numpy() + noise\n",
    "\n",
    "    # We make sure action is within bounds\n",
    "    legal_action = np.clip(sampled_actions, lower_bound, upper_bound)\n",
    "\n",
    "    return [np.squeeze(legal_action)]"
   ]
  },
  {
   "cell_type": "code",
   "execution_count": 29,
   "id": "potential-vaccine",
   "metadata": {
    "ExecuteTime": {
     "end_time": "2021-05-02T19:18:40.342448Z",
     "start_time": "2021-05-02T19:18:40.312077Z"
    }
   },
   "outputs": [],
   "source": [
    "std_dev = 0.2\n",
    "ou_noise = OUActionNoise(mean=np.zeros(1), std_deviation=float(std_dev) * np.ones(1))\n",
    "\n",
    "actor_model = get_actor(num_states, upper_bound).to(device)\n",
    "critic_model = get_critic(num_states, num_actions).to(device)\n",
    "\n",
    "target_actor = get_actor(num_states, upper_bound).to(device)\n",
    "target_critic = get_critic(num_states, num_actions).to(device)\n",
    "\n",
    "# Making the weights equal initially\n",
    "target_actor.load_state_dict(actor_model.state_dict())\n",
    "target_critic.load_state_dict(critic_model.state_dict())\n",
    "\n",
    "# Learning rate for actor-critic models\n",
    "critic_lr = 0.002\n",
    "actor_lr = 0.001\n",
    "\n",
    "critic_optimizer = optim.Adam(critic_model.parameters(), lr=critic_lr)\n",
    "actor_optimizer = optim.Adam(actor_model.parameters(), lr=actor_lr)\n",
    "\n",
    "total_episodes = 100\n",
    "# Discount factor for future rewards\n",
    "gamma = 0.99\n",
    "# Used to update target networks\n",
    "tau = 0.005\n",
    "\n",
    "buffer = Buffer(50000, 64)"
   ]
  },
  {
   "cell_type": "code",
   "execution_count": 30,
   "id": "mighty-disorder",
   "metadata": {
    "ExecuteTime": {
     "end_time": "2021-05-02T19:21:17.444589Z",
     "start_time": "2021-05-02T19:18:40.901111Z"
    },
    "scrolled": true
   },
   "outputs": [
    {
     "name": "stdout",
     "output_type": "stream",
     "text": [
      "Episode * 0 * Avg Reward is ==> -1828.1104350351843\n",
      "Episode * 1 * Avg Reward is ==> -1359.005424850464\n",
      "Episode * 2 * Avg Reward is ==> -1201.0969984522255\n",
      "Episode * 3 * Avg Reward is ==> -1181.0072726495396\n",
      "Episode * 4 * Avg Reward is ==> -1158.3771528731752\n",
      "Episode * 5 * Avg Reward is ==> -1174.179801978392\n",
      "Episode * 6 * Avg Reward is ==> -1191.8360957868788\n",
      "Episode * 7 * Avg Reward is ==> -1259.95065625434\n",
      "Episode * 8 * Avg Reward is ==> -1304.9775454291876\n",
      "Episode * 9 * Avg Reward is ==> -1323.647065888557\n",
      "Episode * 10 * Avg Reward is ==> -1296.357717669625\n",
      "Episode * 11 * Avg Reward is ==> -1312.4955347474634\n",
      "Episode * 12 * Avg Reward is ==> -1307.1410655381237\n",
      "Episode * 13 * Avg Reward is ==> -1295.8500341730828\n",
      "Episode * 14 * Avg Reward is ==> -1287.642883260109\n",
      "Episode * 15 * Avg Reward is ==> -1270.251537210312\n",
      "Episode * 16 * Avg Reward is ==> -1259.8241618881261\n",
      "Episode * 17 * Avg Reward is ==> -1245.186677682304\n",
      "Episode * 18 * Avg Reward is ==> -1231.8900052840856\n",
      "Episode * 19 * Avg Reward is ==> -1219.649812791547\n",
      "Episode * 20 * Avg Reward is ==> -1173.9708488912195\n",
      "Episode * 21 * Avg Reward is ==> -1155.992466706447\n",
      "Episode * 22 * Avg Reward is ==> -1105.7732800560223\n",
      "Episode * 23 * Avg Reward is ==> -1081.5517439467337\n",
      "Episode * 24 * Avg Reward is ==> -1043.2857895546822\n",
      "Episode * 25 * Avg Reward is ==> -1007.9312606648083\n",
      "Episode * 26 * Avg Reward is ==> -975.1477451328375\n",
      "Episode * 27 * Avg Reward is ==> -949.5282428850153\n",
      "Episode * 28 * Avg Reward is ==> -925.797827460335\n",
      "Episode * 29 * Avg Reward is ==> -899.4122320102543\n",
      "Episode * 30 * Avg Reward is ==> -878.026577812305\n",
      "Episode * 31 * Avg Reward is ==> -862.5434951910474\n",
      "Episode * 32 * Avg Reward is ==> -836.4596767264514\n",
      "Episode * 33 * Avg Reward is ==> -822.9889979390427\n",
      "Episode * 34 * Avg Reward is ==> -803.101469985593\n",
      "Episode * 35 * Avg Reward is ==> -791.5908079707929\n",
      "Episode * 36 * Avg Reward is ==> -773.526923921291\n",
      "Episode * 37 * Avg Reward is ==> -763.8627952421004\n",
      "Episode * 38 * Avg Reward is ==> -760.5473000200278\n",
      "Episode * 39 * Avg Reward is ==> -744.6751015161642\n",
      "Episode * 40 * Avg Reward is ==> -699.0011802012107\n",
      "Episode * 41 * Avg Reward is ==> -683.2469620285399\n",
      "Episode * 42 * Avg Reward is ==> -667.2925936306524\n",
      "Episode * 43 * Avg Reward is ==> -642.4714093593032\n",
      "Episode * 44 * Avg Reward is ==> -622.056353758579\n",
      "Episode * 45 * Avg Reward is ==> -593.8815738940884\n",
      "Episode * 46 * Avg Reward is ==> -572.696199338611\n",
      "Episode * 47 * Avg Reward is ==> -529.3033794377938\n",
      "Episode * 48 * Avg Reward is ==> -496.9679648083671\n",
      "Episode * 49 * Avg Reward is ==> -462.62659386131656\n",
      "Episode * 50 * Avg Reward is ==> -437.0466933722417\n",
      "Episode * 51 * Avg Reward is ==> -402.7991839930741\n",
      "Episode * 52 * Avg Reward is ==> -374.87805547944396\n",
      "Episode * 53 * Avg Reward is ==> -355.1504843852069\n",
      "Episode * 54 * Avg Reward is ==> -334.75080595399805\n",
      "Episode * 55 * Avg Reward is ==> -312.64162993635006\n",
      "Episode * 56 * Avg Reward is ==> -291.1277545979606\n",
      "Episode * 57 * Avg Reward is ==> -266.247661715163\n",
      "Episode * 58 * Avg Reward is ==> -244.4273641661649\n",
      "Episode * 59 * Avg Reward is ==> -222.91203805609794\n",
      "Episode * 60 * Avg Reward is ==> -225.48683752735982\n",
      "Episode * 61 * Avg Reward is ==> -215.31532016923364\n",
      "Episode * 62 * Avg Reward is ==> -227.45161761177033\n",
      "Episode * 63 * Avg Reward is ==> -225.95299116699016\n",
      "Episode * 64 * Avg Reward is ==> -222.84234791608122\n",
      "Episode * 65 * Avg Reward is ==> -222.71466353503484\n",
      "Episode * 66 * Avg Reward is ==> -219.71240481342085\n",
      "Episode * 67 * Avg Reward is ==> -216.4214459726965\n",
      "Episode * 68 * Avg Reward is ==> -212.87612173605353\n",
      "Episode * 69 * Avg Reward is ==> -217.27467229928885\n",
      "Episode * 70 * Avg Reward is ==> -214.42051938957766\n",
      "Episode * 71 * Avg Reward is ==> -210.81146883345363\n",
      "Episode * 72 * Avg Reward is ==> -214.0255076770496\n",
      "Episode * 73 * Avg Reward is ==> -207.63979628381776\n",
      "Episode * 74 * Avg Reward is ==> -207.407943942955\n",
      "Episode * 75 * Avg Reward is ==> -197.70631046275562\n",
      "Episode * 76 * Avg Reward is ==> -197.69240878967722\n",
      "Episode * 77 * Avg Reward is ==> -193.30643024242363\n",
      "Episode * 78 * Avg Reward is ==> -180.49126785802528\n",
      "Episode * 79 * Avg Reward is ==> -183.07846948823962\n",
      "Episode * 80 * Avg Reward is ==> -186.13219659770283\n",
      "Episode * 81 * Avg Reward is ==> -182.68077079251856\n",
      "Episode * 82 * Avg Reward is ==> -182.19750809336387\n",
      "Episode * 83 * Avg Reward is ==> -182.26525507806164\n",
      "Episode * 84 * Avg Reward is ==> -179.22654162784573\n",
      "Episode * 85 * Avg Reward is ==> -176.11516786739008\n",
      "Episode * 86 * Avg Reward is ==> -167.7582861343606\n",
      "Episode * 87 * Avg Reward is ==> -170.65453743712035\n",
      "Episode * 88 * Avg Reward is ==> -164.33236862898548\n",
      "Episode * 89 * Avg Reward is ==> -164.59075344588388\n",
      "Episode * 90 * Avg Reward is ==> -167.6429483063745\n",
      "Episode * 91 * Avg Reward is ==> -167.77843214148487\n",
      "Episode * 92 * Avg Reward is ==> -170.8297422375668\n",
      "Episode * 93 * Avg Reward is ==> -164.91520929163892\n",
      "Episode * 94 * Avg Reward is ==> -158.97414950155564\n",
      "Episode * 95 * Avg Reward is ==> -158.82731638360968\n",
      "Episode * 96 * Avg Reward is ==> -156.16778885895098\n",
      "Episode * 97 * Avg Reward is ==> -159.14514396881378\n",
      "Episode * 98 * Avg Reward is ==> -162.3229849788955\n",
      "Episode * 99 * Avg Reward is ==> -167.58298048050028\n"
     ]
    },
    {
     "data": {
      "image/png": "[encoded data removed]",
      "text/plain": [
       "<Figure size 432x288 with 1 Axes>"
      ]
     },
     "metadata": {
      "needs_background": "light"
     },
     "output_type": "display_data"
    }
   ],
   "source": [
    "# To store reward history of each episode\n",
    "ep_reward_list = []\n",
    "# To store average reward history of last few episodes\n",
    "avg_reward_list = []\n",
    "\n",
    "for ep in range(total_episodes):\n",
    "\n",
    "    prev_state = env.reset()\n",
    "    episodic_reward = 0\n",
    "\n",
    "    while True:\n",
    "        torch_prev_state = torch.unsqueeze(torch.Tensor(prev_state), 0).to(device)\n",
    "\n",
    "        action = policy(torch_prev_state, ou_noise, upper_bound, lower_bound)\n",
    "        # Recieve state and reward from environment.\n",
    "        state, reward, done, info = env.step(action)\n",
    "\n",
    "        buffer.record((prev_state, action, reward, state))\n",
    "        episodic_reward += reward\n",
    "\n",
    "        buffer.learn()\n",
    "        update_target(target_actor.parameters(), actor_model.parameters(), tau)\n",
    "        update_target(target_critic.parameters(), critic_model.parameters(), tau)\n",
    "\n",
    "        # End this episode when `done` is True\n",
    "        if done:\n",
    "            break\n",
    "\n",
    "        prev_state = state\n",
    "\n",
    "    ep_reward_list.append(episodic_reward)\n",
    "\n",
    "    # Mean of last 40 episodes\n",
    "    avg_reward = np.mean(ep_reward_list[-40:])\n",
    "    print(\"Episode * {} * Avg Reward is ==> {}\".format(ep, avg_reward))\n",
    "    avg_reward_list.append(avg_reward)\n",
    "\n",
    "# Plotting graph\n",
    "# Episodes versus Avg. Rewards\n",
    "plt.plot(avg_reward_list)\n",
    "plt.xlabel(\"Episode\")\n",
    "plt.ylabel(\"Avg. Epsiodic Reward\")\n",
    "plt.show()"
   ]
  },
  {
   "cell_type": "code",
   "execution_count": 31,
   "id": "adult-andrew",
   "metadata": {
    "ExecuteTime": {
     "end_time": "2021-05-02T19:38:43.128831Z",
     "start_time": "2021-05-02T19:38:43.103566Z"
    }
   },
   "outputs": [],
   "source": [
    "# Save the weights\n",
    "torch.save(actor_model.state_dict(), \"pendulum_actor.pt\")\n",
    "torch.save(critic_model.state_dict(), \"pendulum_critic.pt\")\n",
    "\n",
    "torch.save(target_actor.state_dict(), \"pendulum_target_actor.pt\")\n",
    "torch.save(target_critic.state_dict(), \"pendulum_target_critic.pt\")"
   ]
  },
  {
   "cell_type": "code",
   "execution_count": 32,
   "id": "graphic-metro",
   "metadata": {
    "ExecuteTime": {
     "end_time": "2021-05-02T19:38:46.584013Z",
     "start_time": "2021-05-02T19:38:43.574255Z"
    }
   },
   "outputs": [],
   "source": [
    "# Render an episode and save as a GIF file\n",
    "\n",
    "from IPython import display as ipythondisplay\n",
    "from PIL import Image\n",
    "from pyvirtualdisplay import Display\n",
    "\n",
    "\n",
    "display = Display(visible=0, size=(400, 300))\n",
    "display.start()\n",
    "\n",
    "\n",
    "def render_episode(env): \n",
    "    screen = env.render(mode='rgb_array')\n",
    "    im = Image.fromarray(screen)\n",
    "\n",
    "    images = [im]\n",
    "  \n",
    "    state = env.reset()\n",
    "    while True:\n",
    "\n",
    "        torch_prev_state = torch.unsqueeze(torch.Tensor(prev_state), 0).to(device)\n",
    "\n",
    "        action = actor_model(torch_prev_state).detach().cpu()\n",
    "        state, reward, done, info = env.step(action)\n",
    "\n",
    "        screen = env.render(mode='rgb_array')\n",
    "        images.append(Image.fromarray(screen))\n",
    "  \n",
    "        if done:\n",
    "            break\n",
    "  \n",
    "    return images\n",
    "\n",
    "\n",
    "# Save GIF image\n",
    "images = render_episode(env)\n",
    "image_file = 'Pendulum-v0.gif'\n",
    "# loop=0: loop forever, duration=1: play each frame for 1ms\n",
    "images[0].save(\n",
    "    image_file, save_all=True, append_images=images[1:], loop=0, duration=1)"
   ]
  },
  {
   "cell_type": "markdown",
   "id": "mineral-guinea",
   "metadata": {},
   "source": [
    "<img src='../img/ddpg04.gif' width='300'>"
   ]
  },
  {
   "cell_type": "markdown",
   "id": "understood-building",
   "metadata": {},
   "source": [
    "<img src='../img/ddpg05.gif' width='300'>"
   ]
  },
  {
   "cell_type": "markdown",
   "id": "conditional-toronto",
   "metadata": {},
   "source": [
    "---"
   ]
  }
 ],
 "metadata": {
  "hide_input": false,
  "kernelspec": {
   "display_name": "Python 3",
   "language": "python",
   "name": "python3"
  },
  "language_info": {
   "codemirror_mode": {
    "name": "ipython",
    "version": 3
   },
   "file_extension": ".py",
   "mimetype": "text/x-python",
   "name": "python",
   "nbconvert_exporter": "python",
   "pygments_lexer": "ipython3",
   "version": "3.6.9"
  },
  "toc": {
   "base_numbering": 1,
   "nav_menu": {},
   "number_sections": true,
   "sideBar": true,
   "skip_h1_title": false,
   "title_cell": "Table of Contents",
   "title_sidebar": "Contents",
   "toc_cell": false,
   "toc_position": {},
   "toc_section_display": true,
   "toc_window_display": false
  },
  "varInspector": {
   "cols": {
    "lenName": 16,
    "lenType": 16,
    "lenVar": 40
   },
   "kernels_config": {
    "python": {
     "delete_cmd_postfix": "",
     "delete_cmd_prefix": "del ",
     "library": "var_list.py",
     "varRefreshCmd": "print(var_dic_list())"
    },
    "r": {
     "delete_cmd_postfix": ") ",
     "delete_cmd_prefix": "rm(",
     "library": "var_list.r",
     "varRefreshCmd": "cat(var_dic_list()) "
    }
   },
   "types_to_exclude": [
    "module",
    "function",
    "builtin_function_or_method",
    "instance",
    "_Feature"
   ],
   "window_display": false
  }
 },
 "nbformat": 4,
 "nbformat_minor": 5
}
